{
  "nbformat": 4,
  "nbformat_minor": 0,
  "metadata": {
    "colab": {
      "provenance": [],
      "machine_shape": "hm",
      "gpuType": "V100",
      "include_colab_link": true
    },
    "kernelspec": {
      "name": "python3",
      "display_name": "Python 3"
    },
    "language_info": {
      "name": "python"
    },
    "accelerator": "GPU"
  },
  "cells": [
    {
      "cell_type": "markdown",
      "metadata": {
        "id": "view-in-github",
        "colab_type": "text"
      },
      "source": [
        "<a href=\"https://colab.research.google.com/github/narendra974/AIMLOPS_IISC/blob/main/Capstone_Interim_English_German_Translation_final.ipynb\" target=\"_parent\"><img src=\"https://colab.research.google.com/assets/colab-badge.svg\" alt=\"Open In Colab\"/></a>"
      ]
    },
    {
      "cell_type": "code",
      "execution_count": null,
      "metadata": {
        "id": "PgRkHmJPPQvz",
        "colab": {
          "base_uri": "https://localhost:8080/"
        },
        "outputId": "483c6b58-9a9f-42e7-e0cd-0dc2d175b746"
      },
      "outputs": [
        {
          "output_type": "stream",
          "name": "stdout",
          "text": [
            "Mounted at /content/drive\n"
          ]
        }
      ],
      "source": [
        "import pandas as pd\n",
        "from google.colab import drive\n",
        "drive.mount('/content/drive')\n"
      ]
    },
    {
      "cell_type": "code",
      "source": [
        "import numpy as np"
      ],
      "metadata": {
        "id": "fXIO6Hzq4g_o"
      },
      "execution_count": null,
      "outputs": []
    },
    {
      "cell_type": "code",
      "source": [
        "!pip install pycld2"
      ],
      "metadata": {
        "colab": {
          "base_uri": "https://localhost:8080/"
        },
        "id": "iEOlsrXaM7CV",
        "outputId": "d9e53785-5ca0-4a03-b389-0a0d4493fa77"
      },
      "execution_count": null,
      "outputs": [
        {
          "output_type": "stream",
          "name": "stdout",
          "text": [
            "Collecting pycld2\n",
            "  Downloading pycld2-0.41.tar.gz (41.4 MB)\n",
            "\u001b[2K     \u001b[90m━━━━━━━━━━━━━━━━━━━━━━━━━━━━━━━━━━━━━━━━\u001b[0m \u001b[32m41.4/41.4 MB\u001b[0m \u001b[31m39.8 MB/s\u001b[0m eta \u001b[36m0:00:00\u001b[0m\n",
            "\u001b[?25h  Preparing metadata (setup.py) ... \u001b[?25l\u001b[?25hdone\n",
            "Building wheels for collected packages: pycld2\n",
            "  Building wheel for pycld2 (setup.py) ... \u001b[?25l\u001b[?25hdone\n",
            "  Created wheel for pycld2: filename=pycld2-0.41-cp310-cp310-linux_x86_64.whl size=9904063 sha256=4760e687f47fa2e7c861ed63e3d64d79c7c88042ac1c2c16c2d5047e002cc0c3\n",
            "  Stored in directory: /root/.cache/pip/wheels/be/81/31/240c89c845e008a93d98542325270007de595bfd356eb0b06c\n",
            "Successfully built pycld2\n",
            "Installing collected packages: pycld2\n",
            "Successfully installed pycld2-0.41\n"
          ]
        }
      ]
    },
    {
      "cell_type": "code",
      "source": [
        "import matplotlib.pyplot as plt\n",
        "import seaborn as sns\n",
        "import nltk\n",
        "from nltk.corpus import stopwords\n",
        "import pycld2 as cld2\n",
        "import spacy\n",
        "from nltk.stem.porter import PorterStemmer\n",
        "from nltk.stem import SnowballStemmer\n",
        "from nltk.stem import WordNetLemmatizer\n",
        "from nltk.tokenize import word_tokenize"
      ],
      "metadata": {
        "id": "2U4d5wd2rRlm"
      },
      "execution_count": null,
      "outputs": []
    },
    {
      "cell_type": "code",
      "source": [
        "nltk.download('words')\n",
        "nltk.download('stopwords')\n",
        "nltk.download('punkt')"
      ],
      "metadata": {
        "id": "e1D6NCEku0Na"
      },
      "execution_count": null,
      "outputs": []
    },
    {
      "cell_type": "code",
      "source": [
        "nltk.download('wordnet')\n",
        "!python -m spacy download de_core_news_sm\n",
        "gernlp = spacy.load('de_core_news_sm')\n",
        "engnlp = spacy.load('en_core_web_sm')"
      ],
      "metadata": {
        "colab": {
          "base_uri": "https://localhost:8080/"
        },
        "id": "e3BFP_ZsM4rH",
        "outputId": "461e8bd6-9bd3-4e0f-8783-68faa558a606"
      },
      "execution_count": null,
      "outputs": [
        {
          "output_type": "stream",
          "name": "stderr",
          "text": [
            "[nltk_data] Downloading package wordnet to /root/nltk_data...\n"
          ]
        },
        {
          "output_type": "stream",
          "name": "stdout",
          "text": [
            "2023-12-03 17:23:13.474022: E tensorflow/compiler/xla/stream_executor/cuda/cuda_dnn.cc:9342] Unable to register cuDNN factory: Attempting to register factory for plugin cuDNN when one has already been registered\n",
            "2023-12-03 17:23:13.474079: E tensorflow/compiler/xla/stream_executor/cuda/cuda_fft.cc:609] Unable to register cuFFT factory: Attempting to register factory for plugin cuFFT when one has already been registered\n",
            "2023-12-03 17:23:13.474115: E tensorflow/compiler/xla/stream_executor/cuda/cuda_blas.cc:1518] Unable to register cuBLAS factory: Attempting to register factory for plugin cuBLAS when one has already been registered\n",
            "2023-12-03 17:23:15.410619: W tensorflow/compiler/tf2tensorrt/utils/py_utils.cc:38] TF-TRT Warning: Could not find TensorRT\n",
            "Collecting de-core-news-sm==3.6.0\n",
            "  Downloading https://github.com/explosion/spacy-models/releases/download/de_core_news_sm-3.6.0/de_core_news_sm-3.6.0-py3-none-any.whl (14.6 MB)\n",
            "\u001b[2K     \u001b[90m━━━━━━━━━━━━━━━━━━━━━━━━━━━━━━━━━━━━━━━━\u001b[0m \u001b[32m14.6/14.6 MB\u001b[0m \u001b[31m64.7 MB/s\u001b[0m eta \u001b[36m0:00:00\u001b[0m\n",
            "\u001b[?25hRequirement already satisfied: spacy<3.7.0,>=3.6.0 in /usr/local/lib/python3.10/dist-packages (from de-core-news-sm==3.6.0) (3.6.1)\n",
            "Requirement already satisfied: spacy-legacy<3.1.0,>=3.0.11 in /usr/local/lib/python3.10/dist-packages (from spacy<3.7.0,>=3.6.0->de-core-news-sm==3.6.0) (3.0.12)\n",
            "Requirement already satisfied: spacy-loggers<2.0.0,>=1.0.0 in /usr/local/lib/python3.10/dist-packages (from spacy<3.7.0,>=3.6.0->de-core-news-sm==3.6.0) (1.0.5)\n",
            "Requirement already satisfied: murmurhash<1.1.0,>=0.28.0 in /usr/local/lib/python3.10/dist-packages (from spacy<3.7.0,>=3.6.0->de-core-news-sm==3.6.0) (1.0.10)\n",
            "Requirement already satisfied: cymem<2.1.0,>=2.0.2 in /usr/local/lib/python3.10/dist-packages (from spacy<3.7.0,>=3.6.0->de-core-news-sm==3.6.0) (2.0.8)\n",
            "Requirement already satisfied: preshed<3.1.0,>=3.0.2 in /usr/local/lib/python3.10/dist-packages (from spacy<3.7.0,>=3.6.0->de-core-news-sm==3.6.0) (3.0.9)\n",
            "Requirement already satisfied: thinc<8.2.0,>=8.1.8 in /usr/local/lib/python3.10/dist-packages (from spacy<3.7.0,>=3.6.0->de-core-news-sm==3.6.0) (8.1.12)\n",
            "Requirement already satisfied: wasabi<1.2.0,>=0.9.1 in /usr/local/lib/python3.10/dist-packages (from spacy<3.7.0,>=3.6.0->de-core-news-sm==3.6.0) (1.1.2)\n",
            "Requirement already satisfied: srsly<3.0.0,>=2.4.3 in /usr/local/lib/python3.10/dist-packages (from spacy<3.7.0,>=3.6.0->de-core-news-sm==3.6.0) (2.4.8)\n",
            "Requirement already satisfied: catalogue<2.1.0,>=2.0.6 in /usr/local/lib/python3.10/dist-packages (from spacy<3.7.0,>=3.6.0->de-core-news-sm==3.6.0) (2.0.10)\n",
            "Requirement already satisfied: typer<0.10.0,>=0.3.0 in /usr/local/lib/python3.10/dist-packages (from spacy<3.7.0,>=3.6.0->de-core-news-sm==3.6.0) (0.9.0)\n",
            "Requirement already satisfied: pathy>=0.10.0 in /usr/local/lib/python3.10/dist-packages (from spacy<3.7.0,>=3.6.0->de-core-news-sm==3.6.0) (0.10.3)\n",
            "Requirement already satisfied: smart-open<7.0.0,>=5.2.1 in /usr/local/lib/python3.10/dist-packages (from spacy<3.7.0,>=3.6.0->de-core-news-sm==3.6.0) (6.4.0)\n",
            "Requirement already satisfied: tqdm<5.0.0,>=4.38.0 in /usr/local/lib/python3.10/dist-packages (from spacy<3.7.0,>=3.6.0->de-core-news-sm==3.6.0) (4.66.1)\n",
            "Requirement already satisfied: numpy>=1.15.0 in /usr/local/lib/python3.10/dist-packages (from spacy<3.7.0,>=3.6.0->de-core-news-sm==3.6.0) (1.23.5)\n",
            "Requirement already satisfied: requests<3.0.0,>=2.13.0 in /usr/local/lib/python3.10/dist-packages (from spacy<3.7.0,>=3.6.0->de-core-news-sm==3.6.0) (2.31.0)\n",
            "Requirement already satisfied: pydantic!=1.8,!=1.8.1,<3.0.0,>=1.7.4 in /usr/local/lib/python3.10/dist-packages (from spacy<3.7.0,>=3.6.0->de-core-news-sm==3.6.0) (1.10.13)\n",
            "Requirement already satisfied: jinja2 in /usr/local/lib/python3.10/dist-packages (from spacy<3.7.0,>=3.6.0->de-core-news-sm==3.6.0) (3.1.2)\n",
            "Requirement already satisfied: setuptools in /usr/local/lib/python3.10/dist-packages (from spacy<3.7.0,>=3.6.0->de-core-news-sm==3.6.0) (67.7.2)\n",
            "Requirement already satisfied: packaging>=20.0 in /usr/local/lib/python3.10/dist-packages (from spacy<3.7.0,>=3.6.0->de-core-news-sm==3.6.0) (23.2)\n",
            "Requirement already satisfied: langcodes<4.0.0,>=3.2.0 in /usr/local/lib/python3.10/dist-packages (from spacy<3.7.0,>=3.6.0->de-core-news-sm==3.6.0) (3.3.0)\n",
            "Requirement already satisfied: typing-extensions>=4.2.0 in /usr/local/lib/python3.10/dist-packages (from pydantic!=1.8,!=1.8.1,<3.0.0,>=1.7.4->spacy<3.7.0,>=3.6.0->de-core-news-sm==3.6.0) (4.5.0)\n",
            "Requirement already satisfied: charset-normalizer<4,>=2 in /usr/local/lib/python3.10/dist-packages (from requests<3.0.0,>=2.13.0->spacy<3.7.0,>=3.6.0->de-core-news-sm==3.6.0) (3.3.2)\n",
            "Requirement already satisfied: idna<4,>=2.5 in /usr/local/lib/python3.10/dist-packages (from requests<3.0.0,>=2.13.0->spacy<3.7.0,>=3.6.0->de-core-news-sm==3.6.0) (3.6)\n",
            "Requirement already satisfied: urllib3<3,>=1.21.1 in /usr/local/lib/python3.10/dist-packages (from requests<3.0.0,>=2.13.0->spacy<3.7.0,>=3.6.0->de-core-news-sm==3.6.0) (2.0.7)\n",
            "Requirement already satisfied: certifi>=2017.4.17 in /usr/local/lib/python3.10/dist-packages (from requests<3.0.0,>=2.13.0->spacy<3.7.0,>=3.6.0->de-core-news-sm==3.6.0) (2023.11.17)\n",
            "Requirement already satisfied: blis<0.8.0,>=0.7.8 in /usr/local/lib/python3.10/dist-packages (from thinc<8.2.0,>=8.1.8->spacy<3.7.0,>=3.6.0->de-core-news-sm==3.6.0) (0.7.11)\n",
            "Requirement already satisfied: confection<1.0.0,>=0.0.1 in /usr/local/lib/python3.10/dist-packages (from thinc<8.2.0,>=8.1.8->spacy<3.7.0,>=3.6.0->de-core-news-sm==3.6.0) (0.1.4)\n",
            "Requirement already satisfied: click<9.0.0,>=7.1.1 in /usr/local/lib/python3.10/dist-packages (from typer<0.10.0,>=0.3.0->spacy<3.7.0,>=3.6.0->de-core-news-sm==3.6.0) (8.1.7)\n",
            "Requirement already satisfied: MarkupSafe>=2.0 in /usr/local/lib/python3.10/dist-packages (from jinja2->spacy<3.7.0,>=3.6.0->de-core-news-sm==3.6.0) (2.1.3)\n",
            "Installing collected packages: de-core-news-sm\n",
            "Successfully installed de-core-news-sm-3.6.0\n",
            "\u001b[38;5;2m✔ Download and installation successful\u001b[0m\n",
            "You can now load the package via spacy.load('de_core_news_sm')\n"
          ]
        }
      ]
    },
    {
      "cell_type": "code",
      "source": [
        "basefolder = \"/content/drive/MyDrive/Greatlearning/Capstone/Dataset/\"\n",
        "germanfiles = [\"commoncrawl_de_en.txt\",\"europarl-v7_de_en.txt\",\"news-commentary-v9_de_en.txt\"]\n",
        "engfiles = [\"commoncrawl_en_de.txt\",\"europarl-v7_en_de.txt\",\"news-commentary-v9_en_de.txt\"]"
      ],
      "metadata": {
        "id": "ub70xOYyabZg"
      },
      "execution_count": null,
      "outputs": []
    },
    {
      "cell_type": "markdown",
      "source": [
        "### Useful functions for Preprocessing of data"
      ],
      "metadata": {
        "id": "54_OUVbOjmOT"
      }
    },
    {
      "cell_type": "code",
      "source": [
        "import regex as re\n",
        "\n",
        "def removestop(text,stopwords):\n",
        "  raw = text.split()\n",
        "  words = [word for word in raw if not word in stopwords]\n",
        "  cleanwords = ' '.join(words)\n",
        "  return cleanwords\n",
        "\n",
        "def tolower(text):\n",
        "  return text.lower()\n",
        "\n",
        "def removespecial(text):\n",
        "  te1 = re.sub(\"\\s+\",\" \",text)\n",
        "  te2 = re.sub('\\n', '', te1)\n",
        "  te3 = re.sub('\\r', '', te2)\n",
        "  te4 = re.sub(\"[0-9]\",\"\",te3)\n",
        "  te5 = re.sub(\"()@%^&*-_,/\\{}[?|$|.|!]\",\"\",te4)\n",
        "  te6 = re.sub(r\"[\\p{Cc}\\p{Cs}]+\",\"\",te5)\n",
        "  te7 = re.sub(r'[^\\w\\s]','', te6)\n",
        "  te8 = re.sub(\"[^a-zA-Z ]\",\"\",te7)\n",
        "  return te7\n",
        "\n",
        "def removeurl(text):\n",
        "  return re.sub('https?://\\S+|www\\.\\S+', '', text)\n",
        "\n",
        "def clean_text(text):\n",
        "    text = text.lower()\n",
        "    pattern = re.compile(r\"(@\\[A-Za-z0-9]+)|([^0-9A-Za-z \\t])|(\\w+:\\/\\/\\S+)|^rt|http.+?\")\n",
        "    text = re.sub(pattern,' ',text).strip()\n",
        "    return text"
      ],
      "metadata": {
        "id": "J1Qe2V4Njtfg"
      },
      "execution_count": null,
      "outputs": []
    },
    {
      "cell_type": "markdown",
      "source": [
        "## Function to read files"
      ],
      "metadata": {
        "id": "eQfF1CAWlTBO"
      }
    },
    {
      "cell_type": "code",
      "source": [
        "def read_files(fileloc, language):\n",
        "  with open(fileloc,\"rb\") as f:\n",
        "    f_lines = f.readlines()\n",
        "  df = pd.DataFrame(f_lines)\n",
        "  dfc = df.set_axis([language],axis=1)\n",
        "  dfc[language] = dfc[language].str.decode(\"utf-8\")\n",
        "  return dfc"
      ],
      "metadata": {
        "id": "cPwj8LKSWLGc"
      },
      "execution_count": null,
      "outputs": []
    },
    {
      "cell_type": "code",
      "source": [
        "dfappend=pd.DataFrame()\n",
        "for efile in range(len(germanfiles)):\n",
        "  germanfilepath = basefolder+germanfiles[efile]\n",
        "  print(germanfilepath)\n",
        "  germandff = read_files(germanfilepath,\"german\")\n",
        "  engfilepath = basefolder+engfiles[efile]\n",
        "  engdff = read_files(engfilepath,\"english\")\n",
        "  print(germandff.shape)\n",
        "  print(engdff.shape)\n",
        "  dfconcat = pd.concat([germandff, engdff],axis=\"columns\")\n",
        "  dfappend=pd.concat([dfappend, dfconcat])\n"
      ],
      "metadata": {
        "colab": {
          "base_uri": "https://localhost:8080/"
        },
        "id": "IgpNB2ZYbYBt",
        "outputId": "465ddbdb-8aa3-45f9-9bcc-399aa17d6642"
      },
      "execution_count": null,
      "outputs": [
        {
          "output_type": "stream",
          "name": "stdout",
          "text": [
            "/content/drive/MyDrive/Greatlearning/Capstone/Dataset/commoncrawl_de_en.txt\n",
            "(2399123, 1)\n",
            "(2399123, 1)\n",
            "/content/drive/MyDrive/Greatlearning/Capstone/Dataset/europarl-v7_de_en.txt\n",
            "(1920209, 1)\n",
            "(1920209, 1)\n",
            "/content/drive/MyDrive/Greatlearning/Capstone/Dataset/news-commentary-v9_de_en.txt\n",
            "(201288, 1)\n",
            "(201288, 1)\n"
          ]
        }
      ]
    },
    {
      "cell_type": "code",
      "source": [
        "dfappend.shape"
      ],
      "metadata": {
        "colab": {
          "base_uri": "https://localhost:8080/"
        },
        "id": "SsbHI85UeZoT",
        "outputId": "9b4b3e72-1d53-4221-a2bf-557fbb90217d"
      },
      "execution_count": null,
      "outputs": [
        {
          "output_type": "execute_result",
          "data": {
            "text/plain": [
              "(4520620, 2)"
            ]
          },
          "metadata": {},
          "execution_count": 12
        }
      ]
    },
    {
      "cell_type": "code",
      "source": [
        "dfappend.head()"
      ],
      "metadata": {
        "id": "Ocv08lywmMOX",
        "outputId": "2efc857a-aea7-413e-f0d7-6113b20de6ad",
        "colab": {
          "base_uri": "https://localhost:8080/",
          "height": 206
        }
      },
      "execution_count": null,
      "outputs": [
        {
          "output_type": "execute_result",
          "data": {
            "text/plain": [
              "                                              german  \\\n",
              "0  iron cement ist eine gebrauchs-fertige Paste, ...   \n",
              "1  Nach der Aushärtung schützt iron cement die Ko...   \n",
              "2  feuerfester Reparaturkitt für Feuerungsanlagen...   \n",
              "3     Der Bau und die Reparatur der Autostraßen...\\n   \n",
              "4  die Mitteilungen sollen den geschäftlichen kom...   \n",
              "\n",
              "                                             english  \n",
              "0  iron cement is a ready for use paste which is ...  \n",
              "1  iron cement protects the ingot against the hot...  \n",
              "2  a fire restant repair cement for fire places, ...  \n",
              "3       Construction and repair of highways and...\\n  \n",
              "4    An announcement must be commercial character.\\n  "
            ],
            "text/html": [
              "\n",
              "  <div id=\"df-f37e840e-9c42-4a58-aa9a-0ac0ba5ce427\" class=\"colab-df-container\">\n",
              "    <div>\n",
              "<style scoped>\n",
              "    .dataframe tbody tr th:only-of-type {\n",
              "        vertical-align: middle;\n",
              "    }\n",
              "\n",
              "    .dataframe tbody tr th {\n",
              "        vertical-align: top;\n",
              "    }\n",
              "\n",
              "    .dataframe thead th {\n",
              "        text-align: right;\n",
              "    }\n",
              "</style>\n",
              "<table border=\"1\" class=\"dataframe\">\n",
              "  <thead>\n",
              "    <tr style=\"text-align: right;\">\n",
              "      <th></th>\n",
              "      <th>german</th>\n",
              "      <th>english</th>\n",
              "    </tr>\n",
              "  </thead>\n",
              "  <tbody>\n",
              "    <tr>\n",
              "      <th>0</th>\n",
              "      <td>iron cement ist eine gebrauchs-fertige Paste, ...</td>\n",
              "      <td>iron cement is a ready for use paste which is ...</td>\n",
              "    </tr>\n",
              "    <tr>\n",
              "      <th>1</th>\n",
              "      <td>Nach der Aushärtung schützt iron cement die Ko...</td>\n",
              "      <td>iron cement protects the ingot against the hot...</td>\n",
              "    </tr>\n",
              "    <tr>\n",
              "      <th>2</th>\n",
              "      <td>feuerfester Reparaturkitt für Feuerungsanlagen...</td>\n",
              "      <td>a fire restant repair cement for fire places, ...</td>\n",
              "    </tr>\n",
              "    <tr>\n",
              "      <th>3</th>\n",
              "      <td>Der Bau und die Reparatur der Autostraßen...\\n</td>\n",
              "      <td>Construction and repair of highways and...\\n</td>\n",
              "    </tr>\n",
              "    <tr>\n",
              "      <th>4</th>\n",
              "      <td>die Mitteilungen sollen den geschäftlichen kom...</td>\n",
              "      <td>An announcement must be commercial character.\\n</td>\n",
              "    </tr>\n",
              "  </tbody>\n",
              "</table>\n",
              "</div>\n",
              "    <div class=\"colab-df-buttons\">\n",
              "\n",
              "  <div class=\"colab-df-container\">\n",
              "    <button class=\"colab-df-convert\" onclick=\"convertToInteractive('df-f37e840e-9c42-4a58-aa9a-0ac0ba5ce427')\"\n",
              "            title=\"Convert this dataframe to an interactive table.\"\n",
              "            style=\"display:none;\">\n",
              "\n",
              "  <svg xmlns=\"http://www.w3.org/2000/svg\" height=\"24px\" viewBox=\"0 -960 960 960\">\n",
              "    <path d=\"M120-120v-720h720v720H120Zm60-500h600v-160H180v160Zm220 220h160v-160H400v160Zm0 220h160v-160H400v160ZM180-400h160v-160H180v160Zm440 0h160v-160H620v160ZM180-180h160v-160H180v160Zm440 0h160v-160H620v160Z\"/>\n",
              "  </svg>\n",
              "    </button>\n",
              "\n",
              "  <style>\n",
              "    .colab-df-container {\n",
              "      display:flex;\n",
              "      gap: 12px;\n",
              "    }\n",
              "\n",
              "    .colab-df-convert {\n",
              "      background-color: #E8F0FE;\n",
              "      border: none;\n",
              "      border-radius: 50%;\n",
              "      cursor: pointer;\n",
              "      display: none;\n",
              "      fill: #1967D2;\n",
              "      height: 32px;\n",
              "      padding: 0 0 0 0;\n",
              "      width: 32px;\n",
              "    }\n",
              "\n",
              "    .colab-df-convert:hover {\n",
              "      background-color: #E2EBFA;\n",
              "      box-shadow: 0px 1px 2px rgba(60, 64, 67, 0.3), 0px 1px 3px 1px rgba(60, 64, 67, 0.15);\n",
              "      fill: #174EA6;\n",
              "    }\n",
              "\n",
              "    .colab-df-buttons div {\n",
              "      margin-bottom: 4px;\n",
              "    }\n",
              "\n",
              "    [theme=dark] .colab-df-convert {\n",
              "      background-color: #3B4455;\n",
              "      fill: #D2E3FC;\n",
              "    }\n",
              "\n",
              "    [theme=dark] .colab-df-convert:hover {\n",
              "      background-color: #434B5C;\n",
              "      box-shadow: 0px 1px 3px 1px rgba(0, 0, 0, 0.15);\n",
              "      filter: drop-shadow(0px 1px 2px rgba(0, 0, 0, 0.3));\n",
              "      fill: #FFFFFF;\n",
              "    }\n",
              "  </style>\n",
              "\n",
              "    <script>\n",
              "      const buttonEl =\n",
              "        document.querySelector('#df-f37e840e-9c42-4a58-aa9a-0ac0ba5ce427 button.colab-df-convert');\n",
              "      buttonEl.style.display =\n",
              "        google.colab.kernel.accessAllowed ? 'block' : 'none';\n",
              "\n",
              "      async function convertToInteractive(key) {\n",
              "        const element = document.querySelector('#df-f37e840e-9c42-4a58-aa9a-0ac0ba5ce427');\n",
              "        const dataTable =\n",
              "          await google.colab.kernel.invokeFunction('convertToInteractive',\n",
              "                                                    [key], {});\n",
              "        if (!dataTable) return;\n",
              "\n",
              "        const docLinkHtml = 'Like what you see? Visit the ' +\n",
              "          '<a target=\"_blank\" href=https://colab.research.google.com/notebooks/data_table.ipynb>data table notebook</a>'\n",
              "          + ' to learn more about interactive tables.';\n",
              "        element.innerHTML = '';\n",
              "        dataTable['output_type'] = 'display_data';\n",
              "        await google.colab.output.renderOutput(dataTable, element);\n",
              "        const docLink = document.createElement('div');\n",
              "        docLink.innerHTML = docLinkHtml;\n",
              "        element.appendChild(docLink);\n",
              "      }\n",
              "    </script>\n",
              "  </div>\n",
              "\n",
              "\n",
              "<div id=\"df-33a9929a-89db-441d-9a64-f07421f1c752\">\n",
              "  <button class=\"colab-df-quickchart\" onclick=\"quickchart('df-33a9929a-89db-441d-9a64-f07421f1c752')\"\n",
              "            title=\"Suggest charts\"\n",
              "            style=\"display:none;\">\n",
              "\n",
              "<svg xmlns=\"http://www.w3.org/2000/svg\" height=\"24px\"viewBox=\"0 0 24 24\"\n",
              "     width=\"24px\">\n",
              "    <g>\n",
              "        <path d=\"M19 3H5c-1.1 0-2 .9-2 2v14c0 1.1.9 2 2 2h14c1.1 0 2-.9 2-2V5c0-1.1-.9-2-2-2zM9 17H7v-7h2v7zm4 0h-2V7h2v10zm4 0h-2v-4h2v4z\"/>\n",
              "    </g>\n",
              "</svg>\n",
              "  </button>\n",
              "\n",
              "<style>\n",
              "  .colab-df-quickchart {\n",
              "      --bg-color: #E8F0FE;\n",
              "      --fill-color: #1967D2;\n",
              "      --hover-bg-color: #E2EBFA;\n",
              "      --hover-fill-color: #174EA6;\n",
              "      --disabled-fill-color: #AAA;\n",
              "      --disabled-bg-color: #DDD;\n",
              "  }\n",
              "\n",
              "  [theme=dark] .colab-df-quickchart {\n",
              "      --bg-color: #3B4455;\n",
              "      --fill-color: #D2E3FC;\n",
              "      --hover-bg-color: #434B5C;\n",
              "      --hover-fill-color: #FFFFFF;\n",
              "      --disabled-bg-color: #3B4455;\n",
              "      --disabled-fill-color: #666;\n",
              "  }\n",
              "\n",
              "  .colab-df-quickchart {\n",
              "    background-color: var(--bg-color);\n",
              "    border: none;\n",
              "    border-radius: 50%;\n",
              "    cursor: pointer;\n",
              "    display: none;\n",
              "    fill: var(--fill-color);\n",
              "    height: 32px;\n",
              "    padding: 0;\n",
              "    width: 32px;\n",
              "  }\n",
              "\n",
              "  .colab-df-quickchart:hover {\n",
              "    background-color: var(--hover-bg-color);\n",
              "    box-shadow: 0 1px 2px rgba(60, 64, 67, 0.3), 0 1px 3px 1px rgba(60, 64, 67, 0.15);\n",
              "    fill: var(--button-hover-fill-color);\n",
              "  }\n",
              "\n",
              "  .colab-df-quickchart-complete:disabled,\n",
              "  .colab-df-quickchart-complete:disabled:hover {\n",
              "    background-color: var(--disabled-bg-color);\n",
              "    fill: var(--disabled-fill-color);\n",
              "    box-shadow: none;\n",
              "  }\n",
              "\n",
              "  .colab-df-spinner {\n",
              "    border: 2px solid var(--fill-color);\n",
              "    border-color: transparent;\n",
              "    border-bottom-color: var(--fill-color);\n",
              "    animation:\n",
              "      spin 1s steps(1) infinite;\n",
              "  }\n",
              "\n",
              "  @keyframes spin {\n",
              "    0% {\n",
              "      border-color: transparent;\n",
              "      border-bottom-color: var(--fill-color);\n",
              "      border-left-color: var(--fill-color);\n",
              "    }\n",
              "    20% {\n",
              "      border-color: transparent;\n",
              "      border-left-color: var(--fill-color);\n",
              "      border-top-color: var(--fill-color);\n",
              "    }\n",
              "    30% {\n",
              "      border-color: transparent;\n",
              "      border-left-color: var(--fill-color);\n",
              "      border-top-color: var(--fill-color);\n",
              "      border-right-color: var(--fill-color);\n",
              "    }\n",
              "    40% {\n",
              "      border-color: transparent;\n",
              "      border-right-color: var(--fill-color);\n",
              "      border-top-color: var(--fill-color);\n",
              "    }\n",
              "    60% {\n",
              "      border-color: transparent;\n",
              "      border-right-color: var(--fill-color);\n",
              "    }\n",
              "    80% {\n",
              "      border-color: transparent;\n",
              "      border-right-color: var(--fill-color);\n",
              "      border-bottom-color: var(--fill-color);\n",
              "    }\n",
              "    90% {\n",
              "      border-color: transparent;\n",
              "      border-bottom-color: var(--fill-color);\n",
              "    }\n",
              "  }\n",
              "</style>\n",
              "\n",
              "  <script>\n",
              "    async function quickchart(key) {\n",
              "      const quickchartButtonEl =\n",
              "        document.querySelector('#' + key + ' button');\n",
              "      quickchartButtonEl.disabled = true;  // To prevent multiple clicks.\n",
              "      quickchartButtonEl.classList.add('colab-df-spinner');\n",
              "      try {\n",
              "        const charts = await google.colab.kernel.invokeFunction(\n",
              "            'suggestCharts', [key], {});\n",
              "      } catch (error) {\n",
              "        console.error('Error during call to suggestCharts:', error);\n",
              "      }\n",
              "      quickchartButtonEl.classList.remove('colab-df-spinner');\n",
              "      quickchartButtonEl.classList.add('colab-df-quickchart-complete');\n",
              "    }\n",
              "    (() => {\n",
              "      let quickchartButtonEl =\n",
              "        document.querySelector('#df-33a9929a-89db-441d-9a64-f07421f1c752 button');\n",
              "      quickchartButtonEl.style.display =\n",
              "        google.colab.kernel.accessAllowed ? 'block' : 'none';\n",
              "    })();\n",
              "  </script>\n",
              "</div>\n",
              "    </div>\n",
              "  </div>\n"
            ]
          },
          "metadata": {},
          "execution_count": 13
        }
      ]
    },
    {
      "cell_type": "markdown",
      "source": [
        "## Observatory Analytics"
      ],
      "metadata": {
        "id": "78SmCTn-COjJ"
      }
    },
    {
      "cell_type": "code",
      "source": [
        "dfappend.isna().sum()"
      ],
      "metadata": {
        "colab": {
          "base_uri": "https://localhost:8080/"
        },
        "id": "6mavcvCkCSV_",
        "outputId": "26312698-13c3-4e06-bd60-e28ba01c0351"
      },
      "execution_count": null,
      "outputs": [
        {
          "output_type": "execute_result",
          "data": {
            "text/plain": [
              "german     0\n",
              "english    0\n",
              "dtype: int64"
            ]
          },
          "metadata": {},
          "execution_count": 14
        }
      ]
    },
    {
      "cell_type": "code",
      "source": [
        "dfappend.duplicated().sum()"
      ],
      "metadata": {
        "colab": {
          "base_uri": "https://localhost:8080/"
        },
        "id": "wwAysRfxCXlq",
        "outputId": "873bf448-210a-4387-deae-954e5e0be7cb"
      },
      "execution_count": null,
      "outputs": [
        {
          "output_type": "execute_result",
          "data": {
            "text/plain": [
              "45510"
            ]
          },
          "metadata": {},
          "execution_count": 15
        }
      ]
    },
    {
      "cell_type": "markdown",
      "source": [
        "45,510 duplicate records found."
      ],
      "metadata": {
        "id": "TMElmpdWCd84"
      }
    },
    {
      "cell_type": "markdown",
      "source": [
        "### Dedupe records"
      ],
      "metadata": {
        "id": "egnucmjyCiDa"
      }
    },
    {
      "cell_type": "code",
      "source": [
        "dfappend.drop_duplicates(subset=None, keep='first', inplace=True)\n",
        "dfappend.shape"
      ],
      "metadata": {
        "colab": {
          "base_uri": "https://localhost:8080/"
        },
        "id": "30RkNXw0CnU7",
        "outputId": "8fa62ed0-25cf-47d1-e493-a26fd039199c"
      },
      "execution_count": null,
      "outputs": [
        {
          "output_type": "execute_result",
          "data": {
            "text/plain": [
              "(4475110, 2)"
            ]
          },
          "metadata": {},
          "execution_count": 16
        }
      ]
    },
    {
      "cell_type": "markdown",
      "source": [
        "###Take limited records due to computational limitations for the excercise"
      ],
      "metadata": {
        "id": "jtlUlZ-WmLup"
      }
    },
    {
      "cell_type": "code",
      "source": [
        "dfappend[\"engcount\"]=dfappend['english'].str.split().str.len()"
      ],
      "metadata": {
        "id": "61zcCG1zoy5J"
      },
      "execution_count": null,
      "outputs": []
    },
    {
      "cell_type": "code",
      "source": [
        "dfappend[\"engcount\"].describe()"
      ],
      "metadata": {
        "colab": {
          "base_uri": "https://localhost:8080/"
        },
        "id": "oiypCPrsqh46",
        "outputId": "eb5c5ad5-d29a-47b5-e687-b2e2fc1430c4"
      },
      "execution_count": null,
      "outputs": [
        {
          "output_type": "execute_result",
          "data": {
            "text/plain": [
              "count    4.475110e+06\n",
              "mean     2.311460e+01\n",
              "std      1.497657e+01\n",
              "min      0.000000e+00\n",
              "25%      1.300000e+01\n",
              "50%      2.000000e+01\n",
              "75%      2.900000e+01\n",
              "max      4.225000e+03\n",
              "Name: engcount, dtype: float64"
            ]
          },
          "metadata": {},
          "execution_count": 18
        }
      ]
    },
    {
      "cell_type": "markdown",
      "source": [
        "### As we see, we identify that 25-75 percentile of data has length of 13 to 29 words. We will exclude anything line that has less than 13 or greater than 29 words in the sentence"
      ],
      "metadata": {
        "id": "BO3kaBiwwsYK"
      }
    },
    {
      "cell_type": "code",
      "source": [
        " dfappendfil = dfappend[(dfappend.engcount >= 13) & (dfappend.engcount <= 29)]"
      ],
      "metadata": {
        "id": "EpTj5y7D14Vp"
      },
      "execution_count": null,
      "outputs": []
    },
    {
      "cell_type": "code",
      "source": [
        "dfappendfil.count()\n"
      ],
      "metadata": {
        "colab": {
          "base_uri": "https://localhost:8080/"
        },
        "id": "ArJ5ufrl15bo",
        "outputId": "e841557f-a8fd-4ae7-b171-e2a878078322"
      },
      "execution_count": null,
      "outputs": [
        {
          "output_type": "execute_result",
          "data": {
            "text/plain": [
              "german      2411725\n",
              "english     2411725\n",
              "engcount    2411725\n",
              "dtype: int64"
            ]
          },
          "metadata": {},
          "execution_count": 20
        }
      ]
    },
    {
      "cell_type": "markdown",
      "source": [
        "### Record count reduced from 4475110 to 2411725. This is about 46% reduction in the data"
      ],
      "metadata": {
        "id": "TOQpZGav2QbM"
      }
    },
    {
      "cell_type": "markdown",
      "source": [
        "### Stop word Removal - German & English"
      ],
      "metadata": {
        "id": "6S7TuxPMlDFF"
      }
    },
    {
      "cell_type": "code",
      "source": [
        "german_stop_words = stopwords.words('german')\n",
        "english_stop_words = stopwords.words('english')"
      ],
      "metadata": {
        "id": "_BMHfeBvkWA4"
      },
      "execution_count": null,
      "outputs": []
    },
    {
      "cell_type": "code",
      "source": [
        "n=10000\n",
        "dfsample = dfappendfil.sample(n=10000)"
      ],
      "metadata": {
        "id": "BgJy67H3ePxl"
      },
      "execution_count": null,
      "outputs": []
    },
    {
      "cell_type": "code",
      "source": [
        "dfsample['english_clean'] = dfsample['english'].apply(lambda x: removestop(x,english_stop_words))"
      ],
      "metadata": {
        "id": "xnw-L53XlbCV"
      },
      "execution_count": null,
      "outputs": []
    },
    {
      "cell_type": "code",
      "source": [
        "dfsample['german_clean'] = dfsample['german'].apply(lambda x: removestop(x,german_stop_words))"
      ],
      "metadata": {
        "id": "8zonLSeimAZu"
      },
      "execution_count": null,
      "outputs": []
    },
    {
      "cell_type": "markdown",
      "source": [
        "### Remove special characters/ Lower case"
      ],
      "metadata": {
        "id": "xFJgvluOnLj8"
      }
    },
    {
      "cell_type": "code",
      "source": [
        "dfsample['german_clean'] = dfsample['german_clean'].apply(lambda x: removespecial(x))\n",
        "dfsample['english_clean'] = dfsample['english_clean'].apply(lambda x: removespecial(x))\n"
      ],
      "metadata": {
        "id": "MtRg2G7dnORv"
      },
      "execution_count": null,
      "outputs": []
    },
    {
      "cell_type": "code",
      "source": [
        "display(dfsample)"
      ],
      "metadata": {
        "colab": {
          "base_uri": "https://localhost:8080/",
          "height": 719
        },
        "id": "qfnyLemdpmBU",
        "outputId": "38416d05-62f6-451c-e73c-88bf0c961bb7"
      },
      "execution_count": null,
      "outputs": [
        {
          "output_type": "display_data",
          "data": {
            "text/plain": [
              "                                                    german  \\\n",
              "1831261  Wegen ihrer Größe und Preise dienen sie aussch...   \n",
              "1251533  Auf den winkeligen Fluren und in den Sälen der...   \n",
              "1822505  Beschreibung von Design, Aussenform, Tragbarke...   \n",
              "456825   Herr Präsident, man reagiert sehr leicht auf E...   \n",
              "565445   Er wollte wissen, ob ein einziger Mitgliedstaa...   \n",
              "...                                                    ...   \n",
              "100970   Frau Präsidentin, mir wird man wohl nicht nach...   \n",
              "1035633  Der vorliegende Bericht wird aus meiner Sicht ...   \n",
              "1065551  Erstens garantiert die Kommission, dass die zu...   \n",
              "697348   Il est situé a deux pas de Notre Dame, des qua...   \n",
              "1214360  Meine Damen und Herren, es liegt an uns, im Ei...   \n",
              "\n",
              "                                                   english  engcount  \\\n",
              "1831261  Due to the price and dimensions they are only ...        22   \n",
              "1251533  The location of the caves - under the Buda Cas...        17   \n",
              "1822505  Description of the design, of outer form and n...        16   \n",
              "456825   Mr President, it is very easy to react on emot...        23   \n",
              "565445   He asked whether a single Member State might r...        23   \n",
              "...                                                    ...       ...   \n",
              "100970   Madam President, I am one of those who were mo...        18   \n",
              "1035633  I believe that this report will lead to better...        23   \n",
              "1065551  Firstly, the Commission ensures that the compe...        28   \n",
              "697348   in front of the Cluny Abbey, right at the hear...        18   \n",
              "1214360  Ladies and gentlemen, it is up to us to act to...        19   \n",
              "\n",
              "                                             english_clean  \\\n",
              "1831261  Due price dimensions used Police , hospitals c...   \n",
              "1251533  The location caves - Buda Castle Hill - unique...   \n",
              "1822505  Description design, outer form novelty well pu...   \n",
              "456825   Mr President, easy react emotion House react e...   \n",
              "565445   He asked whether single Member State might req...   \n",
              "...                                                    ...   \n",
              "100970   Madam President, I one opposed away Friday sit...   \n",
              "1035633  I believe report lead better monitoring water ...   \n",
              "1065551  Firstly, Commission ensures competent authorit...   \n",
              "697348   front Cluny Abbey, right heart Paris's cultura...   \n",
              "1214360  Ladies gentlemen, us act bring actions line va...   \n",
              "\n",
              "                                              german_clean  \n",
              "1831261  Wegen Größe Preise dienen ausschließlich stati...  \n",
              "1251533  Auf winkeligen Fluren Sälen Höhlen, Budaer Bur...  \n",
              "1822505  Beschreibung Design, Aussenform, Tragbarkeit s...  \n",
              "456825   Herr Präsident, reagiert leicht Emotionen, Hoh...  \n",
              "565445   Er wissen, einziger Mitgliedstaat Aussetzung v...  \n",
              "...                                                    ...  \n",
              "100970   Frau Präsidentin, wohl nachsagen können, Befür...  \n",
              "1035633  Der vorliegende Bericht Sicht besseren Überprü...  \n",
              "1065551  Erstens garantiert Kommission, zuständigen Beh...  \n",
              "697348   Il est situé a deux pas de Notre Dame, quais e...  \n",
              "1214360  Meine Damen Herren, liegt uns, Einklang Werten...  \n",
              "\n",
              "[10000 rows x 5 columns]"
            ],
            "text/html": [
              "\n",
              "  <div id=\"df-5975815c-3950-4467-b176-b401547b1094\" class=\"colab-df-container\">\n",
              "    <div>\n",
              "<style scoped>\n",
              "    .dataframe tbody tr th:only-of-type {\n",
              "        vertical-align: middle;\n",
              "    }\n",
              "\n",
              "    .dataframe tbody tr th {\n",
              "        vertical-align: top;\n",
              "    }\n",
              "\n",
              "    .dataframe thead th {\n",
              "        text-align: right;\n",
              "    }\n",
              "</style>\n",
              "<table border=\"1\" class=\"dataframe\">\n",
              "  <thead>\n",
              "    <tr style=\"text-align: right;\">\n",
              "      <th></th>\n",
              "      <th>german</th>\n",
              "      <th>english</th>\n",
              "      <th>engcount</th>\n",
              "      <th>english_clean</th>\n",
              "      <th>german_clean</th>\n",
              "    </tr>\n",
              "  </thead>\n",
              "  <tbody>\n",
              "    <tr>\n",
              "      <th>1831261</th>\n",
              "      <td>Wegen ihrer Größe und Preise dienen sie aussch...</td>\n",
              "      <td>Due to the price and dimensions they are only ...</td>\n",
              "      <td>22</td>\n",
              "      <td>Due price dimensions used Police , hospitals c...</td>\n",
              "      <td>Wegen Größe Preise dienen ausschließlich stati...</td>\n",
              "    </tr>\n",
              "    <tr>\n",
              "      <th>1251533</th>\n",
              "      <td>Auf den winkeligen Fluren und in den Sälen der...</td>\n",
              "      <td>The location of the caves - under the Buda Cas...</td>\n",
              "      <td>17</td>\n",
              "      <td>The location caves - Buda Castle Hill - unique...</td>\n",
              "      <td>Auf winkeligen Fluren Sälen Höhlen, Budaer Bur...</td>\n",
              "    </tr>\n",
              "    <tr>\n",
              "      <th>1822505</th>\n",
              "      <td>Beschreibung von Design, Aussenform, Tragbarke...</td>\n",
              "      <td>Description of the design, of outer form and n...</td>\n",
              "      <td>16</td>\n",
              "      <td>Description design, outer form novelty well pu...</td>\n",
              "      <td>Beschreibung Design, Aussenform, Tragbarkeit s...</td>\n",
              "    </tr>\n",
              "    <tr>\n",
              "      <th>456825</th>\n",
              "      <td>Herr Präsident, man reagiert sehr leicht auf E...</td>\n",
              "      <td>Mr President, it is very easy to react on emot...</td>\n",
              "      <td>23</td>\n",
              "      <td>Mr President, easy react emotion House react e...</td>\n",
              "      <td>Herr Präsident, reagiert leicht Emotionen, Hoh...</td>\n",
              "    </tr>\n",
              "    <tr>\n",
              "      <th>565445</th>\n",
              "      <td>Er wollte wissen, ob ein einziger Mitgliedstaa...</td>\n",
              "      <td>He asked whether a single Member State might r...</td>\n",
              "      <td>23</td>\n",
              "      <td>He asked whether single Member State might req...</td>\n",
              "      <td>Er wissen, einziger Mitgliedstaat Aussetzung v...</td>\n",
              "    </tr>\n",
              "    <tr>\n",
              "      <th>...</th>\n",
              "      <td>...</td>\n",
              "      <td>...</td>\n",
              "      <td>...</td>\n",
              "      <td>...</td>\n",
              "      <td>...</td>\n",
              "    </tr>\n",
              "    <tr>\n",
              "      <th>100970</th>\n",
              "      <td>Frau Präsidentin, mir wird man wohl nicht nach...</td>\n",
              "      <td>Madam President, I am one of those who were mo...</td>\n",
              "      <td>18</td>\n",
              "      <td>Madam President, I one opposed away Friday sit...</td>\n",
              "      <td>Frau Präsidentin, wohl nachsagen können, Befür...</td>\n",
              "    </tr>\n",
              "    <tr>\n",
              "      <th>1035633</th>\n",
              "      <td>Der vorliegende Bericht wird aus meiner Sicht ...</td>\n",
              "      <td>I believe that this report will lead to better...</td>\n",
              "      <td>23</td>\n",
              "      <td>I believe report lead better monitoring water ...</td>\n",
              "      <td>Der vorliegende Bericht Sicht besseren Überprü...</td>\n",
              "    </tr>\n",
              "    <tr>\n",
              "      <th>1065551</th>\n",
              "      <td>Erstens garantiert die Kommission, dass die zu...</td>\n",
              "      <td>Firstly, the Commission ensures that the compe...</td>\n",
              "      <td>28</td>\n",
              "      <td>Firstly, Commission ensures competent authorit...</td>\n",
              "      <td>Erstens garantiert Kommission, zuständigen Beh...</td>\n",
              "    </tr>\n",
              "    <tr>\n",
              "      <th>697348</th>\n",
              "      <td>Il est situé a deux pas de Notre Dame, des qua...</td>\n",
              "      <td>in front of the Cluny Abbey, right at the hear...</td>\n",
              "      <td>18</td>\n",
              "      <td>front Cluny Abbey, right heart Paris's cultura...</td>\n",
              "      <td>Il est situé a deux pas de Notre Dame, quais e...</td>\n",
              "    </tr>\n",
              "    <tr>\n",
              "      <th>1214360</th>\n",
              "      <td>Meine Damen und Herren, es liegt an uns, im Ei...</td>\n",
              "      <td>Ladies and gentlemen, it is up to us to act to...</td>\n",
              "      <td>19</td>\n",
              "      <td>Ladies gentlemen, us act bring actions line va...</td>\n",
              "      <td>Meine Damen Herren, liegt uns, Einklang Werten...</td>\n",
              "    </tr>\n",
              "  </tbody>\n",
              "</table>\n",
              "<p>10000 rows × 5 columns</p>\n",
              "</div>\n",
              "    <div class=\"colab-df-buttons\">\n",
              "\n",
              "  <div class=\"colab-df-container\">\n",
              "    <button class=\"colab-df-convert\" onclick=\"convertToInteractive('df-5975815c-3950-4467-b176-b401547b1094')\"\n",
              "            title=\"Convert this dataframe to an interactive table.\"\n",
              "            style=\"display:none;\">\n",
              "\n",
              "  <svg xmlns=\"http://www.w3.org/2000/svg\" height=\"24px\" viewBox=\"0 -960 960 960\">\n",
              "    <path d=\"M120-120v-720h720v720H120Zm60-500h600v-160H180v160Zm220 220h160v-160H400v160Zm0 220h160v-160H400v160ZM180-400h160v-160H180v160Zm440 0h160v-160H620v160ZM180-180h160v-160H180v160Zm440 0h160v-160H620v160Z\"/>\n",
              "  </svg>\n",
              "    </button>\n",
              "\n",
              "  <style>\n",
              "    .colab-df-container {\n",
              "      display:flex;\n",
              "      gap: 12px;\n",
              "    }\n",
              "\n",
              "    .colab-df-convert {\n",
              "      background-color: #E8F0FE;\n",
              "      border: none;\n",
              "      border-radius: 50%;\n",
              "      cursor: pointer;\n",
              "      display: none;\n",
              "      fill: #1967D2;\n",
              "      height: 32px;\n",
              "      padding: 0 0 0 0;\n",
              "      width: 32px;\n",
              "    }\n",
              "\n",
              "    .colab-df-convert:hover {\n",
              "      background-color: #E2EBFA;\n",
              "      box-shadow: 0px 1px 2px rgba(60, 64, 67, 0.3), 0px 1px 3px 1px rgba(60, 64, 67, 0.15);\n",
              "      fill: #174EA6;\n",
              "    }\n",
              "\n",
              "    .colab-df-buttons div {\n",
              "      margin-bottom: 4px;\n",
              "    }\n",
              "\n",
              "    [theme=dark] .colab-df-convert {\n",
              "      background-color: #3B4455;\n",
              "      fill: #D2E3FC;\n",
              "    }\n",
              "\n",
              "    [theme=dark] .colab-df-convert:hover {\n",
              "      background-color: #434B5C;\n",
              "      box-shadow: 0px 1px 3px 1px rgba(0, 0, 0, 0.15);\n",
              "      filter: drop-shadow(0px 1px 2px rgba(0, 0, 0, 0.3));\n",
              "      fill: #FFFFFF;\n",
              "    }\n",
              "  </style>\n",
              "\n",
              "    <script>\n",
              "      const buttonEl =\n",
              "        document.querySelector('#df-5975815c-3950-4467-b176-b401547b1094 button.colab-df-convert');\n",
              "      buttonEl.style.display =\n",
              "        google.colab.kernel.accessAllowed ? 'block' : 'none';\n",
              "\n",
              "      async function convertToInteractive(key) {\n",
              "        const element = document.querySelector('#df-5975815c-3950-4467-b176-b401547b1094');\n",
              "        const dataTable =\n",
              "          await google.colab.kernel.invokeFunction('convertToInteractive',\n",
              "                                                    [key], {});\n",
              "        if (!dataTable) return;\n",
              "\n",
              "        const docLinkHtml = 'Like what you see? Visit the ' +\n",
              "          '<a target=\"_blank\" href=https://colab.research.google.com/notebooks/data_table.ipynb>data table notebook</a>'\n",
              "          + ' to learn more about interactive tables.';\n",
              "        element.innerHTML = '';\n",
              "        dataTable['output_type'] = 'display_data';\n",
              "        await google.colab.output.renderOutput(dataTable, element);\n",
              "        const docLink = document.createElement('div');\n",
              "        docLink.innerHTML = docLinkHtml;\n",
              "        element.appendChild(docLink);\n",
              "      }\n",
              "    </script>\n",
              "  </div>\n",
              "\n",
              "\n",
              "<div id=\"df-d49ed008-fbf2-4137-9cd4-281259e73f45\">\n",
              "  <button class=\"colab-df-quickchart\" onclick=\"quickchart('df-d49ed008-fbf2-4137-9cd4-281259e73f45')\"\n",
              "            title=\"Suggest charts\"\n",
              "            style=\"display:none;\">\n",
              "\n",
              "<svg xmlns=\"http://www.w3.org/2000/svg\" height=\"24px\"viewBox=\"0 0 24 24\"\n",
              "     width=\"24px\">\n",
              "    <g>\n",
              "        <path d=\"M19 3H5c-1.1 0-2 .9-2 2v14c0 1.1.9 2 2 2h14c1.1 0 2-.9 2-2V5c0-1.1-.9-2-2-2zM9 17H7v-7h2v7zm4 0h-2V7h2v10zm4 0h-2v-4h2v4z\"/>\n",
              "    </g>\n",
              "</svg>\n",
              "  </button>\n",
              "\n",
              "<style>\n",
              "  .colab-df-quickchart {\n",
              "      --bg-color: #E8F0FE;\n",
              "      --fill-color: #1967D2;\n",
              "      --hover-bg-color: #E2EBFA;\n",
              "      --hover-fill-color: #174EA6;\n",
              "      --disabled-fill-color: #AAA;\n",
              "      --disabled-bg-color: #DDD;\n",
              "  }\n",
              "\n",
              "  [theme=dark] .colab-df-quickchart {\n",
              "      --bg-color: #3B4455;\n",
              "      --fill-color: #D2E3FC;\n",
              "      --hover-bg-color: #434B5C;\n",
              "      --hover-fill-color: #FFFFFF;\n",
              "      --disabled-bg-color: #3B4455;\n",
              "      --disabled-fill-color: #666;\n",
              "  }\n",
              "\n",
              "  .colab-df-quickchart {\n",
              "    background-color: var(--bg-color);\n",
              "    border: none;\n",
              "    border-radius: 50%;\n",
              "    cursor: pointer;\n",
              "    display: none;\n",
              "    fill: var(--fill-color);\n",
              "    height: 32px;\n",
              "    padding: 0;\n",
              "    width: 32px;\n",
              "  }\n",
              "\n",
              "  .colab-df-quickchart:hover {\n",
              "    background-color: var(--hover-bg-color);\n",
              "    box-shadow: 0 1px 2px rgba(60, 64, 67, 0.3), 0 1px 3px 1px rgba(60, 64, 67, 0.15);\n",
              "    fill: var(--button-hover-fill-color);\n",
              "  }\n",
              "\n",
              "  .colab-df-quickchart-complete:disabled,\n",
              "  .colab-df-quickchart-complete:disabled:hover {\n",
              "    background-color: var(--disabled-bg-color);\n",
              "    fill: var(--disabled-fill-color);\n",
              "    box-shadow: none;\n",
              "  }\n",
              "\n",
              "  .colab-df-spinner {\n",
              "    border: 2px solid var(--fill-color);\n",
              "    border-color: transparent;\n",
              "    border-bottom-color: var(--fill-color);\n",
              "    animation:\n",
              "      spin 1s steps(1) infinite;\n",
              "  }\n",
              "\n",
              "  @keyframes spin {\n",
              "    0% {\n",
              "      border-color: transparent;\n",
              "      border-bottom-color: var(--fill-color);\n",
              "      border-left-color: var(--fill-color);\n",
              "    }\n",
              "    20% {\n",
              "      border-color: transparent;\n",
              "      border-left-color: var(--fill-color);\n",
              "      border-top-color: var(--fill-color);\n",
              "    }\n",
              "    30% {\n",
              "      border-color: transparent;\n",
              "      border-left-color: var(--fill-color);\n",
              "      border-top-color: var(--fill-color);\n",
              "      border-right-color: var(--fill-color);\n",
              "    }\n",
              "    40% {\n",
              "      border-color: transparent;\n",
              "      border-right-color: var(--fill-color);\n",
              "      border-top-color: var(--fill-color);\n",
              "    }\n",
              "    60% {\n",
              "      border-color: transparent;\n",
              "      border-right-color: var(--fill-color);\n",
              "    }\n",
              "    80% {\n",
              "      border-color: transparent;\n",
              "      border-right-color: var(--fill-color);\n",
              "      border-bottom-color: var(--fill-color);\n",
              "    }\n",
              "    90% {\n",
              "      border-color: transparent;\n",
              "      border-bottom-color: var(--fill-color);\n",
              "    }\n",
              "  }\n",
              "</style>\n",
              "\n",
              "  <script>\n",
              "    async function quickchart(key) {\n",
              "      const quickchartButtonEl =\n",
              "        document.querySelector('#' + key + ' button');\n",
              "      quickchartButtonEl.disabled = true;  // To prevent multiple clicks.\n",
              "      quickchartButtonEl.classList.add('colab-df-spinner');\n",
              "      try {\n",
              "        const charts = await google.colab.kernel.invokeFunction(\n",
              "            'suggestCharts', [key], {});\n",
              "      } catch (error) {\n",
              "        console.error('Error during call to suggestCharts:', error);\n",
              "      }\n",
              "      quickchartButtonEl.classList.remove('colab-df-spinner');\n",
              "      quickchartButtonEl.classList.add('colab-df-quickchart-complete');\n",
              "    }\n",
              "    (() => {\n",
              "      let quickchartButtonEl =\n",
              "        document.querySelector('#df-d49ed008-fbf2-4137-9cd4-281259e73f45 button');\n",
              "      quickchartButtonEl.style.display =\n",
              "        google.colab.kernel.accessAllowed ? 'block' : 'none';\n",
              "    })();\n",
              "  </script>\n",
              "</div>\n",
              "    </div>\n",
              "  </div>\n"
            ]
          },
          "metadata": {}
        }
      ]
    },
    {
      "cell_type": "markdown",
      "source": [
        "### On closer analysis of data it is  found that the german text has english in it. We need to remove those rows.\n",
        "\n",
        "### We will be using \"Pycld2\" python library for this"
      ],
      "metadata": {
        "id": "mW9ZI6BVqgeU"
      }
    },
    {
      "cell_type": "code",
      "source": [
        "def langdet(x):\n",
        "  isReliable, textBytesFound, details = cld2.detect(x)\n",
        "\n",
        "  return(details[0][1])"
      ],
      "metadata": {
        "id": "-0tvXfmCzeXc"
      },
      "execution_count": null,
      "outputs": []
    },
    {
      "cell_type": "code",
      "source": [
        "dfsample['is_eng'] = dfsample['english_clean'].apply(lambda x: langdet(x))"
      ],
      "metadata": {
        "id": "OqhYsHl6zkOT"
      },
      "execution_count": null,
      "outputs": []
    },
    {
      "cell_type": "code",
      "source": [
        "dfsample['is_ger'] = dfsample['german_clean'].apply(lambda x: langdet(x))"
      ],
      "metadata": {
        "id": "XqLIYuWC0ftE"
      },
      "execution_count": null,
      "outputs": []
    },
    {
      "cell_type": "code",
      "source": [
        "display(dfsample[\"is_ger\"].value_counts())"
      ],
      "metadata": {
        "colab": {
          "base_uri": "https://localhost:8080/",
          "height": 538
        },
        "id": "hkNizA990mY7",
        "outputId": "d7e99c72-8b3f-4edd-f32a-39babf1b7995"
      },
      "execution_count": null,
      "outputs": [
        {
          "output_type": "display_data",
          "data": {
            "text/plain": [
              "de    9429\n",
              "en     261\n",
              "un     205\n",
              "fr      33\n",
              "es      18\n",
              "it       7\n",
              "nl       5\n",
              "pt       5\n",
              "pl       4\n",
              "hr       4\n",
              "gl       3\n",
              "da       3\n",
              "id       2\n",
              "ca       2\n",
              "ru       2\n",
              "lb       2\n",
              "bs       2\n",
              "ro       2\n",
              "eo       1\n",
              "tr       1\n",
              "fy       1\n",
              "sk       1\n",
              "no       1\n",
              "fi       1\n",
              "cs       1\n",
              "uk       1\n",
              "sv       1\n",
              "la       1\n",
              "na       1\n",
              "Name: is_ger, dtype: int64"
            ]
          },
          "metadata": {}
        }
      ]
    },
    {
      "cell_type": "code",
      "source": [
        "display(dfsample[\"is_eng\"].value_counts())"
      ],
      "metadata": {
        "colab": {
          "base_uri": "https://localhost:8080/",
          "height": 486
        },
        "id": "Kwl94bXn04X-",
        "outputId": "1f62ceb1-c9d6-46eb-c385-f8ca7c58834e"
      },
      "execution_count": null,
      "outputs": [
        {
          "output_type": "display_data",
          "data": {
            "text/plain": [
              "en    9790\n",
              "un      71\n",
              "de      46\n",
              "es      21\n",
              "fr      19\n",
              "it       9\n",
              "pt       6\n",
              "nl       6\n",
              "ru       4\n",
              "ca       3\n",
              "da       3\n",
              "sv       3\n",
              "bs       2\n",
              "id       2\n",
              "pl       2\n",
              "hr       2\n",
              "ro       2\n",
              "fi       1\n",
              "gl       1\n",
              "sr       1\n",
              "no       1\n",
              "tr       1\n",
              "sk       1\n",
              "la       1\n",
              "cs       1\n",
              "vi       1\n",
              "Name: is_eng, dtype: int64"
            ]
          },
          "metadata": {}
        }
      ]
    },
    {
      "cell_type": "markdown",
      "source": [
        "### We can see that some lines are 'un' unidentifiables and some are from other languages. We are going to kick out these records"
      ],
      "metadata": {
        "id": "DHBq9OIz1B3W"
      }
    },
    {
      "cell_type": "code",
      "source": [
        "dfappendclean = dfsample[(dfsample.is_eng == 'en') & (dfsample.is_ger =='de')]"
      ],
      "metadata": {
        "id": "7BAw5kJt2i71"
      },
      "execution_count": null,
      "outputs": []
    },
    {
      "cell_type": "code",
      "source": [
        "dfappendclean.shape"
      ],
      "metadata": {
        "colab": {
          "base_uri": "https://localhost:8080/"
        },
        "id": "pIDHZ4fI25su",
        "outputId": "77357703-177b-4dc2-a606-3ae4d2c7dec0"
      },
      "execution_count": null,
      "outputs": [
        {
          "output_type": "execute_result",
          "data": {
            "text/plain": [
              "(9323, 7)"
            ]
          },
          "metadata": {},
          "execution_count": 33
        }
      ]
    },
    {
      "cell_type": "code",
      "source": [
        "display(dfappendclean)"
      ],
      "metadata": {
        "colab": {
          "base_uri": "https://localhost:8080/",
          "height": 788
        },
        "id": "0yc3D2hI22PS",
        "outputId": "a32041c4-d2e7-4902-b415-89a7672f9cff"
      },
      "execution_count": null,
      "outputs": [
        {
          "output_type": "display_data",
          "data": {
            "text/plain": [
              "                                                    german  \\\n",
              "1831261  Wegen ihrer Größe und Preise dienen sie aussch...   \n",
              "1251533  Auf den winkeligen Fluren und in den Sälen der...   \n",
              "1822505  Beschreibung von Design, Aussenform, Tragbarke...   \n",
              "456825   Herr Präsident, man reagiert sehr leicht auf E...   \n",
              "565445   Er wollte wissen, ob ein einziger Mitgliedstaa...   \n",
              "...                                                    ...   \n",
              "842546   Geschieht das nicht, dann müssen wir unverzügl...   \n",
              "100970   Frau Präsidentin, mir wird man wohl nicht nach...   \n",
              "1035633  Der vorliegende Bericht wird aus meiner Sicht ...   \n",
              "1065551  Erstens garantiert die Kommission, dass die zu...   \n",
              "1214360  Meine Damen und Herren, es liegt an uns, im Ei...   \n",
              "\n",
              "                                                   english  engcount  \\\n",
              "1831261  Due to the price and dimensions they are only ...        22   \n",
              "1251533  The location of the caves - under the Buda Cas...        17   \n",
              "1822505  Description of the design, of outer form and n...        16   \n",
              "456825   Mr President, it is very easy to react on emot...        23   \n",
              "565445   He asked whether a single Member State might r...        23   \n",
              "...                                                    ...       ...   \n",
              "842546   If this does not happen, we have to immediatel...        19   \n",
              "100970   Madam President, I am one of those who were mo...        18   \n",
              "1035633  I believe that this report will lead to better...        23   \n",
              "1065551  Firstly, the Commission ensures that the compe...        28   \n",
              "1214360  Ladies and gentlemen, it is up to us to act to...        19   \n",
              "\n",
              "                                             english_clean  \\\n",
              "1831261  Due price dimensions used Police , hospitals c...   \n",
              "1251533  The location caves - Buda Castle Hill - unique...   \n",
              "1822505  Description design, outer form novelty well pu...   \n",
              "456825   Mr President, easy react emotion House react e...   \n",
              "565445   He asked whether single Member State might req...   \n",
              "...                                                    ...   \n",
              "842546   If happen, immediately stop delivering kind in...   \n",
              "100970   Madam President, I one opposed away Friday sit...   \n",
              "1035633  I believe report lead better monitoring water ...   \n",
              "1065551  Firstly, Commission ensures competent authorit...   \n",
              "1214360  Ladies gentlemen, us act bring actions line va...   \n",
              "\n",
              "                                              german_clean is_eng is_ger  \n",
              "1831261  Wegen Größe Preise dienen ausschließlich stati...     en     de  \n",
              "1251533  Auf winkeligen Fluren Sälen Höhlen, Budaer Bur...     en     de  \n",
              "1822505  Beschreibung Design, Aussenform, Tragbarkeit s...     en     de  \n",
              "456825   Herr Präsident, reagiert leicht Emotionen, Hoh...     en     de  \n",
              "565445   Er wissen, einziger Mitgliedstaat Aussetzung v...     en     de  \n",
              "...                                                    ...    ...    ...  \n",
              "842546   Geschieht nicht, müssen unverzüglich aufhören,...     en     de  \n",
              "100970   Frau Präsidentin, wohl nachsagen können, Befür...     en     de  \n",
              "1035633  Der vorliegende Bericht Sicht besseren Überprü...     en     de  \n",
              "1065551  Erstens garantiert Kommission, zuständigen Beh...     en     de  \n",
              "1214360  Meine Damen Herren, liegt uns, Einklang Werten...     en     de  \n",
              "\n",
              "[9323 rows x 7 columns]"
            ],
            "text/html": [
              "\n",
              "  <div id=\"df-000ed902-0419-4544-b4ba-deb346150e84\" class=\"colab-df-container\">\n",
              "    <div>\n",
              "<style scoped>\n",
              "    .dataframe tbody tr th:only-of-type {\n",
              "        vertical-align: middle;\n",
              "    }\n",
              "\n",
              "    .dataframe tbody tr th {\n",
              "        vertical-align: top;\n",
              "    }\n",
              "\n",
              "    .dataframe thead th {\n",
              "        text-align: right;\n",
              "    }\n",
              "</style>\n",
              "<table border=\"1\" class=\"dataframe\">\n",
              "  <thead>\n",
              "    <tr style=\"text-align: right;\">\n",
              "      <th></th>\n",
              "      <th>german</th>\n",
              "      <th>english</th>\n",
              "      <th>engcount</th>\n",
              "      <th>english_clean</th>\n",
              "      <th>german_clean</th>\n",
              "      <th>is_eng</th>\n",
              "      <th>is_ger</th>\n",
              "    </tr>\n",
              "  </thead>\n",
              "  <tbody>\n",
              "    <tr>\n",
              "      <th>1831261</th>\n",
              "      <td>Wegen ihrer Größe und Preise dienen sie aussch...</td>\n",
              "      <td>Due to the price and dimensions they are only ...</td>\n",
              "      <td>22</td>\n",
              "      <td>Due price dimensions used Police , hospitals c...</td>\n",
              "      <td>Wegen Größe Preise dienen ausschließlich stati...</td>\n",
              "      <td>en</td>\n",
              "      <td>de</td>\n",
              "    </tr>\n",
              "    <tr>\n",
              "      <th>1251533</th>\n",
              "      <td>Auf den winkeligen Fluren und in den Sälen der...</td>\n",
              "      <td>The location of the caves - under the Buda Cas...</td>\n",
              "      <td>17</td>\n",
              "      <td>The location caves - Buda Castle Hill - unique...</td>\n",
              "      <td>Auf winkeligen Fluren Sälen Höhlen, Budaer Bur...</td>\n",
              "      <td>en</td>\n",
              "      <td>de</td>\n",
              "    </tr>\n",
              "    <tr>\n",
              "      <th>1822505</th>\n",
              "      <td>Beschreibung von Design, Aussenform, Tragbarke...</td>\n",
              "      <td>Description of the design, of outer form and n...</td>\n",
              "      <td>16</td>\n",
              "      <td>Description design, outer form novelty well pu...</td>\n",
              "      <td>Beschreibung Design, Aussenform, Tragbarkeit s...</td>\n",
              "      <td>en</td>\n",
              "      <td>de</td>\n",
              "    </tr>\n",
              "    <tr>\n",
              "      <th>456825</th>\n",
              "      <td>Herr Präsident, man reagiert sehr leicht auf E...</td>\n",
              "      <td>Mr President, it is very easy to react on emot...</td>\n",
              "      <td>23</td>\n",
              "      <td>Mr President, easy react emotion House react e...</td>\n",
              "      <td>Herr Präsident, reagiert leicht Emotionen, Hoh...</td>\n",
              "      <td>en</td>\n",
              "      <td>de</td>\n",
              "    </tr>\n",
              "    <tr>\n",
              "      <th>565445</th>\n",
              "      <td>Er wollte wissen, ob ein einziger Mitgliedstaa...</td>\n",
              "      <td>He asked whether a single Member State might r...</td>\n",
              "      <td>23</td>\n",
              "      <td>He asked whether single Member State might req...</td>\n",
              "      <td>Er wissen, einziger Mitgliedstaat Aussetzung v...</td>\n",
              "      <td>en</td>\n",
              "      <td>de</td>\n",
              "    </tr>\n",
              "    <tr>\n",
              "      <th>...</th>\n",
              "      <td>...</td>\n",
              "      <td>...</td>\n",
              "      <td>...</td>\n",
              "      <td>...</td>\n",
              "      <td>...</td>\n",
              "      <td>...</td>\n",
              "      <td>...</td>\n",
              "    </tr>\n",
              "    <tr>\n",
              "      <th>842546</th>\n",
              "      <td>Geschieht das nicht, dann müssen wir unverzügl...</td>\n",
              "      <td>If this does not happen, we have to immediatel...</td>\n",
              "      <td>19</td>\n",
              "      <td>If happen, immediately stop delivering kind in...</td>\n",
              "      <td>Geschieht nicht, müssen unverzüglich aufhören,...</td>\n",
              "      <td>en</td>\n",
              "      <td>de</td>\n",
              "    </tr>\n",
              "    <tr>\n",
              "      <th>100970</th>\n",
              "      <td>Frau Präsidentin, mir wird man wohl nicht nach...</td>\n",
              "      <td>Madam President, I am one of those who were mo...</td>\n",
              "      <td>18</td>\n",
              "      <td>Madam President, I one opposed away Friday sit...</td>\n",
              "      <td>Frau Präsidentin, wohl nachsagen können, Befür...</td>\n",
              "      <td>en</td>\n",
              "      <td>de</td>\n",
              "    </tr>\n",
              "    <tr>\n",
              "      <th>1035633</th>\n",
              "      <td>Der vorliegende Bericht wird aus meiner Sicht ...</td>\n",
              "      <td>I believe that this report will lead to better...</td>\n",
              "      <td>23</td>\n",
              "      <td>I believe report lead better monitoring water ...</td>\n",
              "      <td>Der vorliegende Bericht Sicht besseren Überprü...</td>\n",
              "      <td>en</td>\n",
              "      <td>de</td>\n",
              "    </tr>\n",
              "    <tr>\n",
              "      <th>1065551</th>\n",
              "      <td>Erstens garantiert die Kommission, dass die zu...</td>\n",
              "      <td>Firstly, the Commission ensures that the compe...</td>\n",
              "      <td>28</td>\n",
              "      <td>Firstly, Commission ensures competent authorit...</td>\n",
              "      <td>Erstens garantiert Kommission, zuständigen Beh...</td>\n",
              "      <td>en</td>\n",
              "      <td>de</td>\n",
              "    </tr>\n",
              "    <tr>\n",
              "      <th>1214360</th>\n",
              "      <td>Meine Damen und Herren, es liegt an uns, im Ei...</td>\n",
              "      <td>Ladies and gentlemen, it is up to us to act to...</td>\n",
              "      <td>19</td>\n",
              "      <td>Ladies gentlemen, us act bring actions line va...</td>\n",
              "      <td>Meine Damen Herren, liegt uns, Einklang Werten...</td>\n",
              "      <td>en</td>\n",
              "      <td>de</td>\n",
              "    </tr>\n",
              "  </tbody>\n",
              "</table>\n",
              "<p>9323 rows × 7 columns</p>\n",
              "</div>\n",
              "    <div class=\"colab-df-buttons\">\n",
              "\n",
              "  <div class=\"colab-df-container\">\n",
              "    <button class=\"colab-df-convert\" onclick=\"convertToInteractive('df-000ed902-0419-4544-b4ba-deb346150e84')\"\n",
              "            title=\"Convert this dataframe to an interactive table.\"\n",
              "            style=\"display:none;\">\n",
              "\n",
              "  <svg xmlns=\"http://www.w3.org/2000/svg\" height=\"24px\" viewBox=\"0 -960 960 960\">\n",
              "    <path d=\"M120-120v-720h720v720H120Zm60-500h600v-160H180v160Zm220 220h160v-160H400v160Zm0 220h160v-160H400v160ZM180-400h160v-160H180v160Zm440 0h160v-160H620v160ZM180-180h160v-160H180v160Zm440 0h160v-160H620v160Z\"/>\n",
              "  </svg>\n",
              "    </button>\n",
              "\n",
              "  <style>\n",
              "    .colab-df-container {\n",
              "      display:flex;\n",
              "      gap: 12px;\n",
              "    }\n",
              "\n",
              "    .colab-df-convert {\n",
              "      background-color: #E8F0FE;\n",
              "      border: none;\n",
              "      border-radius: 50%;\n",
              "      cursor: pointer;\n",
              "      display: none;\n",
              "      fill: #1967D2;\n",
              "      height: 32px;\n",
              "      padding: 0 0 0 0;\n",
              "      width: 32px;\n",
              "    }\n",
              "\n",
              "    .colab-df-convert:hover {\n",
              "      background-color: #E2EBFA;\n",
              "      box-shadow: 0px 1px 2px rgba(60, 64, 67, 0.3), 0px 1px 3px 1px rgba(60, 64, 67, 0.15);\n",
              "      fill: #174EA6;\n",
              "    }\n",
              "\n",
              "    .colab-df-buttons div {\n",
              "      margin-bottom: 4px;\n",
              "    }\n",
              "\n",
              "    [theme=dark] .colab-df-convert {\n",
              "      background-color: #3B4455;\n",
              "      fill: #D2E3FC;\n",
              "    }\n",
              "\n",
              "    [theme=dark] .colab-df-convert:hover {\n",
              "      background-color: #434B5C;\n",
              "      box-shadow: 0px 1px 3px 1px rgba(0, 0, 0, 0.15);\n",
              "      filter: drop-shadow(0px 1px 2px rgba(0, 0, 0, 0.3));\n",
              "      fill: #FFFFFF;\n",
              "    }\n",
              "  </style>\n",
              "\n",
              "    <script>\n",
              "      const buttonEl =\n",
              "        document.querySelector('#df-000ed902-0419-4544-b4ba-deb346150e84 button.colab-df-convert');\n",
              "      buttonEl.style.display =\n",
              "        google.colab.kernel.accessAllowed ? 'block' : 'none';\n",
              "\n",
              "      async function convertToInteractive(key) {\n",
              "        const element = document.querySelector('#df-000ed902-0419-4544-b4ba-deb346150e84');\n",
              "        const dataTable =\n",
              "          await google.colab.kernel.invokeFunction('convertToInteractive',\n",
              "                                                    [key], {});\n",
              "        if (!dataTable) return;\n",
              "\n",
              "        const docLinkHtml = 'Like what you see? Visit the ' +\n",
              "          '<a target=\"_blank\" href=https://colab.research.google.com/notebooks/data_table.ipynb>data table notebook</a>'\n",
              "          + ' to learn more about interactive tables.';\n",
              "        element.innerHTML = '';\n",
              "        dataTable['output_type'] = 'display_data';\n",
              "        await google.colab.output.renderOutput(dataTable, element);\n",
              "        const docLink = document.createElement('div');\n",
              "        docLink.innerHTML = docLinkHtml;\n",
              "        element.appendChild(docLink);\n",
              "      }\n",
              "    </script>\n",
              "  </div>\n",
              "\n",
              "\n",
              "<div id=\"df-c2300ead-fef3-4e2f-aead-5acc072831e5\">\n",
              "  <button class=\"colab-df-quickchart\" onclick=\"quickchart('df-c2300ead-fef3-4e2f-aead-5acc072831e5')\"\n",
              "            title=\"Suggest charts\"\n",
              "            style=\"display:none;\">\n",
              "\n",
              "<svg xmlns=\"http://www.w3.org/2000/svg\" height=\"24px\"viewBox=\"0 0 24 24\"\n",
              "     width=\"24px\">\n",
              "    <g>\n",
              "        <path d=\"M19 3H5c-1.1 0-2 .9-2 2v14c0 1.1.9 2 2 2h14c1.1 0 2-.9 2-2V5c0-1.1-.9-2-2-2zM9 17H7v-7h2v7zm4 0h-2V7h2v10zm4 0h-2v-4h2v4z\"/>\n",
              "    </g>\n",
              "</svg>\n",
              "  </button>\n",
              "\n",
              "<style>\n",
              "  .colab-df-quickchart {\n",
              "      --bg-color: #E8F0FE;\n",
              "      --fill-color: #1967D2;\n",
              "      --hover-bg-color: #E2EBFA;\n",
              "      --hover-fill-color: #174EA6;\n",
              "      --disabled-fill-color: #AAA;\n",
              "      --disabled-bg-color: #DDD;\n",
              "  }\n",
              "\n",
              "  [theme=dark] .colab-df-quickchart {\n",
              "      --bg-color: #3B4455;\n",
              "      --fill-color: #D2E3FC;\n",
              "      --hover-bg-color: #434B5C;\n",
              "      --hover-fill-color: #FFFFFF;\n",
              "      --disabled-bg-color: #3B4455;\n",
              "      --disabled-fill-color: #666;\n",
              "  }\n",
              "\n",
              "  .colab-df-quickchart {\n",
              "    background-color: var(--bg-color);\n",
              "    border: none;\n",
              "    border-radius: 50%;\n",
              "    cursor: pointer;\n",
              "    display: none;\n",
              "    fill: var(--fill-color);\n",
              "    height: 32px;\n",
              "    padding: 0;\n",
              "    width: 32px;\n",
              "  }\n",
              "\n",
              "  .colab-df-quickchart:hover {\n",
              "    background-color: var(--hover-bg-color);\n",
              "    box-shadow: 0 1px 2px rgba(60, 64, 67, 0.3), 0 1px 3px 1px rgba(60, 64, 67, 0.15);\n",
              "    fill: var(--button-hover-fill-color);\n",
              "  }\n",
              "\n",
              "  .colab-df-quickchart-complete:disabled,\n",
              "  .colab-df-quickchart-complete:disabled:hover {\n",
              "    background-color: var(--disabled-bg-color);\n",
              "    fill: var(--disabled-fill-color);\n",
              "    box-shadow: none;\n",
              "  }\n",
              "\n",
              "  .colab-df-spinner {\n",
              "    border: 2px solid var(--fill-color);\n",
              "    border-color: transparent;\n",
              "    border-bottom-color: var(--fill-color);\n",
              "    animation:\n",
              "      spin 1s steps(1) infinite;\n",
              "  }\n",
              "\n",
              "  @keyframes spin {\n",
              "    0% {\n",
              "      border-color: transparent;\n",
              "      border-bottom-color: var(--fill-color);\n",
              "      border-left-color: var(--fill-color);\n",
              "    }\n",
              "    20% {\n",
              "      border-color: transparent;\n",
              "      border-left-color: var(--fill-color);\n",
              "      border-top-color: var(--fill-color);\n",
              "    }\n",
              "    30% {\n",
              "      border-color: transparent;\n",
              "      border-left-color: var(--fill-color);\n",
              "      border-top-color: var(--fill-color);\n",
              "      border-right-color: var(--fill-color);\n",
              "    }\n",
              "    40% {\n",
              "      border-color: transparent;\n",
              "      border-right-color: var(--fill-color);\n",
              "      border-top-color: var(--fill-color);\n",
              "    }\n",
              "    60% {\n",
              "      border-color: transparent;\n",
              "      border-right-color: var(--fill-color);\n",
              "    }\n",
              "    80% {\n",
              "      border-color: transparent;\n",
              "      border-right-color: var(--fill-color);\n",
              "      border-bottom-color: var(--fill-color);\n",
              "    }\n",
              "    90% {\n",
              "      border-color: transparent;\n",
              "      border-bottom-color: var(--fill-color);\n",
              "    }\n",
              "  }\n",
              "</style>\n",
              "\n",
              "  <script>\n",
              "    async function quickchart(key) {\n",
              "      const quickchartButtonEl =\n",
              "        document.querySelector('#' + key + ' button');\n",
              "      quickchartButtonEl.disabled = true;  // To prevent multiple clicks.\n",
              "      quickchartButtonEl.classList.add('colab-df-spinner');\n",
              "      try {\n",
              "        const charts = await google.colab.kernel.invokeFunction(\n",
              "            'suggestCharts', [key], {});\n",
              "      } catch (error) {\n",
              "        console.error('Error during call to suggestCharts:', error);\n",
              "      }\n",
              "      quickchartButtonEl.classList.remove('colab-df-spinner');\n",
              "      quickchartButtonEl.classList.add('colab-df-quickchart-complete');\n",
              "    }\n",
              "    (() => {\n",
              "      let quickchartButtonEl =\n",
              "        document.querySelector('#df-c2300ead-fef3-4e2f-aead-5acc072831e5 button');\n",
              "      quickchartButtonEl.style.display =\n",
              "        google.colab.kernel.accessAllowed ? 'block' : 'none';\n",
              "    })();\n",
              "  </script>\n",
              "</div>\n",
              "    </div>\n",
              "  </div>\n"
            ]
          },
          "metadata": {}
        }
      ]
    },
    {
      "cell_type": "markdown",
      "source": [
        "#NLP pre processing\n",
        "\n",
        "1. Tokenization\n",
        "\n",
        "2. Stemming\n",
        "\n",
        "3. Tokenization of Stemmed output\n",
        "\n",
        "4. Lamentization"
      ],
      "metadata": {
        "id": "szEl3b04Ep58"
      }
    },
    {
      "cell_type": "code",
      "source": [
        "se = SnowballStemmer(\"english\")\n",
        "sg = SnowballStemmer(\"german\")\n",
        "\n",
        "def tokenize(text):\n",
        "  token = word_tokenize(text)\n",
        "  return token\n",
        "\n",
        "def engstem(token):\n",
        "    #t = x.strip().split()\n",
        "    ret = [se.stem(word) for word in token]\n",
        "    ret = ' '.join(ret)\n",
        "    return ret\n",
        "\n",
        "def gerstem(token):\n",
        "    #t = x.strip().split()\n",
        "    ret = [sg.stem(word) for word in token]\n",
        "    ret = ' '.join(ret)\n",
        "    return ret\n",
        "\n",
        "def gerlemmatizer(x):\n",
        "  ret = gernlp(x)\n",
        "  return str(ret)\n",
        "\n",
        "def englemmatizer(x):\n",
        "  ret = engnlp(x)\n",
        "  return str(ret)\n",
        "\n"
      ],
      "metadata": {
        "id": "Jnm4xsoKFJ1Q"
      },
      "execution_count": null,
      "outputs": []
    },
    {
      "cell_type": "markdown",
      "source": [
        "### Normalization pipeline"
      ],
      "metadata": {
        "id": "agdr3fmdiZl0"
      }
    },
    {
      "cell_type": "code",
      "source": [
        "def engish_normalization_pipeline(text):\n",
        "  token = tokenize(text)\n",
        "  s = engstem(token)\n",
        "  return englemmatizer(s)\n",
        "\n",
        "def german_normalization_pipeline(text):\n",
        "  token = tokenize(text)\n",
        "  s = gerstem(token)\n",
        "  return gerlemmatizer(s)"
      ],
      "metadata": {
        "id": "DhE8zRV1J8dJ"
      },
      "execution_count": null,
      "outputs": []
    },
    {
      "cell_type": "code",
      "source": [
        "dfappendclean.columns"
      ],
      "metadata": {
        "colab": {
          "base_uri": "https://localhost:8080/"
        },
        "id": "a6xAUUAeoXHR",
        "outputId": "2af13e10-bc29-40a0-aab3-9ad41123196a"
      },
      "execution_count": null,
      "outputs": [
        {
          "output_type": "execute_result",
          "data": {
            "text/plain": [
              "Index(['german', 'english', 'engcount', 'english_clean', 'german_clean',\n",
              "       'is_eng', 'is_ger'],\n",
              "      dtype='object')"
            ]
          },
          "metadata": {},
          "execution_count": 37
        }
      ]
    },
    {
      "cell_type": "code",
      "source": [
        "dfnormal = dfappendclean[[\"english_clean\", \"german_clean\"]]"
      ],
      "metadata": {
        "id": "KtTw9BSgoKi4"
      },
      "execution_count": null,
      "outputs": []
    },
    {
      "cell_type": "code",
      "source": [
        "display(dfnormal)"
      ],
      "metadata": {
        "colab": {
          "base_uri": "https://localhost:8080/",
          "height": 424
        },
        "id": "cK8r3LPraplu",
        "outputId": "f462e9e4-c4e2-4b25-d884-fee0b9f8a080"
      },
      "execution_count": null,
      "outputs": [
        {
          "output_type": "display_data",
          "data": {
            "text/plain": [
              "                                             english_clean  \\\n",
              "1831261  Due price dimensions used Police , hospitals c...   \n",
              "1251533  The location caves - Buda Castle Hill - unique...   \n",
              "1822505  Description design, outer form novelty well pu...   \n",
              "456825   Mr President, easy react emotion House react e...   \n",
              "565445   He asked whether single Member State might req...   \n",
              "...                                                    ...   \n",
              "842546   If happen, immediately stop delivering kind in...   \n",
              "100970   Madam President, I one opposed away Friday sit...   \n",
              "1035633  I believe report lead better monitoring water ...   \n",
              "1065551  Firstly, Commission ensures competent authorit...   \n",
              "1214360  Ladies gentlemen, us act bring actions line va...   \n",
              "\n",
              "                                              german_clean  \n",
              "1831261  Wegen Größe Preise dienen ausschließlich stati...  \n",
              "1251533  Auf winkeligen Fluren Sälen Höhlen, Budaer Bur...  \n",
              "1822505  Beschreibung Design, Aussenform, Tragbarkeit s...  \n",
              "456825   Herr Präsident, reagiert leicht Emotionen, Hoh...  \n",
              "565445   Er wissen, einziger Mitgliedstaat Aussetzung v...  \n",
              "...                                                    ...  \n",
              "842546   Geschieht nicht, müssen unverzüglich aufhören,...  \n",
              "100970   Frau Präsidentin, wohl nachsagen können, Befür...  \n",
              "1035633  Der vorliegende Bericht Sicht besseren Überprü...  \n",
              "1065551  Erstens garantiert Kommission, zuständigen Beh...  \n",
              "1214360  Meine Damen Herren, liegt uns, Einklang Werten...  \n",
              "\n",
              "[9323 rows x 2 columns]"
            ],
            "text/html": [
              "\n",
              "  <div id=\"df-12a7cf16-ee7e-41a1-83d0-596fee3c54ee\" class=\"colab-df-container\">\n",
              "    <div>\n",
              "<style scoped>\n",
              "    .dataframe tbody tr th:only-of-type {\n",
              "        vertical-align: middle;\n",
              "    }\n",
              "\n",
              "    .dataframe tbody tr th {\n",
              "        vertical-align: top;\n",
              "    }\n",
              "\n",
              "    .dataframe thead th {\n",
              "        text-align: right;\n",
              "    }\n",
              "</style>\n",
              "<table border=\"1\" class=\"dataframe\">\n",
              "  <thead>\n",
              "    <tr style=\"text-align: right;\">\n",
              "      <th></th>\n",
              "      <th>english_clean</th>\n",
              "      <th>german_clean</th>\n",
              "    </tr>\n",
              "  </thead>\n",
              "  <tbody>\n",
              "    <tr>\n",
              "      <th>1831261</th>\n",
              "      <td>Due price dimensions used Police , hospitals c...</td>\n",
              "      <td>Wegen Größe Preise dienen ausschließlich stati...</td>\n",
              "    </tr>\n",
              "    <tr>\n",
              "      <th>1251533</th>\n",
              "      <td>The location caves - Buda Castle Hill - unique...</td>\n",
              "      <td>Auf winkeligen Fluren Sälen Höhlen, Budaer Bur...</td>\n",
              "    </tr>\n",
              "    <tr>\n",
              "      <th>1822505</th>\n",
              "      <td>Description design, outer form novelty well pu...</td>\n",
              "      <td>Beschreibung Design, Aussenform, Tragbarkeit s...</td>\n",
              "    </tr>\n",
              "    <tr>\n",
              "      <th>456825</th>\n",
              "      <td>Mr President, easy react emotion House react e...</td>\n",
              "      <td>Herr Präsident, reagiert leicht Emotionen, Hoh...</td>\n",
              "    </tr>\n",
              "    <tr>\n",
              "      <th>565445</th>\n",
              "      <td>He asked whether single Member State might req...</td>\n",
              "      <td>Er wissen, einziger Mitgliedstaat Aussetzung v...</td>\n",
              "    </tr>\n",
              "    <tr>\n",
              "      <th>...</th>\n",
              "      <td>...</td>\n",
              "      <td>...</td>\n",
              "    </tr>\n",
              "    <tr>\n",
              "      <th>842546</th>\n",
              "      <td>If happen, immediately stop delivering kind in...</td>\n",
              "      <td>Geschieht nicht, müssen unverzüglich aufhören,...</td>\n",
              "    </tr>\n",
              "    <tr>\n",
              "      <th>100970</th>\n",
              "      <td>Madam President, I one opposed away Friday sit...</td>\n",
              "      <td>Frau Präsidentin, wohl nachsagen können, Befür...</td>\n",
              "    </tr>\n",
              "    <tr>\n",
              "      <th>1035633</th>\n",
              "      <td>I believe report lead better monitoring water ...</td>\n",
              "      <td>Der vorliegende Bericht Sicht besseren Überprü...</td>\n",
              "    </tr>\n",
              "    <tr>\n",
              "      <th>1065551</th>\n",
              "      <td>Firstly, Commission ensures competent authorit...</td>\n",
              "      <td>Erstens garantiert Kommission, zuständigen Beh...</td>\n",
              "    </tr>\n",
              "    <tr>\n",
              "      <th>1214360</th>\n",
              "      <td>Ladies gentlemen, us act bring actions line va...</td>\n",
              "      <td>Meine Damen Herren, liegt uns, Einklang Werten...</td>\n",
              "    </tr>\n",
              "  </tbody>\n",
              "</table>\n",
              "<p>9323 rows × 2 columns</p>\n",
              "</div>\n",
              "    <div class=\"colab-df-buttons\">\n",
              "\n",
              "  <div class=\"colab-df-container\">\n",
              "    <button class=\"colab-df-convert\" onclick=\"convertToInteractive('df-12a7cf16-ee7e-41a1-83d0-596fee3c54ee')\"\n",
              "            title=\"Convert this dataframe to an interactive table.\"\n",
              "            style=\"display:none;\">\n",
              "\n",
              "  <svg xmlns=\"http://www.w3.org/2000/svg\" height=\"24px\" viewBox=\"0 -960 960 960\">\n",
              "    <path d=\"M120-120v-720h720v720H120Zm60-500h600v-160H180v160Zm220 220h160v-160H400v160Zm0 220h160v-160H400v160ZM180-400h160v-160H180v160Zm440 0h160v-160H620v160ZM180-180h160v-160H180v160Zm440 0h160v-160H620v160Z\"/>\n",
              "  </svg>\n",
              "    </button>\n",
              "\n",
              "  <style>\n",
              "    .colab-df-container {\n",
              "      display:flex;\n",
              "      gap: 12px;\n",
              "    }\n",
              "\n",
              "    .colab-df-convert {\n",
              "      background-color: #E8F0FE;\n",
              "      border: none;\n",
              "      border-radius: 50%;\n",
              "      cursor: pointer;\n",
              "      display: none;\n",
              "      fill: #1967D2;\n",
              "      height: 32px;\n",
              "      padding: 0 0 0 0;\n",
              "      width: 32px;\n",
              "    }\n",
              "\n",
              "    .colab-df-convert:hover {\n",
              "      background-color: #E2EBFA;\n",
              "      box-shadow: 0px 1px 2px rgba(60, 64, 67, 0.3), 0px 1px 3px 1px rgba(60, 64, 67, 0.15);\n",
              "      fill: #174EA6;\n",
              "    }\n",
              "\n",
              "    .colab-df-buttons div {\n",
              "      margin-bottom: 4px;\n",
              "    }\n",
              "\n",
              "    [theme=dark] .colab-df-convert {\n",
              "      background-color: #3B4455;\n",
              "      fill: #D2E3FC;\n",
              "    }\n",
              "\n",
              "    [theme=dark] .colab-df-convert:hover {\n",
              "      background-color: #434B5C;\n",
              "      box-shadow: 0px 1px 3px 1px rgba(0, 0, 0, 0.15);\n",
              "      filter: drop-shadow(0px 1px 2px rgba(0, 0, 0, 0.3));\n",
              "      fill: #FFFFFF;\n",
              "    }\n",
              "  </style>\n",
              "\n",
              "    <script>\n",
              "      const buttonEl =\n",
              "        document.querySelector('#df-12a7cf16-ee7e-41a1-83d0-596fee3c54ee button.colab-df-convert');\n",
              "      buttonEl.style.display =\n",
              "        google.colab.kernel.accessAllowed ? 'block' : 'none';\n",
              "\n",
              "      async function convertToInteractive(key) {\n",
              "        const element = document.querySelector('#df-12a7cf16-ee7e-41a1-83d0-596fee3c54ee');\n",
              "        const dataTable =\n",
              "          await google.colab.kernel.invokeFunction('convertToInteractive',\n",
              "                                                    [key], {});\n",
              "        if (!dataTable) return;\n",
              "\n",
              "        const docLinkHtml = 'Like what you see? Visit the ' +\n",
              "          '<a target=\"_blank\" href=https://colab.research.google.com/notebooks/data_table.ipynb>data table notebook</a>'\n",
              "          + ' to learn more about interactive tables.';\n",
              "        element.innerHTML = '';\n",
              "        dataTable['output_type'] = 'display_data';\n",
              "        await google.colab.output.renderOutput(dataTable, element);\n",
              "        const docLink = document.createElement('div');\n",
              "        docLink.innerHTML = docLinkHtml;\n",
              "        element.appendChild(docLink);\n",
              "      }\n",
              "    </script>\n",
              "  </div>\n",
              "\n",
              "\n",
              "<div id=\"df-74e0ba70-f5d5-4aa2-bee1-1c888cf3ef00\">\n",
              "  <button class=\"colab-df-quickchart\" onclick=\"quickchart('df-74e0ba70-f5d5-4aa2-bee1-1c888cf3ef00')\"\n",
              "            title=\"Suggest charts\"\n",
              "            style=\"display:none;\">\n",
              "\n",
              "<svg xmlns=\"http://www.w3.org/2000/svg\" height=\"24px\"viewBox=\"0 0 24 24\"\n",
              "     width=\"24px\">\n",
              "    <g>\n",
              "        <path d=\"M19 3H5c-1.1 0-2 .9-2 2v14c0 1.1.9 2 2 2h14c1.1 0 2-.9 2-2V5c0-1.1-.9-2-2-2zM9 17H7v-7h2v7zm4 0h-2V7h2v10zm4 0h-2v-4h2v4z\"/>\n",
              "    </g>\n",
              "</svg>\n",
              "  </button>\n",
              "\n",
              "<style>\n",
              "  .colab-df-quickchart {\n",
              "      --bg-color: #E8F0FE;\n",
              "      --fill-color: #1967D2;\n",
              "      --hover-bg-color: #E2EBFA;\n",
              "      --hover-fill-color: #174EA6;\n",
              "      --disabled-fill-color: #AAA;\n",
              "      --disabled-bg-color: #DDD;\n",
              "  }\n",
              "\n",
              "  [theme=dark] .colab-df-quickchart {\n",
              "      --bg-color: #3B4455;\n",
              "      --fill-color: #D2E3FC;\n",
              "      --hover-bg-color: #434B5C;\n",
              "      --hover-fill-color: #FFFFFF;\n",
              "      --disabled-bg-color: #3B4455;\n",
              "      --disabled-fill-color: #666;\n",
              "  }\n",
              "\n",
              "  .colab-df-quickchart {\n",
              "    background-color: var(--bg-color);\n",
              "    border: none;\n",
              "    border-radius: 50%;\n",
              "    cursor: pointer;\n",
              "    display: none;\n",
              "    fill: var(--fill-color);\n",
              "    height: 32px;\n",
              "    padding: 0;\n",
              "    width: 32px;\n",
              "  }\n",
              "\n",
              "  .colab-df-quickchart:hover {\n",
              "    background-color: var(--hover-bg-color);\n",
              "    box-shadow: 0 1px 2px rgba(60, 64, 67, 0.3), 0 1px 3px 1px rgba(60, 64, 67, 0.15);\n",
              "    fill: var(--button-hover-fill-color);\n",
              "  }\n",
              "\n",
              "  .colab-df-quickchart-complete:disabled,\n",
              "  .colab-df-quickchart-complete:disabled:hover {\n",
              "    background-color: var(--disabled-bg-color);\n",
              "    fill: var(--disabled-fill-color);\n",
              "    box-shadow: none;\n",
              "  }\n",
              "\n",
              "  .colab-df-spinner {\n",
              "    border: 2px solid var(--fill-color);\n",
              "    border-color: transparent;\n",
              "    border-bottom-color: var(--fill-color);\n",
              "    animation:\n",
              "      spin 1s steps(1) infinite;\n",
              "  }\n",
              "\n",
              "  @keyframes spin {\n",
              "    0% {\n",
              "      border-color: transparent;\n",
              "      border-bottom-color: var(--fill-color);\n",
              "      border-left-color: var(--fill-color);\n",
              "    }\n",
              "    20% {\n",
              "      border-color: transparent;\n",
              "      border-left-color: var(--fill-color);\n",
              "      border-top-color: var(--fill-color);\n",
              "    }\n",
              "    30% {\n",
              "      border-color: transparent;\n",
              "      border-left-color: var(--fill-color);\n",
              "      border-top-color: var(--fill-color);\n",
              "      border-right-color: var(--fill-color);\n",
              "    }\n",
              "    40% {\n",
              "      border-color: transparent;\n",
              "      border-right-color: var(--fill-color);\n",
              "      border-top-color: var(--fill-color);\n",
              "    }\n",
              "    60% {\n",
              "      border-color: transparent;\n",
              "      border-right-color: var(--fill-color);\n",
              "    }\n",
              "    80% {\n",
              "      border-color: transparent;\n",
              "      border-right-color: var(--fill-color);\n",
              "      border-bottom-color: var(--fill-color);\n",
              "    }\n",
              "    90% {\n",
              "      border-color: transparent;\n",
              "      border-bottom-color: var(--fill-color);\n",
              "    }\n",
              "  }\n",
              "</style>\n",
              "\n",
              "  <script>\n",
              "    async function quickchart(key) {\n",
              "      const quickchartButtonEl =\n",
              "        document.querySelector('#' + key + ' button');\n",
              "      quickchartButtonEl.disabled = true;  // To prevent multiple clicks.\n",
              "      quickchartButtonEl.classList.add('colab-df-spinner');\n",
              "      try {\n",
              "        const charts = await google.colab.kernel.invokeFunction(\n",
              "            'suggestCharts', [key], {});\n",
              "      } catch (error) {\n",
              "        console.error('Error during call to suggestCharts:', error);\n",
              "      }\n",
              "      quickchartButtonEl.classList.remove('colab-df-spinner');\n",
              "      quickchartButtonEl.classList.add('colab-df-quickchart-complete');\n",
              "    }\n",
              "    (() => {\n",
              "      let quickchartButtonEl =\n",
              "        document.querySelector('#df-74e0ba70-f5d5-4aa2-bee1-1c888cf3ef00 button');\n",
              "      quickchartButtonEl.style.display =\n",
              "        google.colab.kernel.accessAllowed ? 'block' : 'none';\n",
              "    })();\n",
              "  </script>\n",
              "</div>\n",
              "    </div>\n",
              "  </div>\n"
            ]
          },
          "metadata": {}
        }
      ]
    },
    {
      "cell_type": "markdown",
      "source": [
        "### Saving interim file"
      ],
      "metadata": {
        "id": "EUlF3AeZ0EfK"
      }
    },
    {
      "cell_type": "code",
      "source": [
        "dfnormal['english_clean'] = dfnormal['english_clean'].apply(lambda x: engish_normalization_pipeline(x))"
      ],
      "metadata": {
        "colab": {
          "base_uri": "https://localhost:8080/"
        },
        "id": "dKWN0DhwoGFb",
        "outputId": "3a337889-fd74-454b-9279-ea4e8b880cb5"
      },
      "execution_count": null,
      "outputs": [
        {
          "output_type": "stream",
          "name": "stderr",
          "text": [
            "<ipython-input-40-2d17b4c22051>:1: SettingWithCopyWarning: \n",
            "A value is trying to be set on a copy of a slice from a DataFrame.\n",
            "Try using .loc[row_indexer,col_indexer] = value instead\n",
            "\n",
            "See the caveats in the documentation: https://pandas.pydata.org/pandas-docs/stable/user_guide/indexing.html#returning-a-view-versus-a-copy\n",
            "  dfnormal['english_clean'] = dfnormal['english_clean'].apply(lambda x: engish_normalization_pipeline(x))\n"
          ]
        }
      ]
    },
    {
      "cell_type": "code",
      "source": [
        "dfnormal['german_clean'] = dfnormal['german_clean'].apply(lambda x: german_normalization_pipeline(x))"
      ],
      "metadata": {
        "colab": {
          "base_uri": "https://localhost:8080/"
        },
        "id": "PB_0XhHOovCR",
        "outputId": "9671c34e-c792-4c95-db70-d91eb2ebf56c"
      },
      "execution_count": null,
      "outputs": [
        {
          "output_type": "stream",
          "name": "stderr",
          "text": [
            "<ipython-input-41-ac9d6e9b2c0d>:1: SettingWithCopyWarning: \n",
            "A value is trying to be set on a copy of a slice from a DataFrame.\n",
            "Try using .loc[row_indexer,col_indexer] = value instead\n",
            "\n",
            "See the caveats in the documentation: https://pandas.pydata.org/pandas-docs/stable/user_guide/indexing.html#returning-a-view-versus-a-copy\n",
            "  dfnormal['german_clean'] = dfnormal['german_clean'].apply(lambda x: german_normalization_pipeline(x))\n"
          ]
        }
      ]
    },
    {
      "cell_type": "code",
      "source": [
        "def concatstr(x):\n",
        "  return \"\\t\"+x+\"\\n\"\n"
      ],
      "metadata": {
        "id": "pUGRNUoXzU5m"
      },
      "execution_count": null,
      "outputs": []
    },
    {
      "cell_type": "code",
      "source": [
        "dfnormal[\"german_clean\"] = dfnormal['german_clean'].apply(lambda x: concatstr(x))"
      ],
      "metadata": {
        "id": "D27yzs8_zyio"
      },
      "execution_count": null,
      "outputs": []
    },
    {
      "cell_type": "code",
      "source": [
        "dfnormal.to_csv(\"/content/drive/MyDrive/Greatlearning/Capstone/Dataset/stagedata.csv\")"
      ],
      "metadata": {
        "id": "kQzSguzqsmhg"
      },
      "execution_count": null,
      "outputs": []
    },
    {
      "cell_type": "markdown",
      "source": [
        "## Creating Vocabulary"
      ],
      "metadata": {
        "id": "aGxyM7ag09dE"
      }
    },
    {
      "cell_type": "code",
      "source": [
        "dfnormal = pd.read_csv(\"/content/drive/MyDrive/Greatlearning/Capstone/Dataset/stagedata.csv\")"
      ],
      "metadata": {
        "id": "yvNjReYFtPMN"
      },
      "execution_count": null,
      "outputs": []
    },
    {
      "cell_type": "code",
      "source": [
        "dfnormal[\"english_clean2\"] = dfnormal['english_clean'].apply(lambda x: removespecial(x))\n",
        "dfnormal[\"german_clean2\"] = dfnormal['german_clean'].apply(lambda x: removespecial(x))"
      ],
      "metadata": {
        "id": "jaTXxwtwvwo2"
      },
      "execution_count": null,
      "outputs": []
    },
    {
      "cell_type": "code",
      "source": [
        "dfnormal"
      ],
      "metadata": {
        "colab": {
          "base_uri": "https://localhost:8080/",
          "height": 2124
        },
        "id": "0V6WmPNuw7fa",
        "outputId": "a2f3e78e-526a-4477-e039-e6c8878de694"
      },
      "execution_count": null,
      "outputs": [
        {
          "output_type": "execute_result",
          "data": {
            "text/plain": [
              "      Unnamed: 0                                      english_clean  \\\n",
              "0        1831261  due price dimens use polic , hospit court stat...   \n",
              "1        1251533   the locat cave - buda castl hill - uniqu world .   \n",
              "2        1822505  descript design , outer form novelti well purp...   \n",
              "3         456825  mr presid , easi react emot hous react emot , ...   \n",
              "4         565445  he ask whether singl member state might reques...   \n",
              "...          ...                                                ...   \n",
              "9318      842546  if happen , immedi stop deliv kind inform us a...   \n",
              "9319      100970       madam presid , i one oppos away friday sit .   \n",
              "9320     1035633  i believ report lead better monitor water qual...   \n",
              "9321     1065551  first , commiss ensur compet author member sta...   \n",
              "9322     1214360   ladi gentlemen , us act bring action line valu .   \n",
              "\n",
              "                                           german_clean  \\\n",
              "0     \\tweg gross preis dien ausschliess stationar e...   \n",
              "1     \\tauf winkel flur sal hohl , buda burg zieh , ...   \n",
              "2     \\tbeschreib design , aussenform , tragbar sowi...   \n",
              "3     \\therr prasident , reagiert leicht emotion , h...   \n",
              "4     \\ter wiss , einzig mitgliedstaat aussetz verla...   \n",
              "...                                                 ...   \n",
              "9318  \\tgeschieht nicht , muss unverzug aufhor , jeg...   \n",
              "9319  \\tfrau prasidentin , wohl nachsag konn , befur...   \n",
              "9320  \\tder vorlieg bericht sicht bess uberpruf wass...   \n",
              "9321  \\terst garantiert kommission , zustand behord ...   \n",
              "9322  \\tmein dam herr , liegt uns , einklang wert ha...   \n",
              "\n",
              "                                         english_clean2  \\\n",
              "0     due price dimens use polic  hospit court stati...   \n",
              "1         the locat cave  buda castl hill  uniqu world    \n",
              "2     descript design  outer form novelti well purpo...   \n",
              "3     mr presid  easi react emot hous react emot  re...   \n",
              "4     he ask whether singl member state might reques...   \n",
              "...                                                 ...   \n",
              "9318  if happen  immedi stop deliv kind inform us au...   \n",
              "9319         madam presid  i one oppos away friday sit    \n",
              "9320  i believ report lead better monitor water qual...   \n",
              "9321  first  commiss ensur compet author member stat...   \n",
              "9322     ladi gentlemen  us act bring action line valu    \n",
              "\n",
              "                                          german_clean2  \n",
              "0      weg gross preis dien ausschliess stationar ev...  \n",
              "1      auf winkel flur sal hohl  buda burg zieh  ein...  \n",
              "2      beschreib design  aussenform  tragbar sowi ge...  \n",
              "3      herr prasident  reagiert leicht emotion  hoh ...  \n",
              "4      er wiss  einzig mitgliedstaat aussetz verlang...  \n",
              "...                                                 ...  \n",
              "9318   geschieht nicht  muss unverzug aufhor  jeglic...  \n",
              "9319   frau prasidentin  wohl nachsag konn  befurwor...  \n",
              "9320   der vorlieg bericht sicht bess uberpruf wasse...  \n",
              "9321   erst garantiert kommission  zustand behord mi...  \n",
              "9322   mein dam herr  liegt uns  einklang wert hande...  \n",
              "\n",
              "[9323 rows x 5 columns]"
            ],
            "text/html": [
              "\n",
              "  <div id=\"df-42ae1ed9-891a-47f4-ab85-0bf9c4a70843\" class=\"colab-df-container\">\n",
              "    <div>\n",
              "<style scoped>\n",
              "    .dataframe tbody tr th:only-of-type {\n",
              "        vertical-align: middle;\n",
              "    }\n",
              "\n",
              "    .dataframe tbody tr th {\n",
              "        vertical-align: top;\n",
              "    }\n",
              "\n",
              "    .dataframe thead th {\n",
              "        text-align: right;\n",
              "    }\n",
              "</style>\n",
              "<table border=\"1\" class=\"dataframe\">\n",
              "  <thead>\n",
              "    <tr style=\"text-align: right;\">\n",
              "      <th></th>\n",
              "      <th>Unnamed: 0</th>\n",
              "      <th>english_clean</th>\n",
              "      <th>german_clean</th>\n",
              "      <th>english_clean2</th>\n",
              "      <th>german_clean2</th>\n",
              "    </tr>\n",
              "  </thead>\n",
              "  <tbody>\n",
              "    <tr>\n",
              "      <th>0</th>\n",
              "      <td>1831261</td>\n",
              "      <td>due price dimens use polic , hospit court stat...</td>\n",
              "      <td>\\tweg gross preis dien ausschliess stationar e...</td>\n",
              "      <td>due price dimens use polic  hospit court stati...</td>\n",
              "      <td>weg gross preis dien ausschliess stationar ev...</td>\n",
              "    </tr>\n",
              "    <tr>\n",
              "      <th>1</th>\n",
              "      <td>1251533</td>\n",
              "      <td>the locat cave - buda castl hill - uniqu world .</td>\n",
              "      <td>\\tauf winkel flur sal hohl , buda burg zieh , ...</td>\n",
              "      <td>the locat cave  buda castl hill  uniqu world</td>\n",
              "      <td>auf winkel flur sal hohl  buda burg zieh  ein...</td>\n",
              "    </tr>\n",
              "    <tr>\n",
              "      <th>2</th>\n",
              "      <td>1822505</td>\n",
              "      <td>descript design , outer form novelti well purp...</td>\n",
              "      <td>\\tbeschreib design , aussenform , tragbar sowi...</td>\n",
              "      <td>descript design  outer form novelti well purpo...</td>\n",
              "      <td>beschreib design  aussenform  tragbar sowi ge...</td>\n",
              "    </tr>\n",
              "    <tr>\n",
              "      <th>3</th>\n",
              "      <td>456825</td>\n",
              "      <td>mr presid , easi react emot hous react emot , ...</td>\n",
              "      <td>\\therr prasident , reagiert leicht emotion , h...</td>\n",
              "      <td>mr presid  easi react emot hous react emot  re...</td>\n",
              "      <td>herr prasident  reagiert leicht emotion  hoh ...</td>\n",
              "    </tr>\n",
              "    <tr>\n",
              "      <th>4</th>\n",
              "      <td>565445</td>\n",
              "      <td>he ask whether singl member state might reques...</td>\n",
              "      <td>\\ter wiss , einzig mitgliedstaat aussetz verla...</td>\n",
              "      <td>he ask whether singl member state might reques...</td>\n",
              "      <td>er wiss  einzig mitgliedstaat aussetz verlang...</td>\n",
              "    </tr>\n",
              "    <tr>\n",
              "      <th>...</th>\n",
              "      <td>...</td>\n",
              "      <td>...</td>\n",
              "      <td>...</td>\n",
              "      <td>...</td>\n",
              "      <td>...</td>\n",
              "    </tr>\n",
              "    <tr>\n",
              "      <th>9318</th>\n",
              "      <td>842546</td>\n",
              "      <td>if happen , immedi stop deliv kind inform us a...</td>\n",
              "      <td>\\tgeschieht nicht , muss unverzug aufhor , jeg...</td>\n",
              "      <td>if happen  immedi stop deliv kind inform us au...</td>\n",
              "      <td>geschieht nicht  muss unverzug aufhor  jeglic...</td>\n",
              "    </tr>\n",
              "    <tr>\n",
              "      <th>9319</th>\n",
              "      <td>100970</td>\n",
              "      <td>madam presid , i one oppos away friday sit .</td>\n",
              "      <td>\\tfrau prasidentin , wohl nachsag konn , befur...</td>\n",
              "      <td>madam presid  i one oppos away friday sit</td>\n",
              "      <td>frau prasidentin  wohl nachsag konn  befurwor...</td>\n",
              "    </tr>\n",
              "    <tr>\n",
              "      <th>9320</th>\n",
              "      <td>1035633</td>\n",
              "      <td>i believ report lead better monitor water qual...</td>\n",
              "      <td>\\tder vorlieg bericht sicht bess uberpruf wass...</td>\n",
              "      <td>i believ report lead better monitor water qual...</td>\n",
              "      <td>der vorlieg bericht sicht bess uberpruf wasse...</td>\n",
              "    </tr>\n",
              "    <tr>\n",
              "      <th>9321</th>\n",
              "      <td>1065551</td>\n",
              "      <td>first , commiss ensur compet author member sta...</td>\n",
              "      <td>\\terst garantiert kommission , zustand behord ...</td>\n",
              "      <td>first  commiss ensur compet author member stat...</td>\n",
              "      <td>erst garantiert kommission  zustand behord mi...</td>\n",
              "    </tr>\n",
              "    <tr>\n",
              "      <th>9322</th>\n",
              "      <td>1214360</td>\n",
              "      <td>ladi gentlemen , us act bring action line valu .</td>\n",
              "      <td>\\tmein dam herr , liegt uns , einklang wert ha...</td>\n",
              "      <td>ladi gentlemen  us act bring action line valu</td>\n",
              "      <td>mein dam herr  liegt uns  einklang wert hande...</td>\n",
              "    </tr>\n",
              "  </tbody>\n",
              "</table>\n",
              "<p>9323 rows × 5 columns</p>\n",
              "</div>\n",
              "    <div class=\"colab-df-buttons\">\n",
              "\n",
              "  <div class=\"colab-df-container\">\n",
              "    <button class=\"colab-df-convert\" onclick=\"convertToInteractive('df-42ae1ed9-891a-47f4-ab85-0bf9c4a70843')\"\n",
              "            title=\"Convert this dataframe to an interactive table.\"\n",
              "            style=\"display:none;\">\n",
              "\n",
              "  <svg xmlns=\"http://www.w3.org/2000/svg\" height=\"24px\" viewBox=\"0 -960 960 960\">\n",
              "    <path d=\"M120-120v-720h720v720H120Zm60-500h600v-160H180v160Zm220 220h160v-160H400v160Zm0 220h160v-160H400v160ZM180-400h160v-160H180v160Zm440 0h160v-160H620v160ZM180-180h160v-160H180v160Zm440 0h160v-160H620v160Z\"/>\n",
              "  </svg>\n",
              "    </button>\n",
              "\n",
              "  <style>\n",
              "    .colab-df-container {\n",
              "      display:flex;\n",
              "      gap: 12px;\n",
              "    }\n",
              "\n",
              "    .colab-df-convert {\n",
              "      background-color: #E8F0FE;\n",
              "      border: none;\n",
              "      border-radius: 50%;\n",
              "      cursor: pointer;\n",
              "      display: none;\n",
              "      fill: #1967D2;\n",
              "      height: 32px;\n",
              "      padding: 0 0 0 0;\n",
              "      width: 32px;\n",
              "    }\n",
              "\n",
              "    .colab-df-convert:hover {\n",
              "      background-color: #E2EBFA;\n",
              "      box-shadow: 0px 1px 2px rgba(60, 64, 67, 0.3), 0px 1px 3px 1px rgba(60, 64, 67, 0.15);\n",
              "      fill: #174EA6;\n",
              "    }\n",
              "\n",
              "    .colab-df-buttons div {\n",
              "      margin-bottom: 4px;\n",
              "    }\n",
              "\n",
              "    [theme=dark] .colab-df-convert {\n",
              "      background-color: #3B4455;\n",
              "      fill: #D2E3FC;\n",
              "    }\n",
              "\n",
              "    [theme=dark] .colab-df-convert:hover {\n",
              "      background-color: #434B5C;\n",
              "      box-shadow: 0px 1px 3px 1px rgba(0, 0, 0, 0.15);\n",
              "      filter: drop-shadow(0px 1px 2px rgba(0, 0, 0, 0.3));\n",
              "      fill: #FFFFFF;\n",
              "    }\n",
              "  </style>\n",
              "\n",
              "    <script>\n",
              "      const buttonEl =\n",
              "        document.querySelector('#df-42ae1ed9-891a-47f4-ab85-0bf9c4a70843 button.colab-df-convert');\n",
              "      buttonEl.style.display =\n",
              "        google.colab.kernel.accessAllowed ? 'block' : 'none';\n",
              "\n",
              "      async function convertToInteractive(key) {\n",
              "        const element = document.querySelector('#df-42ae1ed9-891a-47f4-ab85-0bf9c4a70843');\n",
              "        const dataTable =\n",
              "          await google.colab.kernel.invokeFunction('convertToInteractive',\n",
              "                                                    [key], {});\n",
              "        if (!dataTable) return;\n",
              "\n",
              "        const docLinkHtml = 'Like what you see? Visit the ' +\n",
              "          '<a target=\"_blank\" href=https://colab.research.google.com/notebooks/data_table.ipynb>data table notebook</a>'\n",
              "          + ' to learn more about interactive tables.';\n",
              "        element.innerHTML = '';\n",
              "        dataTable['output_type'] = 'display_data';\n",
              "        await google.colab.output.renderOutput(dataTable, element);\n",
              "        const docLink = document.createElement('div');\n",
              "        docLink.innerHTML = docLinkHtml;\n",
              "        element.appendChild(docLink);\n",
              "      }\n",
              "    </script>\n",
              "  </div>\n",
              "\n",
              "\n",
              "<div id=\"df-3b0c6909-8c0a-4c46-a16c-b0724aae3f77\">\n",
              "  <button class=\"colab-df-quickchart\" onclick=\"quickchart('df-3b0c6909-8c0a-4c46-a16c-b0724aae3f77')\"\n",
              "            title=\"Suggest charts\"\n",
              "            style=\"display:none;\">\n",
              "\n",
              "<svg xmlns=\"http://www.w3.org/2000/svg\" height=\"24px\"viewBox=\"0 0 24 24\"\n",
              "     width=\"24px\">\n",
              "    <g>\n",
              "        <path d=\"M19 3H5c-1.1 0-2 .9-2 2v14c0 1.1.9 2 2 2h14c1.1 0 2-.9 2-2V5c0-1.1-.9-2-2-2zM9 17H7v-7h2v7zm4 0h-2V7h2v10zm4 0h-2v-4h2v4z\"/>\n",
              "    </g>\n",
              "</svg>\n",
              "  </button>\n",
              "\n",
              "<style>\n",
              "  .colab-df-quickchart {\n",
              "      --bg-color: #E8F0FE;\n",
              "      --fill-color: #1967D2;\n",
              "      --hover-bg-color: #E2EBFA;\n",
              "      --hover-fill-color: #174EA6;\n",
              "      --disabled-fill-color: #AAA;\n",
              "      --disabled-bg-color: #DDD;\n",
              "  }\n",
              "\n",
              "  [theme=dark] .colab-df-quickchart {\n",
              "      --bg-color: #3B4455;\n",
              "      --fill-color: #D2E3FC;\n",
              "      --hover-bg-color: #434B5C;\n",
              "      --hover-fill-color: #FFFFFF;\n",
              "      --disabled-bg-color: #3B4455;\n",
              "      --disabled-fill-color: #666;\n",
              "  }\n",
              "\n",
              "  .colab-df-quickchart {\n",
              "    background-color: var(--bg-color);\n",
              "    border: none;\n",
              "    border-radius: 50%;\n",
              "    cursor: pointer;\n",
              "    display: none;\n",
              "    fill: var(--fill-color);\n",
              "    height: 32px;\n",
              "    padding: 0;\n",
              "    width: 32px;\n",
              "  }\n",
              "\n",
              "  .colab-df-quickchart:hover {\n",
              "    background-color: var(--hover-bg-color);\n",
              "    box-shadow: 0 1px 2px rgba(60, 64, 67, 0.3), 0 1px 3px 1px rgba(60, 64, 67, 0.15);\n",
              "    fill: var(--button-hover-fill-color);\n",
              "  }\n",
              "\n",
              "  .colab-df-quickchart-complete:disabled,\n",
              "  .colab-df-quickchart-complete:disabled:hover {\n",
              "    background-color: var(--disabled-bg-color);\n",
              "    fill: var(--disabled-fill-color);\n",
              "    box-shadow: none;\n",
              "  }\n",
              "\n",
              "  .colab-df-spinner {\n",
              "    border: 2px solid var(--fill-color);\n",
              "    border-color: transparent;\n",
              "    border-bottom-color: var(--fill-color);\n",
              "    animation:\n",
              "      spin 1s steps(1) infinite;\n",
              "  }\n",
              "\n",
              "  @keyframes spin {\n",
              "    0% {\n",
              "      border-color: transparent;\n",
              "      border-bottom-color: var(--fill-color);\n",
              "      border-left-color: var(--fill-color);\n",
              "    }\n",
              "    20% {\n",
              "      border-color: transparent;\n",
              "      border-left-color: var(--fill-color);\n",
              "      border-top-color: var(--fill-color);\n",
              "    }\n",
              "    30% {\n",
              "      border-color: transparent;\n",
              "      border-left-color: var(--fill-color);\n",
              "      border-top-color: var(--fill-color);\n",
              "      border-right-color: var(--fill-color);\n",
              "    }\n",
              "    40% {\n",
              "      border-color: transparent;\n",
              "      border-right-color: var(--fill-color);\n",
              "      border-top-color: var(--fill-color);\n",
              "    }\n",
              "    60% {\n",
              "      border-color: transparent;\n",
              "      border-right-color: var(--fill-color);\n",
              "    }\n",
              "    80% {\n",
              "      border-color: transparent;\n",
              "      border-right-color: var(--fill-color);\n",
              "      border-bottom-color: var(--fill-color);\n",
              "    }\n",
              "    90% {\n",
              "      border-color: transparent;\n",
              "      border-bottom-color: var(--fill-color);\n",
              "    }\n",
              "  }\n",
              "</style>\n",
              "\n",
              "  <script>\n",
              "    async function quickchart(key) {\n",
              "      const quickchartButtonEl =\n",
              "        document.querySelector('#' + key + ' button');\n",
              "      quickchartButtonEl.disabled = true;  // To prevent multiple clicks.\n",
              "      quickchartButtonEl.classList.add('colab-df-spinner');\n",
              "      try {\n",
              "        const charts = await google.colab.kernel.invokeFunction(\n",
              "            'suggestCharts', [key], {});\n",
              "      } catch (error) {\n",
              "        console.error('Error during call to suggestCharts:', error);\n",
              "      }\n",
              "      quickchartButtonEl.classList.remove('colab-df-spinner');\n",
              "      quickchartButtonEl.classList.add('colab-df-quickchart-complete');\n",
              "    }\n",
              "    (() => {\n",
              "      let quickchartButtonEl =\n",
              "        document.querySelector('#df-3b0c6909-8c0a-4c46-a16c-b0724aae3f77 button');\n",
              "      quickchartButtonEl.style.display =\n",
              "        google.colab.kernel.accessAllowed ? 'block' : 'none';\n",
              "    })();\n",
              "  </script>\n",
              "</div>\n",
              "    </div>\n",
              "  </div>\n"
            ]
          },
          "metadata": {},
          "execution_count": 9
        }
      ]
    },
    {
      "cell_type": "code",
      "source": [
        "input_characters = set()\n",
        "target_characters = set()\n",
        "input_texts = []\n",
        "target_texts = []\n"
      ],
      "metadata": {
        "id": "FlktE9GG18_Z"
      },
      "execution_count": null,
      "outputs": []
    },
    {
      "cell_type": "code",
      "source": [
        "input_texts = dfnormal[\"english_clean2\"].tolist()\n",
        "target_texts = dfnormal[\"german_clean2\"].tolist()\n"
      ],
      "metadata": {
        "id": "ECrqq9VQ2Fdv"
      },
      "execution_count": null,
      "outputs": []
    },
    {
      "cell_type": "code",
      "source": [
        "input_texts[0:5]"
      ],
      "metadata": {
        "colab": {
          "base_uri": "https://localhost:8080/"
        },
        "id": "LXkLMgUG2Rp4",
        "outputId": "1427a921-83d7-4550-f9d7-f748c5fb609c"
      },
      "execution_count": null,
      "outputs": [
        {
          "output_type": "execute_result",
          "data": {
            "text/plain": [
              "['due price dimens use polic  hospit court stationeri evidenti devic ',\n",
              " 'the locat cave  buda castl hill  uniqu world ',\n",
              " 'descript design  outer form novelti well purpos thereof ',\n",
              " 'mr presid  easi react emot hous react emot  react fact ',\n",
              " 'he ask whether singl member state might request suspens whether done onethird member state ']"
            ]
          },
          "metadata": {},
          "execution_count": 20
        }
      ]
    },
    {
      "cell_type": "code",
      "source": [
        "target_texts[0:5]"
      ],
      "metadata": {
        "colab": {
          "base_uri": "https://localhost:8080/"
        },
        "id": "3GKhUUaC0IS6",
        "outputId": "0ea3ada7-b0d8-4611-a2f6-70ad6ead5362"
      },
      "execution_count": null,
      "outputs": [
        {
          "output_type": "execute_result",
          "data": {
            "text/plain": [
              "[' weg gross preis dien ausschliess stationar evidentialgerat polizei  krankenhaus behord  ',\n",
              " ' auf winkel flur sal hohl  buda burg zieh  ein  welt einzigart lag hab  zeitreis mach  man findet romanhaft zeit ungar geschicht  ',\n",
              " ' beschreib design  aussenform  tragbar sowi gebrauch  ',\n",
              " ' herr prasident  reagiert leicht emotion  hoh haus emotion  fakt reagi  ',\n",
              " ' er wiss  einzig mitgliedstaat aussetz verlang drittel mitgliedstaat erford ist  ']"
            ]
          },
          "metadata": {},
          "execution_count": 21
        }
      ]
    },
    {
      "cell_type": "code",
      "source": [
        "for line in input_texts:\n",
        "  for char in line:\n",
        "        if char not in input_characters:\n",
        "            input_characters.add(char)"
      ],
      "metadata": {
        "id": "0drlpWMY1op5"
      },
      "execution_count": null,
      "outputs": []
    },
    {
      "cell_type": "code",
      "source": [
        "for line in target_texts:\n",
        "  for char in line:\n",
        "        if char not in target_characters:\n",
        "            target_characters.add(char)"
      ],
      "metadata": {
        "id": "KwkMxBsJ23nc"
      },
      "execution_count": null,
      "outputs": []
    },
    {
      "cell_type": "code",
      "source": [
        "input_characters = sorted(list(input_characters))\n",
        "target_characters = sorted(list(target_characters))\n",
        "num_encoder_tokens = len(input_characters)\n",
        "num_decoder_tokens = len(target_characters)\n",
        "max_encoder_seq_length = max([len(txt) for txt in input_texts])\n",
        "max_decoder_seq_length = max([len(txt) for txt in target_texts])\n",
        "print(\"Number of samples:\", len(input_texts))\n",
        "print(\"Number of unique input tokens:\", num_encoder_tokens)\n",
        "print(\"Number of unique output tokens:\", num_decoder_tokens)\n",
        "print(\"Max sequence length for inputs:\", max_encoder_seq_length)\n",
        "print(\"Max sequence length for outputs:\", max_decoder_seq_length)"
      ],
      "metadata": {
        "colab": {
          "base_uri": "https://localhost:8080/"
        },
        "id": "CLdpG0B73cqk",
        "outputId": "76f1e3f8-04e0-474d-f820-e873157fc183"
      },
      "execution_count": null,
      "outputs": [
        {
          "output_type": "stream",
          "name": "stdout",
          "text": [
            "Number of samples: 9323\n",
            "Number of unique input tokens: 108\n",
            "Number of unique output tokens: 104\n",
            "Max sequence length for inputs: 207\n",
            "Max sequence length for outputs: 484\n"
          ]
        }
      ]
    },
    {
      "cell_type": "code",
      "source": [
        "input_characters"
      ],
      "metadata": {
        "colab": {
          "base_uri": "https://localhost:8080/"
        },
        "id": "qsgNm3_UzrGu",
        "outputId": "7014ccec-6c96-4efb-e985-6a197c2d7601"
      },
      "execution_count": null,
      "outputs": [
        {
          "output_type": "execute_result",
          "data": {
            "text/plain": [
              "[' ',\n",
              " '_',\n",
              " 'a',\n",
              " 'b',\n",
              " 'c',\n",
              " 'd',\n",
              " 'e',\n",
              " 'f',\n",
              " 'g',\n",
              " 'h',\n",
              " 'i',\n",
              " 'j',\n",
              " 'k',\n",
              " 'l',\n",
              " 'm',\n",
              " 'n',\n",
              " 'o',\n",
              " 'p',\n",
              " 'q',\n",
              " 'r',\n",
              " 's',\n",
              " 't',\n",
              " 'u',\n",
              " 'v',\n",
              " 'w',\n",
              " 'x',\n",
              " 'y',\n",
              " 'z',\n",
              " 'º',\n",
              " 'ß',\n",
              " 'à',\n",
              " 'á',\n",
              " 'â',\n",
              " 'ä',\n",
              " 'å',\n",
              " 'æ',\n",
              " 'ç',\n",
              " 'è',\n",
              " 'é',\n",
              " 'ê',\n",
              " 'ë',\n",
              " 'í',\n",
              " 'ï',\n",
              " 'ñ',\n",
              " 'ò',\n",
              " 'ó',\n",
              " 'ô',\n",
              " 'ö',\n",
              " 'ø',\n",
              " 'ù',\n",
              " 'ú',\n",
              " 'ü',\n",
              " 'ý',\n",
              " 'ā',\n",
              " 'ă',\n",
              " 'ć',\n",
              " 'č',\n",
              " 'ė',\n",
              " 'ę',\n",
              " 'ě',\n",
              " 'ğ',\n",
              " 'ı',\n",
              " 'ł',\n",
              " 'ń',\n",
              " 'ň',\n",
              " 'ő',\n",
              " 'ř',\n",
              " 'ş',\n",
              " 'š',\n",
              " 'ţ',\n",
              " 'ž',\n",
              " 'ί',\n",
              " 'α',\n",
              " 'β',\n",
              " 'γ',\n",
              " 'ε',\n",
              " 'ι',\n",
              " 'κ',\n",
              " 'λ',\n",
              " 'ν',\n",
              " 'ρ',\n",
              " 'τ',\n",
              " 'а',\n",
              " 'в',\n",
              " 'г',\n",
              " 'д',\n",
              " 'е',\n",
              " 'з',\n",
              " 'и',\n",
              " 'й',\n",
              " 'к',\n",
              " 'н',\n",
              " 'о',\n",
              " 'р',\n",
              " 'с',\n",
              " 'т',\n",
              " 'ц',\n",
              " 'ч',\n",
              " 'ы',\n",
              " 'я',\n",
              " 'ђ',\n",
              " 'і',\n",
              " '三',\n",
              " '保',\n",
              " '持',\n",
              " '歩',\n",
              " '馬',\n",
              " 'ﬁ']"
            ]
          },
          "metadata": {},
          "execution_count": 15
        }
      ]
    },
    {
      "cell_type": "markdown",
      "source": [
        "### Tokenizing and Vectorizing the Text"
      ],
      "metadata": {
        "id": "bOdaYoH04Hiw"
      }
    },
    {
      "cell_type": "code",
      "source": [
        "input_token_index = dict([(char, i) for i, char in enumerate(input_characters)])\n",
        "target_token_index = dict([(char, i) for i, char in enumerate(target_characters)])"
      ],
      "metadata": {
        "id": "CNQUPi-U4KYB"
      },
      "execution_count": null,
      "outputs": []
    },
    {
      "cell_type": "code",
      "source": [
        "encoder_input_data = np.zeros(\n",
        "    (len(input_texts), max_encoder_seq_length, num_encoder_tokens), dtype=\"float32\"\n",
        ")\n",
        "decoder_input_data = np.zeros(\n",
        "    (len(input_texts), max_decoder_seq_length, num_decoder_tokens), dtype=\"float32\"\n",
        ")\n",
        "decoder_target_data = np.zeros(\n",
        "    (len(input_texts), max_decoder_seq_length, num_decoder_tokens), dtype=\"float32\"\n",
        ")\n",
        "\n",
        "# Populating the arrays\n",
        "for i, (input_text, target_text) in enumerate(zip(input_texts, target_texts)):\n",
        "    for t, char in enumerate(input_text):\n",
        "        encoder_input_data[i, t, input_token_index[char]] = 1.0\n",
        "    encoder_input_data[i, t + 1 :, input_token_index[\" \"]] = 1.0 # From (t + 1)th time step, all characters are padded with a blank space character\n",
        "    for t, char in enumerate(target_text):\n",
        "        # decoder_target_data is ahead of decoder_input_data by one timestep\n",
        "        decoder_input_data[i, t, target_token_index[char]] = 1.0\n",
        "        if t > 0:\n",
        "            # decoder_target_data will be ahead by one timestep\n",
        "            # and will not include the start character.\n",
        "            decoder_target_data[i, t - 1, target_token_index[char]] = 1.0\n",
        "    decoder_input_data[i, t + 1 :, target_token_index[\" \"]] = 1.0\n",
        "    decoder_target_data[i, t:, target_token_index[\" \"]] = 1.0"
      ],
      "metadata": {
        "id": "JjYK7qao4dEj"
      },
      "execution_count": null,
      "outputs": []
    },
    {
      "cell_type": "code",
      "source": [
        "decoder_input_data.shape"
      ],
      "metadata": {
        "colab": {
          "base_uri": "https://localhost:8080/"
        },
        "id": "YTSWiU_64n7R",
        "outputId": "64f9a3ea-1e03-498b-9d88-f5fe0703f3d5"
      },
      "execution_count": null,
      "outputs": [
        {
          "output_type": "execute_result",
          "data": {
            "text/plain": [
              "(9323, 484, 104)"
            ]
          },
          "metadata": {},
          "execution_count": 18
        }
      ]
    },
    {
      "cell_type": "code",
      "source": [
        "decoder_target_data.shape"
      ],
      "metadata": {
        "colab": {
          "base_uri": "https://localhost:8080/"
        },
        "id": "Jdne4slq4scP",
        "outputId": "a10fa2ee-8e83-4715-b084-95ac088d04eb"
      },
      "execution_count": null,
      "outputs": [
        {
          "output_type": "execute_result",
          "data": {
            "text/plain": [
              "(9323, 484, 104)"
            ]
          },
          "metadata": {},
          "execution_count": 18
        }
      ]
    },
    {
      "cell_type": "markdown",
      "source": [
        "## **Building the Model**"
      ],
      "metadata": {
        "id": "2r-iY1uO5ONs"
      }
    },
    {
      "cell_type": "code",
      "source": [
        "import tensorflow as tf\n",
        "from tensorflow import keras"
      ],
      "metadata": {
        "id": "h7FrlJJSbxeh"
      },
      "execution_count": null,
      "outputs": []
    },
    {
      "cell_type": "markdown",
      "source": [
        "## Parameters"
      ],
      "metadata": {
        "id": "9ONfGpmVcABr"
      }
    },
    {
      "cell_type": "code",
      "source": [
        "batch_size = 64  # Batch size for training.\n",
        "epochs = 50  # Number of epochs to train for.\n",
        "latent_dim = 256"
      ],
      "metadata": {
        "id": "ZEUU_6Ctb_Uc"
      },
      "execution_count": null,
      "outputs": []
    },
    {
      "cell_type": "code",
      "source": [
        "encoder_inputs = keras.Input(shape=(None, num_encoder_tokens))\n",
        "encoder = keras.layers.LSTM(latent_dim, return_state=True)\n",
        "encoder_outputs, state_h, state_c = encoder(encoder_inputs)\n",
        "\n",
        "# We discard `encoder_outputs` and only keep the states.\n",
        "encoder_states = [state_h, state_c]\n",
        "\n",
        "# Set up the decoder, using `encoder_states` as initial state.\n",
        "decoder_inputs = keras.Input(shape=(None, num_decoder_tokens))\n",
        "\n",
        "# We set up our decoder to return full output sequences,\n",
        "# and to return internal states as well. We don't use the\n",
        "# return states in the training model, but we will use them in inference.\n",
        "decoder_lstm = keras.layers.LSTM(latent_dim, return_sequences=True, return_state=True)\n",
        "decoder_outputs, _, _ = decoder_lstm(decoder_inputs, initial_state=encoder_states)\n",
        "decoder_dense = keras.layers.Dense(num_decoder_tokens, activation=\"softmax\")\n",
        "decoder_outputs = decoder_dense(decoder_outputs)\n",
        "\n",
        "# Define the model that will turn\n",
        "# `encoder_input_data` & `decoder_input_data` into `decoder_target_data`\n",
        "model = keras.Model([encoder_inputs, decoder_inputs], decoder_outputs)"
      ],
      "metadata": {
        "id": "_1-dw5X4bq39"
      },
      "execution_count": null,
      "outputs": []
    },
    {
      "cell_type": "code",
      "source": [
        "from tensorflow.keras import backend,losses,optimizers\n",
        "backend.clear_session()\n",
        "np.random.seed(42)\n",
        "import random\n",
        "random.seed(42)\n",
        "tf.random.set_seed(42)"
      ],
      "metadata": {
        "id": "gqOYKOq5B668"
      },
      "execution_count": null,
      "outputs": []
    },
    {
      "cell_type": "code",
      "source": [
        "from tensorflow.keras.utils import plot_model\n",
        "plot_model(model, to_file='model1.png', show_shapes=True)"
      ],
      "metadata": {
        "colab": {
          "base_uri": "https://localhost:8080/",
          "height": 422
        },
        "id": "2brKHB3pcDzP",
        "outputId": "a6ed4093-85aa-430c-ee07-dbcb0a364383"
      },
      "execution_count": null,
      "outputs": [
        {
          "output_type": "execute_result",
          "data": {
            "image/png": "[encoded data removed]",
            "text/plain": [
              "<IPython.core.display.Image object>"
            ]
          },
          "metadata": {},
          "execution_count": 23
        }
      ]
    },
    {
      "cell_type": "markdown",
      "source": [
        "### Model training"
      ],
      "metadata": {
        "id": "f5Vh4nXCcObV"
      }
    },
    {
      "cell_type": "code",
      "source": [
        "model.compile(optimizer='rmsprop', loss='categorical_crossentropy', metrics = [\"accuracy\"])\n",
        "model.fit([encoder_input_data, decoder_input_data], decoder_target_data,\n",
        "          batch_size=batch_size,\n",
        "          epochs=epochs,\n",
        "          validation_split=0.2)"
      ],
      "metadata": {
        "colab": {
          "base_uri": "https://localhost:8080/"
        },
        "id": "iyOYVRu5cQ-q",
        "outputId": "9e29c8eb-17ad-4fb5-d0cc-766637795c2b"
      },
      "execution_count": null,
      "outputs": [
        {
          "output_type": "stream",
          "name": "stdout",
          "text": [
            "Epoch 1/50\n",
            "117/117 [==============================] - 16s 70ms/step - loss: 0.9636 - accuracy: 0.8302 - val_loss: 0.6655 - val_accuracy: 0.8392\n",
            "Epoch 2/50\n",
            "117/117 [==============================] - 6s 48ms/step - loss: 0.6479 - accuracy: 0.8385 - val_loss: 0.6306 - val_accuracy: 0.8398\n",
            "Epoch 3/50\n",
            "117/117 [==============================] - 6s 48ms/step - loss: 0.5942 - accuracy: 0.8392 - val_loss: 0.5617 - val_accuracy: 0.8402\n",
            "Epoch 4/50\n",
            "117/117 [==============================] - 5s 47ms/step - loss: 0.5546 - accuracy: 0.8402 - val_loss: 0.5473 - val_accuracy: 0.8426\n",
            "Epoch 5/50\n",
            "117/117 [==============================] - 6s 47ms/step - loss: 0.5375 - accuracy: 0.8459 - val_loss: 0.5248 - val_accuracy: 0.8502\n",
            "Epoch 6/50\n",
            "117/117 [==============================] - 6s 47ms/step - loss: 0.5134 - accuracy: 0.8570 - val_loss: 0.4974 - val_accuracy: 0.8596\n",
            "Epoch 7/50\n",
            "117/117 [==============================] - 5s 47ms/step - loss: 0.4868 - accuracy: 0.8606 - val_loss: 0.4795 - val_accuracy: 0.8623\n",
            "Epoch 8/50\n",
            "117/117 [==============================] - 6s 48ms/step - loss: 0.4714 - accuracy: 0.8629 - val_loss: 0.4657 - val_accuracy: 0.8636\n",
            "Epoch 9/50\n",
            "117/117 [==============================] - 5s 47ms/step - loss: 0.4613 - accuracy: 0.8654 - val_loss: 0.4587 - val_accuracy: 0.8655\n",
            "Epoch 10/50\n",
            "117/117 [==============================] - 5s 47ms/step - loss: 0.4536 - accuracy: 0.8672 - val_loss: 0.4516 - val_accuracy: 0.8678\n",
            "Epoch 11/50\n",
            "117/117 [==============================] - 6s 47ms/step - loss: 0.4473 - accuracy: 0.8685 - val_loss: 0.4485 - val_accuracy: 0.8681\n",
            "Epoch 12/50\n",
            "117/117 [==============================] - 6s 47ms/step - loss: 0.4420 - accuracy: 0.8696 - val_loss: 0.4423 - val_accuracy: 0.8694\n",
            "Epoch 13/50\n",
            "117/117 [==============================] - 6s 48ms/step - loss: 0.4375 - accuracy: 0.8706 - val_loss: 0.4406 - val_accuracy: 0.8695\n",
            "Epoch 14/50\n",
            "117/117 [==============================] - 6s 48ms/step - loss: 0.4333 - accuracy: 0.8719 - val_loss: 0.4333 - val_accuracy: 0.8719\n",
            "Epoch 15/50\n",
            "117/117 [==============================] - 6s 47ms/step - loss: 0.4296 - accuracy: 0.8731 - val_loss: 0.4325 - val_accuracy: 0.8720\n",
            "Epoch 16/50\n",
            "117/117 [==============================] - 6s 48ms/step - loss: 0.4263 - accuracy: 0.8739 - val_loss: 0.4252 - val_accuracy: 0.8748\n",
            "Epoch 17/50\n",
            "117/117 [==============================] - 5s 47ms/step - loss: 0.4229 - accuracy: 0.8751 - val_loss: 0.4257 - val_accuracy: 0.8739\n",
            "Epoch 18/50\n",
            "117/117 [==============================] - 6s 48ms/step - loss: 0.4201 - accuracy: 0.8759 - val_loss: 0.4225 - val_accuracy: 0.8751\n",
            "Epoch 19/50\n",
            "117/117 [==============================] - 6s 47ms/step - loss: 0.4171 - accuracy: 0.8768 - val_loss: 0.4188 - val_accuracy: 0.8764\n",
            "Epoch 20/50\n",
            "117/117 [==============================] - 6s 47ms/step - loss: 0.4143 - accuracy: 0.8777 - val_loss: 0.4136 - val_accuracy: 0.8782\n",
            "Epoch 21/50\n",
            "117/117 [==============================] - 5s 47ms/step - loss: 0.4116 - accuracy: 0.8786 - val_loss: 0.4136 - val_accuracy: 0.8780\n",
            "Epoch 22/50\n",
            "117/117 [==============================] - 5s 47ms/step - loss: 0.4085 - accuracy: 0.8796 - val_loss: 0.4125 - val_accuracy: 0.8777\n",
            "Epoch 23/50\n",
            "117/117 [==============================] - 6s 48ms/step - loss: 0.4061 - accuracy: 0.8804 - val_loss: 0.4067 - val_accuracy: 0.8802\n",
            "Epoch 24/50\n",
            "117/117 [==============================] - 6s 47ms/step - loss: 0.4034 - accuracy: 0.8812 - val_loss: 0.4069 - val_accuracy: 0.8799\n",
            "Epoch 25/50\n",
            "117/117 [==============================] - 6s 47ms/step - loss: 0.4009 - accuracy: 0.8820 - val_loss: 0.4014 - val_accuracy: 0.8819\n",
            "Epoch 26/50\n",
            "117/117 [==============================] - 6s 48ms/step - loss: 0.3984 - accuracy: 0.8828 - val_loss: 0.4005 - val_accuracy: 0.8822\n",
            "Epoch 27/50\n",
            "117/117 [==============================] - 5s 47ms/step - loss: 0.3961 - accuracy: 0.8835 - val_loss: 0.3992 - val_accuracy: 0.8827\n",
            "Epoch 28/50\n",
            "117/117 [==============================] - 6s 48ms/step - loss: 0.3936 - accuracy: 0.8844 - val_loss: 0.3979 - val_accuracy: 0.8830\n",
            "Epoch 29/50\n",
            "117/117 [==============================] - 6s 47ms/step - loss: 0.3912 - accuracy: 0.8852 - val_loss: 0.3938 - val_accuracy: 0.8847\n",
            "Epoch 30/50\n",
            "117/117 [==============================] - 6s 47ms/step - loss: 0.3891 - accuracy: 0.8857 - val_loss: 0.3935 - val_accuracy: 0.8842\n",
            "Epoch 31/50\n",
            "117/117 [==============================] - 6s 47ms/step - loss: 0.3868 - accuracy: 0.8865 - val_loss: 0.3890 - val_accuracy: 0.8860\n",
            "Epoch 32/50\n",
            "117/117 [==============================] - 5s 47ms/step - loss: 0.3847 - accuracy: 0.8873 - val_loss: 0.3874 - val_accuracy: 0.8865\n",
            "Epoch 33/50\n",
            "117/117 [==============================] - 6s 48ms/step - loss: 0.3827 - accuracy: 0.8879 - val_loss: 0.3842 - val_accuracy: 0.8876\n",
            "Epoch 34/50\n",
            "117/117 [==============================] - 6s 47ms/step - loss: 0.3805 - accuracy: 0.8886 - val_loss: 0.3843 - val_accuracy: 0.8875\n",
            "Epoch 35/50\n",
            "117/117 [==============================] - 6s 48ms/step - loss: 0.3786 - accuracy: 0.8892 - val_loss: 0.3816 - val_accuracy: 0.8887\n",
            "Epoch 36/50\n",
            "117/117 [==============================] - 6s 47ms/step - loss: 0.3767 - accuracy: 0.8898 - val_loss: 0.3790 - val_accuracy: 0.8894\n",
            "Epoch 37/50\n",
            "117/117 [==============================] - 6s 47ms/step - loss: 0.3749 - accuracy: 0.8903 - val_loss: 0.3810 - val_accuracy: 0.8882\n",
            "Epoch 38/50\n",
            "117/117 [==============================] - 6s 47ms/step - loss: 0.3730 - accuracy: 0.8911 - val_loss: 0.3775 - val_accuracy: 0.8899\n",
            "Epoch 39/50\n",
            "117/117 [==============================] - 6s 48ms/step - loss: 0.3713 - accuracy: 0.8915 - val_loss: 0.3771 - val_accuracy: 0.8901\n",
            "Epoch 40/50\n",
            "117/117 [==============================] - 6s 47ms/step - loss: 0.3695 - accuracy: 0.8920 - val_loss: 0.3728 - val_accuracy: 0.8915\n",
            "Epoch 41/50\n",
            "117/117 [==============================] - 6s 47ms/step - loss: 0.3680 - accuracy: 0.8926 - val_loss: 0.3720 - val_accuracy: 0.8916\n",
            "Epoch 42/50\n",
            "117/117 [==============================] - 5s 47ms/step - loss: 0.3662 - accuracy: 0.8931 - val_loss: 0.3713 - val_accuracy: 0.8918\n",
            "Epoch 43/50\n",
            "117/117 [==============================] - 6s 47ms/step - loss: 0.3647 - accuracy: 0.8936 - val_loss: 0.3698 - val_accuracy: 0.8925\n",
            "Epoch 44/50\n",
            "117/117 [==============================] - 6s 48ms/step - loss: 0.3630 - accuracy: 0.8941 - val_loss: 0.3663 - val_accuracy: 0.8935\n",
            "Epoch 45/50\n",
            "117/117 [==============================] - 6s 47ms/step - loss: 0.3616 - accuracy: 0.8946 - val_loss: 0.3658 - val_accuracy: 0.8935\n",
            "Epoch 46/50\n",
            "117/117 [==============================] - 6s 47ms/step - loss: 0.3600 - accuracy: 0.8951 - val_loss: 0.3667 - val_accuracy: 0.8930\n",
            "Epoch 47/50\n",
            "117/117 [==============================] - 6s 47ms/step - loss: 0.3586 - accuracy: 0.8955 - val_loss: 0.3650 - val_accuracy: 0.8944\n",
            "Epoch 48/50\n",
            "117/117 [==============================] - 6s 47ms/step - loss: 0.3573 - accuracy: 0.8959 - val_loss: 0.3630 - val_accuracy: 0.8946\n",
            "Epoch 49/50\n",
            "117/117 [==============================] - 6s 48ms/step - loss: 0.3556 - accuracy: 0.8965 - val_loss: 0.3612 - val_accuracy: 0.8948\n",
            "Epoch 50/50\n",
            "117/117 [==============================] - 5s 47ms/step - loss: 0.3544 - accuracy: 0.8969 - val_loss: 0.3593 - val_accuracy: 0.8956\n"
          ]
        },
        {
          "output_type": "execute_result",
          "data": {
            "text/plain": [
              "<keras.src.callbacks.History at 0x7af1bc57c4c0>"
            ]
          },
          "metadata": {},
          "execution_count": 24
        }
      ]
    },
    {
      "cell_type": "markdown",
      "source": [
        "## Inference"
      ],
      "metadata": {
        "id": "RNmWUJiidp1S"
      }
    },
    {
      "cell_type": "code",
      "source": [
        "from tensorflow.keras.models import Model\n",
        "from keras.layers import Input, LSTM, Dense"
      ],
      "metadata": {
        "id": "MBvNWngKga0L"
      },
      "execution_count": null,
      "outputs": []
    },
    {
      "cell_type": "code",
      "source": [
        "# Manually deriving the decoder states and decoder outputs so that we can reuse decoder outputs as inputs for next step\n",
        "encoder_model = Model(encoder_inputs, encoder_states)\n",
        "\n",
        "decoder_state_input_h = Input(shape=(latent_dim,))\n",
        "decoder_state_input_c = Input(shape=(latent_dim,))\n",
        "decoder_states_inputs = [decoder_state_input_h, decoder_state_input_c]\n",
        "decoder_outputs, state_h, state_c = decoder_lstm(\n",
        "    decoder_inputs, initial_state=decoder_states_inputs)\n",
        "decoder_states = [state_h, state_c]\n",
        "decoder_outputs = decoder_dense(decoder_outputs)\n",
        "decoder_model = Model(\n",
        "    [decoder_inputs] + decoder_states_inputs,\n",
        "    [decoder_outputs] + decoder_states)"
      ],
      "metadata": {
        "id": "bxcmFBUadsWl"
      },
      "execution_count": null,
      "outputs": []
    },
    {
      "cell_type": "code",
      "source": [
        "# Mapping between integers or indexes and characters.\n",
        "reverse_input_char_index = dict((i, char) for char, i in input_token_index.items())\n",
        "reverse_target_char_index = dict((i, char) for char, i in target_token_index.items())"
      ],
      "metadata": {
        "id": "1qktwFGRiN4s"
      },
      "execution_count": null,
      "outputs": []
    },
    {
      "cell_type": "code",
      "source": [
        "target_token_index"
      ],
      "metadata": {
        "colab": {
          "base_uri": "https://localhost:8080/"
        },
        "id": "agzJsQW6svPb",
        "outputId": "db75f705-fad8-4dd7-b773-4bb1fe439977"
      },
      "execution_count": null,
      "outputs": [
        {
          "output_type": "execute_result",
          "data": {
            "text/plain": [
              "{' ': 0,\n",
              " '_': 1,\n",
              " 'a': 2,\n",
              " 'b': 3,\n",
              " 'c': 4,\n",
              " 'd': 5,\n",
              " 'e': 6,\n",
              " 'f': 7,\n",
              " 'g': 8,\n",
              " 'h': 9,\n",
              " 'i': 10,\n",
              " 'j': 11,\n",
              " 'k': 12,\n",
              " 'l': 13,\n",
              " 'm': 14,\n",
              " 'n': 15,\n",
              " 'o': 16,\n",
              " 'p': 17,\n",
              " 'q': 18,\n",
              " 'r': 19,\n",
              " 's': 20,\n",
              " 't': 21,\n",
              " 'u': 22,\n",
              " 'v': 23,\n",
              " 'w': 24,\n",
              " 'x': 25,\n",
              " 'y': 26,\n",
              " 'z': 27,\n",
              " 'µ': 28,\n",
              " 'º': 29,\n",
              " 'à': 30,\n",
              " 'á': 31,\n",
              " 'â': 32,\n",
              " 'ã': 33,\n",
              " 'å': 34,\n",
              " 'æ': 35,\n",
              " 'ç': 36,\n",
              " 'è': 37,\n",
              " 'é': 38,\n",
              " 'ê': 39,\n",
              " 'í': 40,\n",
              " 'î': 41,\n",
              " 'ñ': 42,\n",
              " 'ò': 43,\n",
              " 'ó': 44,\n",
              " 'ô': 45,\n",
              " 'ø': 46,\n",
              " 'ù': 47,\n",
              " 'ú': 48,\n",
              " 'ý': 49,\n",
              " 'ă': 50,\n",
              " 'ć': 51,\n",
              " 'č': 52,\n",
              " 'ė': 53,\n",
              " 'ę': 54,\n",
              " 'ě': 55,\n",
              " 'ğ': 56,\n",
              " 'ı': 57,\n",
              " 'ł': 58,\n",
              " 'ń': 59,\n",
              " 'ň': 60,\n",
              " 'ō': 61,\n",
              " 'ő': 62,\n",
              " 'œ': 63,\n",
              " 'ř': 64,\n",
              " 'ş': 65,\n",
              " 'š': 66,\n",
              " 'ţ': 67,\n",
              " 'ū': 68,\n",
              " 'ž': 69,\n",
              " '̈': 70,\n",
              " 'ί': 71,\n",
              " 'α': 72,\n",
              " 'β': 73,\n",
              " 'γ': 74,\n",
              " 'ε': 75,\n",
              " 'ι': 76,\n",
              " 'κ': 77,\n",
              " 'λ': 78,\n",
              " 'ν': 79,\n",
              " 'ρ': 80,\n",
              " 'τ': 81,\n",
              " 'ϋ': 82,\n",
              " 'а': 83,\n",
              " 'в': 84,\n",
              " 'г': 85,\n",
              " 'д': 86,\n",
              " 'е': 87,\n",
              " 'з': 88,\n",
              " 'и': 89,\n",
              " 'й': 90,\n",
              " 'к': 91,\n",
              " 'н': 92,\n",
              " 'р': 93,\n",
              " 'с': 94,\n",
              " 'т': 95,\n",
              " 'ц': 96,\n",
              " 'ч': 97,\n",
              " 'ы': 98,\n",
              " 'я': 99,\n",
              " 'ђ': 100,\n",
              " 'ј': 101,\n",
              " '持': 102,\n",
              " '歩': 103}"
            ]
          },
          "metadata": {},
          "execution_count": 30
        }
      ]
    },
    {
      "cell_type": "code",
      "source": [
        "# decoding the output sentence from output tokenized data\n",
        "def decode_sequence(input_seq):\n",
        "    # Encode the input as state vectors.\n",
        "    states_value = encoder_model.predict(input_seq)\n",
        "\n",
        "    # Generate empty target sequence of length 1.\n",
        "    target_seq = np.zeros((1, 1, num_decoder_tokens))\n",
        "    # character of target sequence with the start character.\n",
        "    target_seq[0, 0, 0] = 1.0\n",
        "    #target_token_index[\"\\t\"]\n",
        "    # Sampling loop for a batch of sequences\n",
        "    # (to simplify, here we assume a batch of size 1).\n",
        "    stop_condition = False\n",
        "    decoded_sentence = \"\"\n",
        "    i=0\n",
        "    while not stop_condition:\n",
        "        output_tokens, h, c = decoder_model.predict([target_seq] + states_value)\n",
        "        i=i+1\n",
        "        # Sample a token\n",
        "        sampled_token_index = np.argmax(output_tokens[0, -1, :])\n",
        "        sampled_char = reverse_target_char_index[sampled_token_index]\n",
        "        decoded_sentence += sampled_char\n",
        "        #print(decoded_sentence)\n",
        "\n",
        "        # Exit condition: either hit max length\n",
        "        # or find stop character.\n",
        "        if sampled_char == \"\\n\" or len(decoded_sentence) > max_decoder_seq_length or i==100:\n",
        "            stop_condition = True\n",
        "\n",
        "        # Update the target sequence (of length 1).\n",
        "        target_seq = np.zeros((1, 1, num_decoder_tokens))\n",
        "        target_seq[0, 0, sampled_token_index] = 1.0\n",
        "\n",
        "        # Update states\n",
        "        states_value = [h, c]\n",
        "    return decoded_sentence"
      ],
      "metadata": {
        "id": "Q0l0H6r0iQSp"
      },
      "execution_count": null,
      "outputs": []
    },
    {
      "cell_type": "code",
      "source": [
        "print(input_texts[0])\n",
        "print(target_texts[0])"
      ],
      "metadata": {
        "colab": {
          "base_uri": "https://localhost:8080/"
        },
        "id": "6HQ_SVEm7xfm",
        "outputId": "d588e251-8caf-44b0-d7bc-dd4cbdc2a804"
      },
      "execution_count": null,
      "outputs": [
        {
          "output_type": "stream",
          "name": "stdout",
          "text": [
            "due price dimens use polic  hospit court stationeri evidenti devic \n",
            " weg gross preis dien ausschliess stationar evidentialgerat polizei  krankenhaus behord  \n"
          ]
        }
      ]
    },
    {
      "cell_type": "code",
      "source": [
        "translate_dict = {}\n",
        "\n",
        "for seq_index in range(5):\n",
        "    # Take one sequence (part of the training set)\n",
        "    # for trying out decoding.\n",
        "    input_seq = encoder_input_data[seq_index : seq_index + 1]\n",
        "    decoded_sentence = decode_sequence(input_seq)\n",
        "    translate_dict[input_texts[seq_index]] = decoded_sentence\n",
        "    #print(\"Input sentence:\", input_texts[seq_index])\n",
        "    #print(\"Decoded sentence:\", decoded_sentence)"
      ],
      "metadata": {
        "colab": {
          "base_uri": "https://localhost:8080/"
        },
        "id": "ydnWLAEYik7K",
        "outputId": "0f86fe37-8762-4bb8-cb00-5f21d5276e19"
      },
      "execution_count": null,
      "outputs": [
        {
          "output_type": "stream",
          "name": "stdout",
          "text": [
            "1/1 [==============================] - 0s 21ms/step\n",
            "1/1 [==============================] - 0s 21ms/step\n",
            "1/1 [==============================] - 0s 21ms/step\n",
            "1/1 [==============================] - 0s 22ms/step\n",
            "1/1 [==============================] - 0s 29ms/step\n",
            "1/1 [==============================] - 0s 33ms/step\n",
            "1/1 [==============================] - 0s 34ms/step\n",
            "1/1 [==============================] - 0s 22ms/step\n",
            "1/1 [==============================] - 0s 21ms/step\n",
            "1/1 [==============================] - 0s 20ms/step\n",
            "1/1 [==============================] - 0s 20ms/step\n",
            "1/1 [==============================] - 0s 21ms/step\n",
            "1/1 [==============================] - 0s 21ms/step\n",
            "1/1 [==============================] - 0s 23ms/step\n",
            "1/1 [==============================] - 0s 22ms/step\n",
            "1/1 [==============================] - 0s 23ms/step\n",
            "1/1 [==============================] - 0s 31ms/step\n",
            "1/1 [==============================] - 0s 29ms/step\n",
            "1/1 [==============================] - 0s 22ms/step\n",
            "1/1 [==============================] - 0s 21ms/step\n",
            "1/1 [==============================] - 0s 21ms/step\n",
            "1/1 [==============================] - 0s 22ms/step\n",
            "1/1 [==============================] - 0s 21ms/step\n",
            "1/1 [==============================] - 0s 20ms/step\n",
            "1/1 [==============================] - 0s 22ms/step\n",
            "1/1 [==============================] - 0s 22ms/step\n",
            "1/1 [==============================] - 0s 22ms/step\n",
            "1/1 [==============================] - 0s 21ms/step\n",
            "1/1 [==============================] - 0s 22ms/step\n",
            "1/1 [==============================] - 0s 22ms/step\n",
            "1/1 [==============================] - 0s 21ms/step\n",
            "1/1 [==============================] - 0s 20ms/step\n",
            "1/1 [==============================] - 0s 21ms/step\n",
            "1/1 [==============================] - 0s 21ms/step\n",
            "1/1 [==============================] - 0s 20ms/step\n",
            "1/1 [==============================] - 0s 23ms/step\n",
            "1/1 [==============================] - 0s 21ms/step\n",
            "1/1 [==============================] - 0s 22ms/step\n",
            "1/1 [==============================] - 0s 21ms/step\n",
            "1/1 [==============================] - 0s 21ms/step\n",
            "1/1 [==============================] - 0s 20ms/step\n",
            "1/1 [==============================] - 0s 21ms/step\n",
            "1/1 [==============================] - 0s 21ms/step\n",
            "1/1 [==============================] - 0s 22ms/step\n",
            "1/1 [==============================] - 0s 22ms/step\n",
            "1/1 [==============================] - 0s 22ms/step\n",
            "1/1 [==============================] - 0s 21ms/step\n",
            "1/1 [==============================] - 0s 21ms/step\n",
            "1/1 [==============================] - 0s 22ms/step\n",
            "1/1 [==============================] - 0s 21ms/step\n",
            "1/1 [==============================] - 0s 21ms/step\n",
            "1/1 [==============================] - 0s 21ms/step\n",
            "1/1 [==============================] - 0s 21ms/step\n",
            "1/1 [==============================] - 0s 21ms/step\n",
            "1/1 [==============================] - 0s 20ms/step\n",
            "1/1 [==============================] - 0s 20ms/step\n",
            "1/1 [==============================] - 0s 21ms/step\n",
            "1/1 [==============================] - 0s 21ms/step\n",
            "1/1 [==============================] - 0s 21ms/step\n",
            "1/1 [==============================] - 0s 21ms/step\n",
            "1/1 [==============================] - 0s 21ms/step\n",
            "1/1 [==============================] - 0s 22ms/step\n",
            "1/1 [==============================] - 0s 21ms/step\n",
            "1/1 [==============================] - 0s 20ms/step\n",
            "1/1 [==============================] - 0s 21ms/step\n",
            "1/1 [==============================] - 0s 20ms/step\n",
            "1/1 [==============================] - 0s 21ms/step\n",
            "1/1 [==============================] - 0s 21ms/step\n",
            "1/1 [==============================] - 0s 21ms/step\n",
            "1/1 [==============================] - 0s 21ms/step\n",
            "1/1 [==============================] - 0s 22ms/step\n",
            "1/1 [==============================] - 0s 22ms/step\n",
            "1/1 [==============================] - 0s 21ms/step\n",
            "1/1 [==============================] - 0s 20ms/step\n",
            "1/1 [==============================] - 0s 21ms/step\n",
            "1/1 [==============================] - 0s 20ms/step\n",
            "1/1 [==============================] - 0s 22ms/step\n",
            "1/1 [==============================] - 0s 21ms/step\n",
            "1/1 [==============================] - 0s 21ms/step\n",
            "1/1 [==============================] - 0s 22ms/step\n",
            "1/1 [==============================] - 0s 22ms/step\n",
            "1/1 [==============================] - 0s 21ms/step\n",
            "1/1 [==============================] - 0s 22ms/step\n",
            "1/1 [==============================] - 0s 22ms/step\n",
            "1/1 [==============================] - 0s 21ms/step\n",
            "1/1 [==============================] - 0s 22ms/step\n",
            "1/1 [==============================] - 0s 21ms/step\n",
            "1/1 [==============================] - 0s 21ms/step\n",
            "1/1 [==============================] - 0s 22ms/step\n",
            "1/1 [==============================] - 0s 22ms/step\n",
            "1/1 [==============================] - 0s 22ms/step\n",
            "1/1 [==============================] - 0s 22ms/step\n",
            "1/1 [==============================] - 0s 21ms/step\n",
            "1/1 [==============================] - 0s 21ms/step\n",
            "1/1 [==============================] - 0s 22ms/step\n",
            "1/1 [==============================] - 0s 21ms/step\n",
            "1/1 [==============================] - 0s 22ms/step\n",
            "1/1 [==============================] - 0s 23ms/step\n",
            "1/1 [==============================] - 0s 22ms/step\n",
            "1/1 [==============================] - 0s 21ms/step\n",
            "1/1 [==============================] - 0s 21ms/step\n",
            "1/1 [==============================] - 0s 21ms/step\n",
            "1/1 [==============================] - 0s 21ms/step\n",
            "1/1 [==============================] - 0s 21ms/step\n",
            "1/1 [==============================] - 0s 20ms/step\n",
            "1/1 [==============================] - 0s 21ms/step\n",
            "1/1 [==============================] - 0s 22ms/step\n",
            "1/1 [==============================] - 0s 26ms/step\n",
            "1/1 [==============================] - 0s 23ms/step\n",
            "1/1 [==============================] - 0s 23ms/step\n",
            "1/1 [==============================] - 0s 25ms/step\n",
            "1/1 [==============================] - 0s 23ms/step\n",
            "1/1 [==============================] - 0s 24ms/step\n",
            "1/1 [==============================] - 0s 23ms/step\n",
            "1/1 [==============================] - 0s 23ms/step\n",
            "1/1 [==============================] - 0s 23ms/step\n",
            "1/1 [==============================] - 0s 25ms/step\n",
            "1/1 [==============================] - 0s 24ms/step\n",
            "1/1 [==============================] - 0s 23ms/step\n",
            "1/1 [==============================] - 0s 23ms/step\n",
            "1/1 [==============================] - 0s 24ms/step\n",
            "1/1 [==============================] - 0s 23ms/step\n",
            "1/1 [==============================] - 0s 24ms/step\n",
            "1/1 [==============================] - 0s 23ms/step\n",
            "1/1 [==============================] - 0s 23ms/step\n",
            "1/1 [==============================] - 0s 24ms/step\n",
            "1/1 [==============================] - 0s 25ms/step\n",
            "1/1 [==============================] - 0s 24ms/step\n",
            "1/1 [==============================] - 0s 23ms/step\n",
            "1/1 [==============================] - 0s 23ms/step\n",
            "1/1 [==============================] - 0s 25ms/step\n",
            "1/1 [==============================] - 0s 24ms/step\n",
            "1/1 [==============================] - 0s 25ms/step\n",
            "1/1 [==============================] - 0s 25ms/step\n",
            "1/1 [==============================] - 0s 25ms/step\n",
            "1/1 [==============================] - 0s 25ms/step\n",
            "1/1 [==============================] - 0s 24ms/step\n",
            "1/1 [==============================] - 0s 24ms/step\n",
            "1/1 [==============================] - 0s 24ms/step\n",
            "1/1 [==============================] - 0s 24ms/step\n",
            "1/1 [==============================] - 0s 25ms/step\n",
            "1/1 [==============================] - 0s 23ms/step\n",
            "1/1 [==============================] - 0s 27ms/step\n",
            "1/1 [==============================] - 0s 23ms/step\n",
            "1/1 [==============================] - 0s 24ms/step\n",
            "1/1 [==============================] - 0s 25ms/step\n",
            "1/1 [==============================] - 0s 24ms/step\n",
            "1/1 [==============================] - 0s 24ms/step\n",
            "1/1 [==============================] - 0s 25ms/step\n",
            "1/1 [==============================] - 0s 24ms/step\n",
            "1/1 [==============================] - 0s 24ms/step\n",
            "1/1 [==============================] - 0s 23ms/step\n",
            "1/1 [==============================] - 0s 25ms/step\n",
            "1/1 [==============================] - 0s 25ms/step\n",
            "1/1 [==============================] - 0s 25ms/step\n",
            "1/1 [==============================] - 0s 25ms/step\n",
            "1/1 [==============================] - 0s 24ms/step\n",
            "1/1 [==============================] - 0s 24ms/step\n",
            "1/1 [==============================] - 0s 26ms/step\n",
            "1/1 [==============================] - 0s 24ms/step\n",
            "1/1 [==============================] - 0s 25ms/step\n",
            "1/1 [==============================] - 0s 26ms/step\n",
            "1/1 [==============================] - 0s 24ms/step\n",
            "1/1 [==============================] - 0s 24ms/step\n",
            "1/1 [==============================] - 0s 24ms/step\n",
            "1/1 [==============================] - 0s 25ms/step\n",
            "1/1 [==============================] - 0s 24ms/step\n",
            "1/1 [==============================] - 0s 24ms/step\n",
            "1/1 [==============================] - 0s 24ms/step\n",
            "1/1 [==============================] - 0s 24ms/step\n",
            "1/1 [==============================] - 0s 24ms/step\n",
            "1/1 [==============================] - 0s 24ms/step\n",
            "1/1 [==============================] - 0s 24ms/step\n",
            "1/1 [==============================] - 0s 26ms/step\n",
            "1/1 [==============================] - 0s 26ms/step\n",
            "1/1 [==============================] - 0s 25ms/step\n",
            "1/1 [==============================] - 0s 24ms/step\n",
            "1/1 [==============================] - 0s 24ms/step\n",
            "1/1 [==============================] - 0s 24ms/step\n",
            "1/1 [==============================] - 0s 25ms/step\n",
            "1/1 [==============================] - 0s 24ms/step\n",
            "1/1 [==============================] - 0s 24ms/step\n",
            "1/1 [==============================] - 0s 24ms/step\n",
            "1/1 [==============================] - 0s 24ms/step\n",
            "1/1 [==============================] - 0s 23ms/step\n",
            "1/1 [==============================] - 0s 23ms/step\n",
            "1/1 [==============================] - 0s 23ms/step\n",
            "1/1 [==============================] - 0s 24ms/step\n",
            "1/1 [==============================] - 0s 25ms/step\n",
            "1/1 [==============================] - 0s 24ms/step\n",
            "1/1 [==============================] - 0s 25ms/step\n",
            "1/1 [==============================] - 0s 24ms/step\n",
            "1/1 [==============================] - 0s 25ms/step\n",
            "1/1 [==============================] - 0s 24ms/step\n",
            "1/1 [==============================] - 0s 24ms/step\n",
            "1/1 [==============================] - 0s 24ms/step\n",
            "1/1 [==============================] - 0s 23ms/step\n",
            "1/1 [==============================] - 0s 24ms/step\n",
            "1/1 [==============================] - 0s 24ms/step\n",
            "1/1 [==============================] - 0s 25ms/step\n",
            "1/1 [==============================] - 0s 24ms/step\n",
            "1/1 [==============================] - 0s 24ms/step\n",
            "1/1 [==============================] - 0s 23ms/step\n",
            "1/1 [==============================] - 0s 22ms/step\n",
            "1/1 [==============================] - 0s 24ms/step\n",
            "1/1 [==============================] - 0s 24ms/step\n",
            "1/1 [==============================] - 0s 25ms/step\n",
            "1/1 [==============================] - 0s 24ms/step\n",
            "1/1 [==============================] - 0s 24ms/step\n",
            "1/1 [==============================] - 0s 24ms/step\n",
            "1/1 [==============================] - 0s 23ms/step\n",
            "1/1 [==============================] - 0s 25ms/step\n",
            "1/1 [==============================] - 0s 24ms/step\n",
            "1/1 [==============================] - 0s 24ms/step\n",
            "1/1 [==============================] - 0s 24ms/step\n",
            "1/1 [==============================] - 0s 24ms/step\n",
            "1/1 [==============================] - 0s 24ms/step\n",
            "1/1 [==============================] - 0s 24ms/step\n",
            "1/1 [==============================] - 0s 24ms/step\n",
            "1/1 [==============================] - 0s 24ms/step\n",
            "1/1 [==============================] - 0s 25ms/step\n",
            "1/1 [==============================] - 0s 23ms/step\n",
            "1/1 [==============================] - 0s 25ms/step\n",
            "1/1 [==============================] - 0s 24ms/step\n",
            "1/1 [==============================] - 0s 23ms/step\n",
            "1/1 [==============================] - 0s 24ms/step\n",
            "1/1 [==============================] - 0s 24ms/step\n",
            "1/1 [==============================] - 0s 24ms/step\n",
            "1/1 [==============================] - 0s 23ms/step\n",
            "1/1 [==============================] - 0s 25ms/step\n",
            "1/1 [==============================] - 0s 23ms/step\n",
            "1/1 [==============================] - 0s 24ms/step\n",
            "1/1 [==============================] - 0s 24ms/step\n",
            "1/1 [==============================] - 0s 25ms/step\n",
            "1/1 [==============================] - 0s 23ms/step\n",
            "1/1 [==============================] - 0s 24ms/step\n",
            "1/1 [==============================] - 0s 24ms/step\n",
            "1/1 [==============================] - 0s 23ms/step\n",
            "1/1 [==============================] - 0s 24ms/step\n",
            "1/1 [==============================] - 0s 25ms/step\n",
            "1/1 [==============================] - 0s 23ms/step\n",
            "1/1 [==============================] - 0s 24ms/step\n",
            "1/1 [==============================] - 0s 24ms/step\n",
            "1/1 [==============================] - 0s 25ms/step\n",
            "1/1 [==============================] - 0s 24ms/step\n",
            "1/1 [==============================] - 0s 25ms/step\n",
            "1/1 [==============================] - 0s 25ms/step\n",
            "1/1 [==============================] - 0s 24ms/step\n",
            "1/1 [==============================] - 0s 26ms/step\n",
            "1/1 [==============================] - 0s 23ms/step\n",
            "1/1 [==============================] - 0s 24ms/step\n",
            "1/1 [==============================] - 0s 24ms/step\n",
            "1/1 [==============================] - 0s 23ms/step\n",
            "1/1 [==============================] - 0s 26ms/step\n",
            "1/1 [==============================] - 0s 24ms/step\n",
            "1/1 [==============================] - 0s 25ms/step\n",
            "1/1 [==============================] - 0s 24ms/step\n",
            "1/1 [==============================] - 0s 24ms/step\n",
            "1/1 [==============================] - 0s 25ms/step\n",
            "1/1 [==============================] - 0s 24ms/step\n",
            "1/1 [==============================] - 0s 24ms/step\n",
            "1/1 [==============================] - 0s 24ms/step\n",
            "1/1 [==============================] - 0s 25ms/step\n",
            "1/1 [==============================] - 0s 25ms/step\n",
            "1/1 [==============================] - 0s 23ms/step\n",
            "1/1 [==============================] - 0s 23ms/step\n",
            "1/1 [==============================] - 0s 24ms/step\n",
            "1/1 [==============================] - 0s 24ms/step\n",
            "1/1 [==============================] - 0s 24ms/step\n",
            "1/1 [==============================] - 0s 24ms/step\n",
            "1/1 [==============================] - 0s 25ms/step\n",
            "1/1 [==============================] - 0s 24ms/step\n",
            "1/1 [==============================] - 0s 24ms/step\n",
            "1/1 [==============================] - 0s 26ms/step\n",
            "1/1 [==============================] - 0s 23ms/step\n",
            "1/1 [==============================] - 0s 25ms/step\n",
            "1/1 [==============================] - 0s 23ms/step\n",
            "1/1 [==============================] - 0s 26ms/step\n",
            "1/1 [==============================] - 0s 26ms/step\n",
            "1/1 [==============================] - 0s 24ms/step\n",
            "1/1 [==============================] - 0s 24ms/step\n",
            "1/1 [==============================] - 0s 24ms/step\n",
            "1/1 [==============================] - 0s 24ms/step\n",
            "1/1 [==============================] - 0s 25ms/step\n",
            "1/1 [==============================] - 0s 24ms/step\n",
            "1/1 [==============================] - 0s 25ms/step\n",
            "1/1 [==============================] - 0s 25ms/step\n",
            "1/1 [==============================] - 0s 24ms/step\n",
            "1/1 [==============================] - 0s 23ms/step\n",
            "1/1 [==============================] - 0s 23ms/step\n",
            "1/1 [==============================] - 0s 24ms/step\n",
            "1/1 [==============================] - 0s 25ms/step\n",
            "1/1 [==============================] - 0s 25ms/step\n",
            "1/1 [==============================] - 0s 26ms/step\n",
            "1/1 [==============================] - 0s 26ms/step\n",
            "1/1 [==============================] - 0s 26ms/step\n",
            "1/1 [==============================] - 0s 25ms/step\n",
            "1/1 [==============================] - 0s 25ms/step\n",
            "1/1 [==============================] - 0s 25ms/step\n",
            "1/1 [==============================] - 0s 24ms/step\n",
            "1/1 [==============================] - 0s 24ms/step\n",
            "1/1 [==============================] - 0s 23ms/step\n",
            "1/1 [==============================] - 0s 25ms/step\n",
            "1/1 [==============================] - 0s 23ms/step\n",
            "1/1 [==============================] - 0s 25ms/step\n",
            "1/1 [==============================] - 0s 24ms/step\n",
            "1/1 [==============================] - 0s 25ms/step\n",
            "1/1 [==============================] - 0s 23ms/step\n",
            "1/1 [==============================] - 0s 25ms/step\n",
            "1/1 [==============================] - 0s 25ms/step\n",
            "1/1 [==============================] - 0s 24ms/step\n",
            "1/1 [==============================] - 0s 25ms/step\n",
            "1/1 [==============================] - 0s 25ms/step\n",
            "1/1 [==============================] - 0s 25ms/step\n",
            "1/1 [==============================] - 0s 24ms/step\n",
            "1/1 [==============================] - 0s 23ms/step\n",
            "1/1 [==============================] - 0s 25ms/step\n",
            "1/1 [==============================] - 0s 24ms/step\n",
            "1/1 [==============================] - 0s 24ms/step\n",
            "1/1 [==============================] - 0s 25ms/step\n",
            "1/1 [==============================] - 0s 25ms/step\n",
            "1/1 [==============================] - 0s 26ms/step\n",
            "1/1 [==============================] - 0s 25ms/step\n",
            "1/1 [==============================] - 0s 25ms/step\n",
            "1/1 [==============================] - 0s 26ms/step\n",
            "1/1 [==============================] - 0s 24ms/step\n",
            "1/1 [==============================] - 0s 25ms/step\n",
            "1/1 [==============================] - 0s 27ms/step\n",
            "1/1 [==============================] - 0s 26ms/step\n",
            "1/1 [==============================] - 0s 24ms/step\n",
            "1/1 [==============================] - 0s 24ms/step\n",
            "1/1 [==============================] - 0s 25ms/step\n",
            "1/1 [==============================] - 0s 25ms/step\n",
            "1/1 [==============================] - 0s 25ms/step\n",
            "1/1 [==============================] - 0s 25ms/step\n",
            "1/1 [==============================] - 0s 25ms/step\n",
            "1/1 [==============================] - 0s 24ms/step\n",
            "1/1 [==============================] - 0s 24ms/step\n",
            "1/1 [==============================] - 0s 25ms/step\n",
            "1/1 [==============================] - 0s 25ms/step\n",
            "1/1 [==============================] - 0s 25ms/step\n",
            "1/1 [==============================] - 0s 25ms/step\n",
            "1/1 [==============================] - 0s 24ms/step\n",
            "1/1 [==============================] - 0s 25ms/step\n",
            "1/1 [==============================] - 0s 24ms/step\n",
            "1/1 [==============================] - 0s 24ms/step\n",
            "1/1 [==============================] - 0s 24ms/step\n",
            "1/1 [==============================] - 0s 25ms/step\n",
            "1/1 [==============================] - 0s 26ms/step\n",
            "1/1 [==============================] - 0s 24ms/step\n",
            "1/1 [==============================] - 0s 25ms/step\n",
            "1/1 [==============================] - 0s 24ms/step\n",
            "1/1 [==============================] - 0s 25ms/step\n",
            "1/1 [==============================] - 0s 24ms/step\n",
            "1/1 [==============================] - 0s 24ms/step\n",
            "1/1 [==============================] - 0s 25ms/step\n",
            "1/1 [==============================] - 0s 25ms/step\n",
            "1/1 [==============================] - 0s 25ms/step\n",
            "1/1 [==============================] - 0s 24ms/step\n",
            "1/1 [==============================] - 0s 25ms/step\n",
            "1/1 [==============================] - 0s 25ms/step\n",
            "1/1 [==============================] - 0s 25ms/step\n",
            "1/1 [==============================] - 0s 25ms/step\n",
            "1/1 [==============================] - 0s 25ms/step\n",
            "1/1 [==============================] - 0s 23ms/step\n",
            "1/1 [==============================] - 0s 25ms/step\n",
            "1/1 [==============================] - 0s 23ms/step\n",
            "1/1 [==============================] - 0s 26ms/step\n",
            "1/1 [==============================] - 0s 24ms/step\n",
            "1/1 [==============================] - 0s 25ms/step\n",
            "1/1 [==============================] - 0s 23ms/step\n",
            "1/1 [==============================] - 0s 24ms/step\n",
            "1/1 [==============================] - 0s 23ms/step\n",
            "1/1 [==============================] - 0s 24ms/step\n",
            "1/1 [==============================] - 0s 25ms/step\n",
            "1/1 [==============================] - 0s 24ms/step\n",
            "1/1 [==============================] - 0s 25ms/step\n",
            "1/1 [==============================] - 0s 24ms/step\n",
            "1/1 [==============================] - 0s 22ms/step\n",
            "1/1 [==============================] - 0s 24ms/step\n",
            "1/1 [==============================] - 0s 23ms/step\n",
            "1/1 [==============================] - 0s 23ms/step\n",
            "1/1 [==============================] - 0s 24ms/step\n",
            "1/1 [==============================] - 0s 25ms/step\n",
            "1/1 [==============================] - 0s 25ms/step\n",
            "1/1 [==============================] - 0s 23ms/step\n",
            "1/1 [==============================] - 0s 23ms/step\n",
            "1/1 [==============================] - 0s 22ms/step\n",
            "1/1 [==============================] - 0s 24ms/step\n",
            "1/1 [==============================] - 0s 23ms/step\n",
            "1/1 [==============================] - 0s 25ms/step\n",
            "1/1 [==============================] - 0s 24ms/step\n",
            "1/1 [==============================] - 0s 25ms/step\n",
            "1/1 [==============================] - 0s 22ms/step\n",
            "1/1 [==============================] - 0s 23ms/step\n",
            "1/1 [==============================] - 0s 24ms/step\n",
            "1/1 [==============================] - 0s 23ms/step\n",
            "1/1 [==============================] - 0s 23ms/step\n",
            "1/1 [==============================] - 0s 22ms/step\n",
            "1/1 [==============================] - 0s 23ms/step\n",
            "1/1 [==============================] - 0s 23ms/step\n",
            "1/1 [==============================] - 0s 23ms/step\n",
            "1/1 [==============================] - 0s 23ms/step\n",
            "1/1 [==============================] - 0s 23ms/step\n",
            "1/1 [==============================] - 0s 24ms/step\n",
            "1/1 [==============================] - 0s 22ms/step\n",
            "1/1 [==============================] - 0s 23ms/step\n",
            "1/1 [==============================] - 0s 23ms/step\n",
            "1/1 [==============================] - 0s 23ms/step\n",
            "1/1 [==============================] - 0s 22ms/step\n",
            "1/1 [==============================] - 0s 23ms/step\n",
            "1/1 [==============================] - 0s 35ms/step\n",
            "1/1 [==============================] - 0s 23ms/step\n",
            "1/1 [==============================] - 0s 24ms/step\n",
            "1/1 [==============================] - 0s 21ms/step\n",
            "1/1 [==============================] - 0s 21ms/step\n",
            "1/1 [==============================] - 0s 21ms/step\n",
            "1/1 [==============================] - 0s 22ms/step\n",
            "1/1 [==============================] - 0s 22ms/step\n",
            "1/1 [==============================] - 0s 21ms/step\n",
            "1/1 [==============================] - 0s 21ms/step\n",
            "1/1 [==============================] - 0s 24ms/step\n",
            "1/1 [==============================] - 0s 33ms/step\n",
            "1/1 [==============================] - 0s 31ms/step\n",
            "1/1 [==============================] - 0s 22ms/step\n",
            "1/1 [==============================] - 0s 21ms/step\n",
            "1/1 [==============================] - 0s 20ms/step\n",
            "1/1 [==============================] - 0s 21ms/step\n",
            "1/1 [==============================] - 0s 20ms/step\n",
            "1/1 [==============================] - 0s 21ms/step\n",
            "1/1 [==============================] - 0s 22ms/step\n",
            "1/1 [==============================] - 0s 22ms/step\n",
            "1/1 [==============================] - 0s 26ms/step\n",
            "1/1 [==============================] - 0s 33ms/step\n",
            "1/1 [==============================] - 0s 24ms/step\n",
            "1/1 [==============================] - 0s 22ms/step\n",
            "1/1 [==============================] - 0s 22ms/step\n",
            "1/1 [==============================] - 0s 22ms/step\n",
            "1/1 [==============================] - 0s 21ms/step\n",
            "1/1 [==============================] - 0s 21ms/step\n",
            "1/1 [==============================] - 0s 22ms/step\n",
            "1/1 [==============================] - 0s 21ms/step\n",
            "1/1 [==============================] - 0s 22ms/step\n",
            "1/1 [==============================] - 0s 21ms/step\n",
            "1/1 [==============================] - 0s 21ms/step\n",
            "1/1 [==============================] - 0s 23ms/step\n",
            "1/1 [==============================] - 0s 24ms/step\n",
            "1/1 [==============================] - 0s 22ms/step\n",
            "1/1 [==============================] - 0s 21ms/step\n",
            "1/1 [==============================] - 0s 23ms/step\n",
            "1/1 [==============================] - 0s 22ms/step\n",
            "1/1 [==============================] - 0s 22ms/step\n",
            "1/1 [==============================] - 0s 22ms/step\n",
            "1/1 [==============================] - 0s 21ms/step\n",
            "1/1 [==============================] - 0s 20ms/step\n",
            "1/1 [==============================] - 0s 21ms/step\n",
            "1/1 [==============================] - 0s 21ms/step\n",
            "1/1 [==============================] - 0s 20ms/step\n",
            "1/1 [==============================] - 0s 21ms/step\n",
            "1/1 [==============================] - 0s 21ms/step\n",
            "1/1 [==============================] - 0s 22ms/step\n",
            "1/1 [==============================] - 0s 22ms/step\n",
            "1/1 [==============================] - 0s 22ms/step\n",
            "1/1 [==============================] - 0s 24ms/step\n",
            "1/1 [==============================] - 0s 22ms/step\n",
            "1/1 [==============================] - 0s 22ms/step\n",
            "1/1 [==============================] - 0s 22ms/step\n",
            "1/1 [==============================] - 0s 22ms/step\n",
            "1/1 [==============================] - 0s 21ms/step\n",
            "1/1 [==============================] - 0s 22ms/step\n",
            "1/1 [==============================] - 0s 21ms/step\n",
            "1/1 [==============================] - 0s 23ms/step\n",
            "1/1 [==============================] - 0s 21ms/step\n",
            "1/1 [==============================] - 0s 21ms/step\n",
            "1/1 [==============================] - 0s 21ms/step\n",
            "1/1 [==============================] - 0s 23ms/step\n",
            "1/1 [==============================] - 0s 22ms/step\n",
            "1/1 [==============================] - 0s 21ms/step\n",
            "1/1 [==============================] - 0s 21ms/step\n",
            "1/1 [==============================] - 0s 22ms/step\n",
            "1/1 [==============================] - 0s 21ms/step\n",
            "1/1 [==============================] - 0s 23ms/step\n",
            "1/1 [==============================] - 0s 22ms/step\n",
            "1/1 [==============================] - 0s 21ms/step\n",
            "1/1 [==============================] - 0s 21ms/step\n",
            "1/1 [==============================] - 0s 22ms/step\n",
            "1/1 [==============================] - 0s 22ms/step\n",
            "1/1 [==============================] - 0s 22ms/step\n",
            "1/1 [==============================] - 0s 23ms/step\n",
            "1/1 [==============================] - 0s 22ms/step\n",
            "1/1 [==============================] - 0s 21ms/step\n",
            "1/1 [==============================] - 0s 22ms/step\n",
            "1/1 [==============================] - 0s 22ms/step\n",
            "1/1 [==============================] - 0s 22ms/step\n",
            "1/1 [==============================] - 0s 22ms/step\n",
            "1/1 [==============================] - 0s 21ms/step\n",
            "1/1 [==============================] - 0s 21ms/step\n",
            "1/1 [==============================] - 0s 22ms/step\n",
            "1/1 [==============================] - 0s 22ms/step\n",
            "1/1 [==============================] - 0s 21ms/step\n",
            "1/1 [==============================] - 0s 22ms/step\n",
            "1/1 [==============================] - 0s 22ms/step\n",
            "1/1 [==============================] - 0s 21ms/step\n",
            "1/1 [==============================] - 0s 23ms/step\n",
            "1/1 [==============================] - 0s 22ms/step\n"
          ]
        }
      ]
    },
    {
      "cell_type": "code",
      "source": [
        "translate_dict"
      ],
      "metadata": {
        "colab": {
          "base_uri": "https://localhost:8080/"
        },
        "id": "P0Dw6xag5dUN",
        "outputId": "579c5cee-bf2f-4017-a3a8-f881127feb70"
      },
      "execution_count": null,
      "outputs": [
        {
          "output_type": "execute_result",
          "data": {
            "text/plain": [
              "{'due price dimens use polic  hospit court stationeri evidenti devic ': 'die erst besteh  eingeschlag                                                                        ',\n",
              " 'the locat cave  buda castl hill  uniqu world ': 'die erst besteh  eingeschlag                                                                        ',\n",
              " 'descript design  outer form novelti well purpos thereof ': 'die erst besteh  eingeschlag                                                                        ',\n",
              " 'mr presid  easi react emot hous react emot  react fact ': 'die erst besteh  eingeschlag                                                                        ',\n",
              " 'he ask whether singl member state might request suspens whether done onethird member state ': 'die erst besteh  eingeschlag                                                                        '}"
            ]
          },
          "metadata": {},
          "execution_count": 46
        }
      ]
    }
  ]
}