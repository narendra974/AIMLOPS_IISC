{
  "nbformat": 4,
  "nbformat_minor": 0,
  "metadata": {
    "colab": {
      "provenance": [],
      "collapsed_sections": [
        "ZwBMt6VJGeW-",
        "c1p1JzJWGhvH",
        "Sgh3esHf5Mmn",
        "7FYVCtRh6tvj",
        "ZKHPfHa962C-",
        "_uE1UbuG61cB",
        "eyiLYqgo7Kcv",
        "71-KPDCE7Kc0",
        "y7WAezGP7LX-",
        "-nGbUYoTs29F"
      ],
      "include_colab_link": true
    },
    "kernelspec": {
      "name": "python3",
      "display_name": "Python 3"
    },
    "language_info": {
      "name": "python"
    }
  },
  "cells": [
    {
      "cell_type": "markdown",
      "metadata": {
        "id": "view-in-github",
        "colab_type": "text"
      },
      "source": [
        "<a href=\"https://colab.research.google.com/github/narendra974/AIMLOPS_IISC/blob/main/Assignment_1.ipynb\" target=\"_parent\"><img src=\"https://colab.research.google.com/assets/colab-badge.svg\" alt=\"Open In Colab\"/></a>"
      ]
    },
    {
      "cell_type": "markdown",
      "source": [
        "# Practical AI and MLOps : Assignment 1"
      ],
      "metadata": {
        "id": "WA4bucbhF6wg"
      }
    },
    {
      "cell_type": "markdown",
      "source": [
        "## Import libraries and fetch data"
      ],
      "metadata": {
        "id": "gApLH-475U9w"
      }
    },
    {
      "cell_type": "code",
      "source": [
        "## DO NOT EDIT\n",
        "import numpy as np\n",
        "import pickle\n",
        "\n",
        "!wget --no-check-certificate 'https://docs.google.com/uc?export=download&id=1-4LzDDmpH-v9mIgwDqa6cSF5XrVm-SXg' -O linear_regression.pkl\n",
        "!wget --no-check-certificate 'https://docs.google.com/uc?export=download&id=1-AtCVwrcpgFCvAD3gwkUz812DIxqK338' -O logistic_regression.pkl\n",
        "\n",
        "X1_train, X1_test, Y1_train, Y1_test, X2_train, X2_test, Y2_train, Y2_test = [[] for _ in range(8)]\n",
        "\n",
        "with open(\"/content/linear_regression.pkl\", 'rb') as f:\n",
        "    X1_train, X1_test, Y1_train, Y1_test = pickle.load(f)\n",
        "\n",
        "with open(\"/content/logistic_regression.pkl\", 'rb') as f:\n",
        "    X2_train, X2_test, Y2_train, Y2_test = pickle.load(f)"
      ],
      "metadata": {
        "id": "15YVgp7KNjD8",
        "colab": {
          "base_uri": "https://localhost:8080/"
        },
        "outputId": "c4059209-3226-4a9b-a6b4-ae77e16d18f2"
      },
      "execution_count": 2,
      "outputs": [
        {
          "output_type": "stream",
          "name": "stdout",
          "text": [
            "--2023-08-27 14:38:53--  https://docs.google.com/uc?export=download&id=1-4LzDDmpH-v9mIgwDqa6cSF5XrVm-SXg\n",
            "Resolving docs.google.com (docs.google.com)... 142.251.111.113, 142.251.111.102, 142.251.111.101, ...\n",
            "Connecting to docs.google.com (docs.google.com)|142.251.111.113|:443... connected.\n",
            "HTTP request sent, awaiting response... 303 See Other\n",
            "Location: https://doc-10-0s-docs.googleusercontent.com/docs/securesc/ha0ro937gcuc7l7deffksulhg5h7mbp1/ioq46pnlmaqguhe5h7o98qfqc247cg5t/1693147125000/06549736550030827657/*/1-4LzDDmpH-v9mIgwDqa6cSF5XrVm-SXg?e=download&uuid=1d5a8594-db75-48e3-b25c-cf6b9430f30a [following]\n",
            "Warning: wildcards not supported in HTTP.\n",
            "--2023-08-27 14:38:54--  https://doc-10-0s-docs.googleusercontent.com/docs/securesc/ha0ro937gcuc7l7deffksulhg5h7mbp1/ioq46pnlmaqguhe5h7o98qfqc247cg5t/1693147125000/06549736550030827657/*/1-4LzDDmpH-v9mIgwDqa6cSF5XrVm-SXg?e=download&uuid=1d5a8594-db75-48e3-b25c-cf6b9430f30a\n",
            "Resolving doc-10-0s-docs.googleusercontent.com (doc-10-0s-docs.googleusercontent.com)... 142.251.163.132, 2607:f8b0:4004:c1b::84\n",
            "Connecting to doc-10-0s-docs.googleusercontent.com (doc-10-0s-docs.googleusercontent.com)|142.251.163.132|:443... connected.\n",
            "HTTP request sent, awaiting response... 200 OK\n",
            "Length: 1847 (1.8K) [application/octet-stream]\n",
            "Saving to: ‘linear_regression.pkl’\n",
            "\n",
            "linear_regression.p 100%[===================>]   1.80K  --.-KB/s    in 0s      \n",
            "\n",
            "2023-08-27 14:38:54 (50.2 MB/s) - ‘linear_regression.pkl’ saved [1847/1847]\n",
            "\n",
            "--2023-08-27 14:38:54--  https://docs.google.com/uc?export=download&id=1-AtCVwrcpgFCvAD3gwkUz812DIxqK338\n",
            "Resolving docs.google.com (docs.google.com)... 142.251.111.113, 142.251.111.102, 142.251.111.101, ...\n",
            "Connecting to docs.google.com (docs.google.com)|142.251.111.113|:443... connected.\n",
            "HTTP request sent, awaiting response... 303 See Other\n",
            "Location: https://doc-0o-0s-docs.googleusercontent.com/docs/securesc/ha0ro937gcuc7l7deffksulhg5h7mbp1/espfc123nl73dj6ee4l74a506b1nqu55/1693147125000/06549736550030827657/*/1-AtCVwrcpgFCvAD3gwkUz812DIxqK338?e=download&uuid=1a0030c2-e7d2-4f09-ae81-0a6c1945b369 [following]\n",
            "Warning: wildcards not supported in HTTP.\n",
            "--2023-08-27 14:38:55--  https://doc-0o-0s-docs.googleusercontent.com/docs/securesc/ha0ro937gcuc7l7deffksulhg5h7mbp1/espfc123nl73dj6ee4l74a506b1nqu55/1693147125000/06549736550030827657/*/1-AtCVwrcpgFCvAD3gwkUz812DIxqK338?e=download&uuid=1a0030c2-e7d2-4f09-ae81-0a6c1945b369\n",
            "Resolving doc-0o-0s-docs.googleusercontent.com (doc-0o-0s-docs.googleusercontent.com)... 142.251.163.132, 2607:f8b0:4004:c1b::84\n",
            "Connecting to doc-0o-0s-docs.googleusercontent.com (doc-0o-0s-docs.googleusercontent.com)|142.251.163.132|:443... connected.\n",
            "HTTP request sent, awaiting response... 200 OK\n",
            "Length: 17088 (17K) [application/octet-stream]\n",
            "Saving to: ‘logistic_regression.pkl’\n",
            "\n",
            "logistic_regression 100%[===================>]  16.69K  --.-KB/s    in 0s      \n",
            "\n",
            "2023-08-27 14:38:56 (106 MB/s) - ‘logistic_regression.pkl’ saved [17088/17088]\n",
            "\n"
          ]
        }
      ]
    },
    {
      "cell_type": "code",
      "source": [
        "print(X1_train.shape)\n",
        "print(Y1_train.shape)\n",
        "print(X1_test.shape)\n",
        "print(Y1_test.shape)\n",
        "print(X1_train[:5])\n",
        "print(Y1_train[:5])"
      ],
      "metadata": {
        "colab": {
          "base_uri": "https://localhost:8080/"
        },
        "id": "SVv_KswRK5fT",
        "outputId": "6eb52772-bb6f-45e4-8bd4-713a203daed6"
      },
      "execution_count": 3,
      "outputs": [
        {
          "output_type": "stream",
          "name": "stdout",
          "text": [
            "(70,)\n",
            "(70,)\n",
            "(30,)\n",
            "(30,)\n",
            "[-8.85376401 -2.5895495   8.08186325 -4.97550386  5.49334111]\n",
            "[-624.50354913  -13.24869745  601.2775069  -103.3916406   201.44157479]\n"
          ]
        }
      ]
    },
    {
      "cell_type": "code",
      "source": [
        "### Write your code here\n",
        "## Solve the question using normal equation\n",
        "print('X1_train : ', X1_train[0:4])\n",
        "print('Y1_train : ', Y1_train[0:4])\n",
        "x1_mean = np.sum(X1_train)\n",
        "y1_mean = np.sum(Y1_train)\n",
        "print('x1_mean : ', x1_mean)\n",
        "print('y1_mean : ', y1_mean)\n",
        "x_minus_xmean = X1_train - x1_mean\n",
        "y_minus_ymean = Y1_train - y1_mean\n",
        "print('x_minus_xmean : ', x_minus_xmean[0:4])\n",
        "print('y_minus_ymean : ', y_minus_ymean[0:4])\n",
        "multiply_x_minus_xmean_y_minus_ymean = np.multiply(x_minus_xmean, y_minus_ymean)\n",
        "print('multiply_x_minus_xmean_y_minus_ymean : ', multiply_x_minus_xmean_y_minus_ymean[0:4])\n",
        "sum_multiply_x_minus_xmean_y_minus_ymean = np.sum(multiply_x_minus_xmean_y_minus_ymean)\n",
        "print('sum_multiply_x_minus_xmean_y_minus_ymean : ', sum_multiply_x_minus_xmean_y_minus_ymean)\n",
        "x_minus_xmean_square = np.square(x_minus_xmean)\n",
        "print('x_minus_xmean_square : ', x_minus_xmean_square[0:4])\n",
        "sum_x_minus_xmean_square = np.sum(x_minus_xmean_square)\n",
        "print('sum_x_minus_xmean_square : ', sum_x_minus_xmean_square)\n",
        "slope = sum_multiply_x_minus_xmean_y_minus_ymean / sum_x_minus_xmean_square\n",
        "print('slope : ', slope)\n",
        "intercept = y1_mean - (slope * x1_mean)\n",
        "print('intercept : ', intercept)\n",
        "y_pred_forumla = (slope * X1_test) + intercept\n",
        "print('y_pred_forumla : ',  y_pred_forumla[0:4])\n",
        "y_minus_y_pred_forumla = Y1_test-y_pred_forumla\n",
        "print('y_minus_y_pred_forumla : ',  y_minus_y_pred_forumla[0:4])\n",
        "r_sqaure_formula = np.sum(np.square(y_minus_y_pred_forumla)) / np.sum(np.square(y_minus_ymean))\n",
        "print('r_square_formula : ', r_sqaure_formula)"
      ],
      "metadata": {
        "colab": {
          "base_uri": "https://localhost:8080/"
        },
        "id": "Gz5brvarLvPl",
        "outputId": "3920b338-39ef-4308-8e0f-a7e21da033ae"
      },
      "execution_count": 4,
      "outputs": [
        {
          "output_type": "stream",
          "name": "stdout",
          "text": [
            "X1_train :  [-8.85376401 -2.5895495   8.08186325 -4.97550386]\n",
            "Y1_train :  [-624.50354913  -13.24869745  601.2775069  -103.3916406 ]\n",
            "x1_mean :  55.00686412713032\n",
            "y1_mean :  6889.033503638221\n",
            "x_minus_xmean :  [-63.86062814 -57.59641363 -46.92500088 -59.98236798]\n",
            "y_minus_ymean :  [-7513.53705277 -6902.28220109 -6287.75599674 -6992.42514424]\n",
            "multiply_x_minus_xmean_y_minus_ymean :  [479819.19575744 397546.70061624 295052.95568427 419422.21809021]\n",
            "sum_multiply_x_minus_xmean_y_minus_ymean :  25943883.61525141\n",
            "x_minus_xmean_square :  [4078.17982668 3317.34686256 2201.95570765 3597.88446876]\n",
            "sum_x_minus_xmean_square :  208407.93004937872\n",
            "slope :  124.48606734448371\n",
            "intercept :  41.44531149941031\n",
            "y_pred_forumla :  [  821.78731384  -675.11520111  -703.62117857 -1173.88518517]\n",
            "y_minus_y_pred_forumla :  [-529.90855447  511.77225739  519.05888748  328.92455112]\n",
            "r_square_formula :  0.001482118638354276\n"
          ]
        }
      ]
    },
    {
      "cell_type": "code",
      "source": [
        "from sklearn.linear_model import LinearRegression\n",
        "regressor1 = LinearRegression()\n",
        "regressor1.fit(X1_train.reshape(-1, 1), Y1_train)\n",
        "print('regressor1.coef_ : ', regressor1.coef_)\n",
        "print('regressor1.intercept_ : ', regressor1.intercept_)\n",
        "y_pred_regressor = regressor1.predict(X1_test.reshape(-1, 1))\n",
        "print('y_pred_regressor : ',  y_pred_regressor[0:4])\n",
        "y_minus_y_pred_regressor = Y1_test-y_pred_regressor\n",
        "print('y_minus_y_pred_regressor : ',  y_pred_regressor[0:4])\n",
        "r_sqaure_regressor = np.sum(np.square(y_minus_y_pred_regressor)) / np.sum(np.square(y_minus_ymean))\n",
        "print('r_square_regressor : ', r_sqaure_regressor)"
      ],
      "metadata": {
        "colab": {
          "base_uri": "https://localhost:8080/"
        },
        "id": "dKBNda7rTb-U",
        "outputId": "8015b843-0671-43e1-9e89-03f51dc64372"
      },
      "execution_count": 5,
      "outputs": [
        {
          "output_type": "stream",
          "name": "stdout",
          "text": [
            "regressor1.coef_ :  [65.15344921]\n",
            "regressor1.intercept_ :  47.216379647623285\n",
            "y_pred_regressor :  [ 455.6313461  -327.81666592 -342.73610867 -588.86262487]\n",
            "y_minus_y_pred_regressor :  [ 455.6313461  -327.81666592 -342.73610867 -588.86262487]\n",
            "r_square_regressor :  0.00038617751301733545\n"
          ]
        }
      ]
    },
    {
      "cell_type": "markdown",
      "source": [
        "## Problem 1: Linear Regression (2 Marks)"
      ],
      "metadata": {
        "id": "qMLBBS5ZGWUU"
      }
    },
    {
      "cell_type": "markdown",
      "source": [
        "Train a linear regression model for the above set of data. Use MSE(Mean Squared Error) as the loss function.\n",
        "\n",
        "Print out the train accuracy and test accuracy.\n",
        "\n",
        "**Data**: X1_train, X1_test, Y1_train, Y1_test"
      ],
      "metadata": {
        "id": "QUoMW8UzcLcO"
      }
    },
    {
      "cell_type": "code",
      "source": [
        "## Define the hypothesis function for linear regression\n",
        "\n",
        "## Use linear regression to train the model\n",
        "## Compute the training and testing loss\n",
        "## Print the training and testing loss\n",
        "## update the below two variables to print the model's loss\n",
        "\n",
        "import random\n",
        "\n",
        "def Cost_function(Y,Y_predicted, n):\n",
        "  return (1 / (2 * n)) * np.sum((Y-Y_predicted)**2)\n",
        "\n",
        "def DerErrorWithSlope(Y, Y_predicted, X, n):\n",
        "    return (1 / n) * np.sum(-(Y - Y_predicted) * X)\n",
        "\n",
        "def DerErroeWithBais(Y, Y_predicted, n):\n",
        "     return (1 / n) * np.sum(-(Y - Y_predicted))\n",
        "\n",
        "epoch = 2000\n",
        "learning_rate = 0.001\n",
        "\n",
        "slope =  random.randint(-1000, 1000)\n",
        "intercept = random.randint(1000, 1000)\n",
        "train_errors = []\n",
        "test_errors = []\n",
        "\n",
        "for i in range(epoch):\n",
        "    Y1_train_predicted = slope * X1_train + intercept\n",
        "    train_errors.append(Cost_function(Y1_train, Y1_train_predicted, 70))\n",
        "    Y1_test_predicted = slope * X1_test + intercept\n",
        "    test_errors.append(Cost_function(Y1_test, Y1_test_predicted, 70))\n",
        "    dEWS = DerErrorWithSlope(Y1_train, Y1_train_predicted, X1_train, 70)\n",
        "    dEWB = DerErroeWithBais(Y1_train, Y1_train_predicted, 70)\n",
        "    slope = slope - learning_rate * dEWS\n",
        "    intercept = intercept - learning_rate * dEWB\n",
        "loss_train = train_errors\n",
        "loss_test = test_errors\n",
        "\n",
        "print(\"Linear Regression\")\n",
        "print(\"Training Loss: starting \", loss_train[0])\n",
        "print(\"Training Loss: Ending \", loss_train[-1])\n",
        "print(\"Testing Loss: starting \", loss_test[0])\n",
        "print(\"Testing Loss: Ending \", loss_test[-1])\n",
        "print(\"slope : \", slope)\n",
        "print(\"intercept : \", intercept)\n",
        "\n",
        "import matplotlib.pyplot as plt\n",
        "# plt.plot(train_errors)\n",
        "plt.xlabel(\"Epoch\")\n",
        "plt.ylabel(\"LOSS\")\n",
        "plt.plot(train_errors, label=\"training_loss\")\n",
        "plt.plot(test_errors, label=\"test_loss\")\n",
        "plt.legend(loc='upper center')\n",
        "plt.show()"
      ],
      "metadata": {
        "id": "TrKwRWV8GbO2",
        "colab": {
          "base_uri": "https://localhost:8080/",
          "height": 589
        },
        "outputId": "3947faee-c786-46a0-eadb-c65aa3405076"
      },
      "execution_count": 6,
      "outputs": [
        {
          "output_type": "stream",
          "name": "stdout",
          "text": [
            "Linear Regression\n",
            "Training Loss: starting  12165031.514552472\n",
            "Training Loss: Ending  21663.553511182596\n",
            "Testing Loss: starting  5909611.361592224\n",
            "Testing Loss: Ending  12453.923220249473\n",
            "slope :  62.27257858441942\n",
            "intercept :  182.7445560329559\n"
          ]
        },
        {
          "output_type": "display_data",
          "data": {
            "text/plain": [
              "<Figure size 640x480 with 1 Axes>"
            ],
            "image/png": "[encoded data removed]"
          },
          "metadata": {}
        }
      ]
    },
    {
      "cell_type": "markdown",
      "source": [
        "## Problem 2: Polynomial Regression (2 Marks)\n",
        "\n",
        "Solve the above problem using atleast 3 different hypothesis functions with polynomial degree 2, 3 and 4.\n",
        "\n",
        "Print out the train accuracy and test accuracy. Write your inference on the results.\n",
        "\n",
        "**Data**: X1_train, X1_test, Y1_train, Y1_test"
      ],
      "metadata": {
        "id": "yKbGL0zOGb2l"
      }
    },
    {
      "cell_type": "markdown",
      "source": [
        "### Polynomial Degree 2"
      ],
      "metadata": {
        "id": "XvczoOYN2nxx"
      }
    },
    {
      "cell_type": "code",
      "source": [
        "from pandas.core.algorithms import diff\n",
        "from numpy.lib import polynomial\n",
        "### Write your code here\n",
        "## Define the hypothesis function\n",
        "## Use polynomial regression to train the model\n",
        "## Compute the training and testing loss\n",
        "\n",
        "def transform_X_train(X, polynomial_degree):\n",
        "  size = X.shape[0]\n",
        "  features = polynomial_degree+1\n",
        "  X_features = np.zeros(size * features).reshape(size, features)\n",
        "  for i in range(features):\n",
        "    X_features[:,features-i-1] = np.power(X, i)  ## generating the features X, X^2, ... and bais.\n",
        "  return X_features\n",
        "\n",
        "def predict(X, variables):\n",
        "  return np.sum(np.matmul(X, variables))\n",
        "\n",
        "def calculate_gradients(Y, Y_predicted, X, n):\n",
        "  diff = -(Y.reshape(-1, 1) - Y_predicted)\n",
        "  return (1 / n) * np.sum(diff * X, 0)\n",
        "\n",
        "def compute_loss(Y,Y_predicted, n):\n",
        "  return (1 / (2 * n)) * np.sum((Y-Y_predicted)**2)\n",
        "\n",
        "def train(X1_train, X1_test, degree, epoch, n, learning_rate = 0.01):\n",
        "  variables = np.random.random_sample(size = (degree+1, 1))\n",
        "  X1_train_features = transform_X_train(X1_train, degree)\n",
        "  X1_test_features = transform_X_train(X1_test, degree)\n",
        "  train_errors = []\n",
        "  test_errors = []\n",
        "\n",
        "  for i in range(epoch):\n",
        "    Y1_train_predicted = predict(X1_train_features, variables)\n",
        "    train_errors.append(compute_loss(Y1_train, Y1_train_predicted, n))\n",
        "    Y1_test_predicted = predict(X1_test_features, variables)\n",
        "    test_errors.append(compute_loss(Y1_test, Y1_test_predicted, n))\n",
        "    gradients = calculate_gradients(Y1_train, Y1_train_predicted, X1_train_features, n)\n",
        "    variables = variables - (learning_rate * gradients.T)\n",
        "  return variables, train_errors, test_errors\n",
        "\n",
        "\n",
        "## Print the training and testing loss\n",
        "## update the below two variables to print the model's loss\n",
        "degree = 2\n",
        "loss_train = 0\n",
        "loss_test = 0\n",
        "epoch = 1\n",
        "n = 70\n",
        "\n",
        "# normalization of the data.\n",
        "X1_train_normalized = X1_train / X1_train.max()\n",
        "X1_test_normaized = X1_test / X1_test.max()\n",
        "variables, loss_train, loss_test = train(X1_train_normalized, X1_test_normaized, degree, epoch, n, 0.01)\n",
        "\n",
        "print(\"Polynomial Degree 2 Linear Regression\")\n",
        "print(\"Training Loss: starting \", loss_train[0])\n",
        "print(\"Training Loss: Ending \", loss_train[-1])\n",
        "print(\"Testing Loss: starting \", loss_test[0])\n",
        "print(\"Testing Loss: Ending \", loss_test[-1])\n",
        "print(\"variables : \", variables)\n",
        "\n",
        "import matplotlib.pyplot as plt\n",
        "# plt.plot(train_errors)\n",
        "plt.xlabel(\"Epoch\")\n",
        "plt.ylabel(\"LOSS\")\n",
        "plt.plot(train_errors, label=\"training_loss\")\n",
        "plt.plot(test_errors, label=\"test_loss\")\n",
        "plt.legend(loc='upper center')\n",
        "plt.show()"
      ],
      "metadata": {
        "id": "gqbgoOnQGeCW",
        "colab": {
          "base_uri": "https://localhost:8080/",
          "height": 607
        },
        "outputId": "cc850d66-589d-424e-d27c-50f3242b245f"
      },
      "execution_count": 42,
      "outputs": [
        {
          "output_type": "stream",
          "name": "stdout",
          "text": [
            "Polynomial Degree 2 Linear Regression\n",
            "Training Loss: starting  92258.50482869222\n",
            "Training Loss: Ending  109949.78295280172\n",
            "Testing Loss: starting  56241.29062353661\n",
            "Testing Loss: Ending  54213.87244340328\n",
            "variables :  [[-19970.12824546 115098.14863702 -95126.5642225 ]\n",
            " [-19969.39903778 115098.87784471 -95125.83501481]\n",
            " [-19969.52255695 115098.75432553 -95125.95853398]]\n"
          ]
        },
        {
          "output_type": "display_data",
          "data": {
            "text/plain": [
              "<Figure size 640x480 with 1 Axes>"
            ],
            "image/png": "[encoded data removed]"
          },
          "metadata": {}
        }
      ]
    },
    {
      "cell_type": "code",
      "source": [
        "print(X1_train.shape[0])"
      ],
      "metadata": {
        "colab": {
          "base_uri": "https://localhost:8080/"
        },
        "id": "uq8bZx6Sbhwu",
        "outputId": "42fd8ea7-7b5c-4a16-fb0f-75e95135dc54"
      },
      "execution_count": 7,
      "outputs": [
        {
          "output_type": "stream",
          "name": "stdout",
          "text": [
            "70\n"
          ]
        }
      ]
    },
    {
      "cell_type": "markdown",
      "source": [
        "### Polynomial Degree 3"
      ],
      "metadata": {
        "id": "_ct7OydN3ipg"
      }
    },
    {
      "cell_type": "code",
      "source": [
        "### Write your code here\n",
        "## Define the hypothesis function\n",
        "\n",
        "\n",
        "\n",
        "## Use polynomial regression to train the model\n",
        "\n",
        "\n",
        "\n",
        "## Compute the training and testing loss\n",
        "\n",
        "\n",
        "\n",
        "## Print the training and testing loss\n",
        "## update the below two variables to print the model's loss\n",
        "loss_train = 0\n",
        "loss_test = 0\n",
        "\n",
        "print(\"Polynomial Degree 3\")\n",
        "print(\"Training Loss: \", loss_train)\n",
        "print(\"Testing  Loss: \", loss_test)"
      ],
      "metadata": {
        "id": "X3pKkHvh2yS3",
        "colab": {
          "base_uri": "https://localhost:8080/"
        },
        "outputId": "568cdd17-5ab2-4a49-c5ce-1561f90166fb"
      },
      "execution_count": null,
      "outputs": [
        {
          "output_type": "stream",
          "name": "stdout",
          "text": [
            "Polynomial Degree 3\n",
            "Training Accuracy:  0\n",
            "Testing  Accuracy:  0\n"
          ]
        }
      ]
    },
    {
      "cell_type": "markdown",
      "source": [
        "### Polynomial Degree 4"
      ],
      "metadata": {
        "id": "KNPJfmG93nvQ"
      }
    },
    {
      "cell_type": "code",
      "source": [
        "### Write your code here\n",
        "## Define the hypothesis function\n",
        "\n",
        "\n",
        "\n",
        "## Use polynomial regression to train the model\n",
        "\n",
        "\n",
        "\n",
        "## Compute the training and testing loss\n",
        "\n",
        "\n",
        "\n",
        "## Print the training and testing loss\n",
        "## update the below two variables to print the model's loss\n",
        "loss_train = 0\n",
        "loss_test = 0\n",
        "\n",
        "print(\"Polynomial Degree 4\")\n",
        "print(\"Training Loss: \", loss_train)\n",
        "print(\"Testing  Loss: \", loss_test)"
      ],
      "metadata": {
        "id": "mMHzekphGhcH",
        "colab": {
          "base_uri": "https://localhost:8080/"
        },
        "outputId": "9fa73ced-500f-4a63-a57b-81fe6016d735"
      },
      "execution_count": null,
      "outputs": [
        {
          "output_type": "stream",
          "name": "stdout",
          "text": [
            "Polynomial Degree 4\n",
            "Training Accuracy:  0\n",
            "Testing  Accuracy:  0\n"
          ]
        }
      ]
    },
    {
      "cell_type": "markdown",
      "source": [
        "### Inference\n",
        "\n",
        "*Write your inference here*\n",
        "\n",
        "..."
      ],
      "metadata": {
        "id": "W1Metdx-4esF"
      }
    },
    {
      "cell_type": "markdown",
      "source": [
        "## Problem 3: Overfitting and Underfitting (2 Marks)\n",
        "\n",
        "**Let us say we have a dataset with little noise. Then a model is underfitting when:**\n",
        "\n",
        "a) both the train and test errors are high\n",
        "\n",
        "b) train error is low but test error is high\n",
        "\n",
        "c) train error is high but the test error is low\n",
        "\n",
        "d) both train and test errors are low\n",
        "\n",
        "\n",
        "**If we choose the parameters of a model to get the best overfitting/underfitting tradeoff, we will always get a zero test error.**\n",
        "\n",
        "a) True\n",
        "\n",
        "b) False\n",
        "\n",
        "\n",
        "**State which of the below statements is false with respect to underfitting vs overfitting.**\n",
        "\n",
        "a) If the training set performance is roughly equal, underfitting is generally better.\n",
        "\n",
        "b) An underfit model is simpler and can usually be improved by looking at where it fits badly.\n",
        "\n",
        "c) An overfit model is often easier to change because it is easy to know where to start simplifying.\n",
        "\n",
        "d) Neither overfitting nor underfitting is desirable.\n"
      ],
      "metadata": {
        "id": "ZwBMt6VJGeW-"
      }
    },
    {
      "cell_type": "code",
      "source": [
        "## Write your answers below\n",
        "\n",
        "\n"
      ],
      "metadata": {
        "id": "j73yX9Xj37rv"
      },
      "execution_count": null,
      "outputs": []
    },
    {
      "cell_type": "markdown",
      "source": [
        "## Problem 4: Regularization (2 Marks)\n",
        "\n",
        "Solve the problem using regularization (Lasso, Ridge and Elastic net) on the 3 polynomial functions defined in **Problem 2**.\n",
        "\n",
        "Print out the train and test accuracy. Write your inference on the results\n",
        "\n",
        "**Data**: X1_train, X1_test, Y1_train, Y1_test\n"
      ],
      "metadata": {
        "id": "c1p1JzJWGhvH"
      }
    },
    {
      "cell_type": "markdown",
      "source": [
        "### Polynomial Degree 2"
      ],
      "metadata": {
        "id": "Sgh3esHf5Mmn"
      }
    },
    {
      "cell_type": "markdown",
      "source": [
        "#### Lasso Regularization"
      ],
      "metadata": {
        "id": "7FYVCtRh6tvj"
      }
    },
    {
      "cell_type": "code",
      "source": [
        "### Write your code here\n",
        "## Define a new hypothesis function by adding a Lasso regularizer\n",
        "## to the 2nd order hypothesis function that you defined earlier\n",
        "\n",
        "\n",
        "\n",
        "## Use polynomial regression to train the model\n",
        "\n",
        "\n",
        "\n",
        "## Compute the training and testing accuracy\n",
        "\n",
        "\n",
        "\n",
        "## Print the training and testing accuracy\n",
        "## update the below two variables to print the model's accuracy\n",
        "accuracy_train = 0\n",
        "accuracy_test = 0\n",
        "\n",
        "print(\"Polynomial Degree 2 : Lasso Regularization\")\n",
        "print(\"Training Accuracy: \", accuracy_train)\n",
        "print(\"Testing  Accuracy: \", accuracy_test)"
      ],
      "metadata": {
        "id": "hqiE5Hij5Mmt",
        "colab": {
          "base_uri": "https://localhost:8080/"
        },
        "outputId": "653d8559-934c-46ad-9623-fdbbab05318b"
      },
      "execution_count": null,
      "outputs": [
        {
          "output_type": "stream",
          "name": "stdout",
          "text": [
            "Polynomial Degree 2 : Lasso Regularization\n",
            "Training Accuracy:  0\n",
            "Testing  Accuracy:  0\n"
          ]
        }
      ]
    },
    {
      "cell_type": "markdown",
      "source": [
        "#### Ridge Regularization"
      ],
      "metadata": {
        "id": "ZKHPfHa962C-"
      }
    },
    {
      "cell_type": "code",
      "source": [
        "### Write your code here\n",
        "## Define a new hypothesis function by adding a Ridge regularizer\n",
        "## to the 2nd order hypothesis function that you defined earlier\n",
        "\n",
        "\n",
        "\n",
        "## Use polynomial regression to train the model\n",
        "\n",
        "\n",
        "\n",
        "## Compute the training and testing accuracy\n",
        "\n",
        "\n",
        "\n",
        "## Print the training and testing accuracy\n",
        "## update the below two variables to print the model's accuracy\n",
        "accuracy_train = 0\n",
        "accuracy_test = 0\n",
        "\n",
        "print(\"Polynomial Degree 2 : Ridge Regularization\")\n",
        "print(\"Training Accuracy: \", accuracy_train)\n",
        "print(\"Testing  Accuracy: \", accuracy_test)"
      ],
      "metadata": {
        "id": "tg6Xqhrt62DA",
        "colab": {
          "base_uri": "https://localhost:8080/"
        },
        "outputId": "a5098dfc-4c69-48b9-b487-b296c11732ce"
      },
      "execution_count": null,
      "outputs": [
        {
          "output_type": "stream",
          "name": "stdout",
          "text": [
            "Polynomial Degree 2 : Ridge Regularization\n",
            "Training Accuracy:  0\n",
            "Testing  Accuracy:  0\n"
          ]
        }
      ]
    },
    {
      "cell_type": "markdown",
      "source": [
        "#### Elastic net Regularization"
      ],
      "metadata": {
        "id": "_uE1UbuG61cB"
      }
    },
    {
      "cell_type": "code",
      "source": [
        "### Write your code here\n",
        "## Define a new hypothesis function by adding a Elastic net regularizer\n",
        "## to the 2nd order hypothesis function that you defined earlier\n",
        "\n",
        "\n",
        "\n",
        "## Use polynomial regression to train the model\n",
        "\n",
        "\n",
        "\n",
        "## Compute the training and testing accuracy\n",
        "\n",
        "\n",
        "\n",
        "## Print the training and testing accuracy\n",
        "## update the below two variables to print the model's accuracy\n",
        "accuracy_train = 0\n",
        "accuracy_test = 0\n",
        "\n",
        "print(\"Polynomial Degree 2 : Elastic net Regularization\")\n",
        "print(\"Training Accuracy: \", accuracy_train)\n",
        "print(\"Testing  Accuracy: \", accuracy_test)"
      ],
      "metadata": {
        "id": "0Hu8O10s61cG",
        "colab": {
          "base_uri": "https://localhost:8080/"
        },
        "outputId": "7a180bed-b09a-46f7-e041-5f739f64cac3"
      },
      "execution_count": null,
      "outputs": [
        {
          "output_type": "stream",
          "name": "stdout",
          "text": [
            "Polynomial Degree 2 : Elastic net Regularization\n",
            "Training Accuracy:  0\n",
            "Testing  Accuracy:  0\n"
          ]
        }
      ]
    },
    {
      "cell_type": "markdown",
      "source": [
        "### Polynomial Degree 3\n",
        "\n",
        "---\n",
        "\n"
      ],
      "metadata": {
        "id": "eyiLYqgo7Kcv"
      }
    },
    {
      "cell_type": "markdown",
      "source": [
        "#### Lasso Regularization"
      ],
      "metadata": {
        "id": "71-KPDCE7Kc0"
      }
    },
    {
      "cell_type": "code",
      "source": [
        "### Write your code here\n",
        "## Define a new hypothesis function by adding a Lasso regularizer\n",
        "## to the 3rd order hypothesis function that you defined earlier\n",
        "\n",
        "\n",
        "\n",
        "## Use polynomial regression to train the model\n",
        "\n",
        "\n",
        "\n",
        "## Compute the training and testing accuracy\n",
        "\n",
        "\n",
        "\n",
        "## Print the training and testing accuracy\n",
        "## update the below two variables to print the model's accuracy\n",
        "accuracy_train = 0\n",
        "accuracy_test = 0\n",
        "\n",
        "print(\"Polynomial Degree 3 : Lasso Regularization\")\n",
        "print(\"Training Accuracy: \", accuracy_train)\n",
        "print(\"Testing  Accuracy: \", accuracy_test)"
      ],
      "metadata": {
        "id": "gyC3E9SM7Kc1",
        "colab": {
          "base_uri": "https://localhost:8080/"
        },
        "outputId": "33f66e75-9622-49bb-ebb7-f81117d4eb1a"
      },
      "execution_count": null,
      "outputs": [
        {
          "output_type": "stream",
          "name": "stdout",
          "text": [
            "Polynomial Degree 3 : Lasso Regularization\n",
            "Training Accuracy:  0\n",
            "Testing  Accuracy:  0\n"
          ]
        }
      ]
    },
    {
      "cell_type": "markdown",
      "source": [
        "#### Ridge Regularization"
      ],
      "metadata": {
        "id": "Lej8AznZ7Kc3"
      }
    },
    {
      "cell_type": "code",
      "source": [
        "### Write your code here\n",
        "## Define a new hypothesis function by adding a Ridge regularizer\n",
        "## to the 3rd order hypothesis function that you defined earlier\n",
        "\n",
        "\n",
        "\n",
        "## Use polynomial regression to train the model\n",
        "\n",
        "\n",
        "\n",
        "## Compute the training and testing accuracy\n",
        "\n",
        "\n",
        "\n",
        "## Print the training and testing accuracy\n",
        "## update the below two variables to print the model's accuracy\n",
        "accuracy_train = 0\n",
        "accuracy_test = 0\n",
        "\n",
        "print(\"Polynomial Degree 3 : Ridge Regularization\")\n",
        "print(\"Training Accuracy: \", accuracy_train)\n",
        "print(\"Testing  Accuracy: \", accuracy_test)"
      ],
      "metadata": {
        "id": "Z2VyClSM7Kc3",
        "colab": {
          "base_uri": "https://localhost:8080/"
        },
        "outputId": "5daaea03-b31b-49e7-cfc7-7964be1a5603"
      },
      "execution_count": null,
      "outputs": [
        {
          "output_type": "stream",
          "name": "stdout",
          "text": [
            "Polynomial Degree 3 : Ridge Regularization\n",
            "Training Accuracy:  0\n",
            "Testing  Accuracy:  0\n"
          ]
        }
      ]
    },
    {
      "cell_type": "markdown",
      "source": [
        "#### Elastic net Regularization"
      ],
      "metadata": {
        "id": "MFw7cIot7Kc4"
      }
    },
    {
      "cell_type": "code",
      "source": [
        "### Write your code here\n",
        "## Define a new hypothesis function by adding a Elastic net regularizer\n",
        "## to the 3rd order hypothesis function that you defined earlier\n",
        "\n",
        "\n",
        "\n",
        "## Use polynomial regression to train the model\n",
        "\n",
        "\n",
        "\n",
        "## Compute the training and testing accuracy\n",
        "\n",
        "\n",
        "\n",
        "## Print the training and testing accuracy\n",
        "## update the below two variables to print the model's accuracy\n",
        "accuracy_train = 0\n",
        "accuracy_test = 0\n",
        "\n",
        "print(\"Polynomial Degree 3 : Elastic net Regularization\")\n",
        "print(\"Training Accuracy: \", accuracy_train)\n",
        "print(\"Testing  Accuracy: \", accuracy_test)"
      ],
      "metadata": {
        "id": "Zo-WrnJv7Kc4",
        "colab": {
          "base_uri": "https://localhost:8080/"
        },
        "outputId": "dd809dae-b977-487a-d085-fef5adc828a7"
      },
      "execution_count": null,
      "outputs": [
        {
          "output_type": "stream",
          "name": "stdout",
          "text": [
            "Polynomial Degree 3 : Elastic net Regularization\n",
            "Training Accuracy:  0\n",
            "Testing  Accuracy:  0\n"
          ]
        }
      ]
    },
    {
      "cell_type": "markdown",
      "source": [
        "### Polynomial Degree 4"
      ],
      "metadata": {
        "id": "y7WAezGP7LX-"
      }
    },
    {
      "cell_type": "markdown",
      "source": [
        "#### Lasso Regularization"
      ],
      "metadata": {
        "id": "5HJW1wl-7LX_"
      }
    },
    {
      "cell_type": "code",
      "source": [
        "### Write your code here\n",
        "## Define a new hypothesis function by adding a Lasso regularizer\n",
        "## to the 4th order hypothesis function that you defined earlier\n",
        "\n",
        "\n",
        "\n",
        "## Use polynomial regression to train the model\n",
        "\n",
        "\n",
        "\n",
        "## Compute the training and testing accuracy\n",
        "\n",
        "\n",
        "\n",
        "## Print the training and testing accuracy\n",
        "## update the below two variables to print the model's accuracy\n",
        "accuracy_train = 0\n",
        "accuracy_test = 0\n",
        "\n",
        "print(\"Polynomial Degree 4 : Lasso Regularization\")\n",
        "print(\"Training Accuracy: \", accuracy_train)\n",
        "print(\"Testing  Accuracy: \", accuracy_test)"
      ],
      "metadata": {
        "id": "YkIJpStm7LYA",
        "colab": {
          "base_uri": "https://localhost:8080/"
        },
        "outputId": "74dea540-c058-4119-8d28-0d919ac94f4c"
      },
      "execution_count": null,
      "outputs": [
        {
          "output_type": "stream",
          "name": "stdout",
          "text": [
            "Polynomial Degree 4 : Lasso Regularization\n",
            "Training Accuracy:  0\n",
            "Testing  Accuracy:  0\n"
          ]
        }
      ]
    },
    {
      "cell_type": "markdown",
      "source": [
        "#### Ridge Regularization"
      ],
      "metadata": {
        "id": "1dReUsBK7LYB"
      }
    },
    {
      "cell_type": "code",
      "source": [
        "### Write your code here\n",
        "## Define a new hypothesis function by adding a Ridge regularizer\n",
        "## to the 4th order hypothesis function that you defined earlier\n",
        "\n",
        "\n",
        "\n",
        "## Use polynomial regression to train the model\n",
        "\n",
        "\n",
        "\n",
        "## Compute the training and testing accuracy\n",
        "\n",
        "\n",
        "\n",
        "## Print the training and testing accuracy\n",
        "## update the below two variables to print the model's accuracy\n",
        "accuracy_train = 0\n",
        "accuracy_test = 0\n",
        "\n",
        "print(\"Polynomial Degree 4 : Ridge Regularization\")\n",
        "print(\"Training Accuracy: \", accuracy_train)\n",
        "print(\"Testing  Accuracy: \", accuracy_test)"
      ],
      "metadata": {
        "id": "CgKlKFvM7LYB",
        "colab": {
          "base_uri": "https://localhost:8080/"
        },
        "outputId": "179023b8-afe8-4a8a-b23c-b8c828eeb1d3"
      },
      "execution_count": null,
      "outputs": [
        {
          "output_type": "stream",
          "name": "stdout",
          "text": [
            "Polynomial Degree 4 : Ridge Regularization\n",
            "Training Accuracy:  0\n",
            "Testing  Accuracy:  0\n"
          ]
        }
      ]
    },
    {
      "cell_type": "markdown",
      "source": [
        "#### Elastic net Regularization"
      ],
      "metadata": {
        "id": "HgkNRup17LYC"
      }
    },
    {
      "cell_type": "code",
      "source": [
        "### Write your code here\n",
        "## Define a new hypothesis function by adding a Elastic net regularizer\n",
        "## to the 4th order hypothesis function that you defined earlier\n",
        "\n",
        "\n",
        "\n",
        "## Use polynomial regression to train the model\n",
        "\n",
        "\n",
        "\n",
        "## Compute the training and testing accuracy\n",
        "\n",
        "\n",
        "\n",
        "## Print the training and testing accuracy\n",
        "## update the below two variables to print the model's accuracy\n",
        "accuracy_train = 0\n",
        "accuracy_test = 0\n",
        "\n",
        "print(\"Polynomial Degree 4 : Elastic net Regularization\")\n",
        "print(\"Training Accuracy: \", accuracy_train)\n",
        "print(\"Testing  Accuracy: \", accuracy_test)"
      ],
      "metadata": {
        "id": "CEYHNkcU7LYC",
        "colab": {
          "base_uri": "https://localhost:8080/"
        },
        "outputId": "7686df4d-d818-47f1-d6ed-dea557408f9a"
      },
      "execution_count": null,
      "outputs": [
        {
          "output_type": "stream",
          "name": "stdout",
          "text": [
            "Polynomial Degree 4 : Elastic net Regularization\n",
            "Training Accuracy:  0\n",
            "Testing  Accuracy:  0\n"
          ]
        }
      ]
    },
    {
      "cell_type": "markdown",
      "source": [],
      "metadata": {
        "id": "m-yrbklZj3Tg"
      }
    },
    {
      "cell_type": "markdown",
      "source": [
        "### Inference\n",
        "\n",
        "*Write your inference here*\n",
        "\n",
        "..."
      ],
      "metadata": {
        "id": "4N5dzLiF8VEc"
      }
    },
    {
      "cell_type": "markdown",
      "source": [
        "## Problem 5: Logistic Regression (2 Marks)\n",
        "\n",
        "Train a logistic regression model.\n",
        "Print the F1 score, accuracy and confusion matrix for both training and testing.\n",
        "\n",
        "**Data**: X2_train, X2_test, Y2_train, Y2_test"
      ],
      "metadata": {
        "id": "-nGbUYoTs29F"
      }
    },
    {
      "cell_type": "code",
      "source": [
        "### Write your code here\n",
        "\n",
        "\n",
        "\n",
        "## Compute f1 score, accuracy and confusion matrix for both training and testing\n",
        "\n",
        "\n",
        "\n",
        "## Print the above computed metrics\n",
        "accuracy_train = 0\n",
        "f1_train = 0\n",
        "cf_train = [] # confusion matrix\n",
        "accuracy_test = 0\n",
        "f1_test = 0\n",
        "cf_test = [] # confusion matrix\n",
        "\n",
        "\n",
        "print(\"Logistic Regression\")\n",
        "print(\"Training Accuracy: \", accuracy_train)\n",
        "print(\"Training F1 score: \", f1_train)\n",
        "print(\"Training confusion matrix: \")\n",
        "print(cf_train)\n",
        "\n",
        "print(\"Testing  Accuracy: \", accuracy_test)\n",
        "print(\"Testing  F1 score: \", f1_test)\n",
        "print(\"Testing  confusion matrix: \")\n",
        "print(cf_test)"
      ],
      "metadata": {
        "id": "bj3P6o5ws9am"
      },
      "execution_count": null,
      "outputs": []
    }
  ]
}